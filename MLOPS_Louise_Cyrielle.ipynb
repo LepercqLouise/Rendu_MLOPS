{
 "cells": [
  {
   "cell_type": "markdown",
   "metadata": {},
   "source": [
    "# Packages"
   ]
  },
  {
   "cell_type": "code",
   "execution_count": 118,
   "metadata": {},
   "outputs": [],
   "source": [
    "import pandas as pd\n",
    "import matplotlib.pyplot as plt\n",
    "import seaborn as sns\n",
    "import numpy as np\n",
    "from fanalysis.mca import MCA\n",
    "from scipy.stats import chi2_contingency\n",
    "from sklearn.model_selection import train_test_split\n",
    "from sklearn.preprocessing import OneHotEncoder\n",
    "from sklearn.compose import ColumnTransformer\n",
    "from sklearn.linear_model import LogisticRegression\n",
    "from sklearn.ensemble import RandomForestClassifier\n",
    "from sklearn.metrics import confusion_matrix\n",
    "from sklearn.neighbors import KNeighborsClassifier\n",
    "import scipy"
   ]
  },
  {
   "cell_type": "markdown",
   "metadata": {},
   "source": [
    "# Utilisation du module functions"
   ]
  },
  {
   "cell_type": "code",
   "execution_count": 119,
   "metadata": {},
   "outputs": [],
   "source": [
    "from mlops_functions import functions\n",
    "from mlops_functions import stats"
   ]
  },
  {
   "cell_type": "markdown",
   "metadata": {},
   "source": [
    "# Lecture de données"
   ]
  },
  {
   "cell_type": "code",
   "execution_count": 120,
   "metadata": {},
   "outputs": [],
   "source": [
    "from mlops_functions.functions import load_data\n",
    "\n",
    "# Louise\n",
    "#base = functions.load_data(\"//ad.univ-lille.fr/Etudiants/Homedir3/147794/Documents/M2/Rendu_MLOPS/athlete_events.csv\")\n",
    "\n",
    "\n",
    "# Cyrielle\n",
    "base = functions.load_data(\"/Users/Cyrie/OneDrive/Bureau/M2_DS/S1/MLOPS/Rendu_MLOPS/athlete_events.csv\")\n"
   ]
  },
  {
   "cell_type": "markdown",
   "metadata": {},
   "source": [
    "# Filtre sur Summer"
   ]
  },
  {
   "cell_type": "code",
   "execution_count": 121,
   "metadata": {},
   "outputs": [],
   "source": [
    "from mlops_functions.functions import filter_summer_season\n",
    "# Filtre sur la saison d'été\n",
    "base_summer = functions.filter_summer_season(base)\n"
   ]
  },
  {
   "cell_type": "markdown",
   "metadata": {},
   "source": [
    "# Valeurs manquantes et abbérantes du df base_summer"
   ]
  },
  {
   "cell_type": "code",
   "execution_count": null,
   "metadata": {},
   "outputs": [],
   "source": [
    "#valeurs manquantes pour le df base summer\n",
    "valeurs_manquantes_par_variable1 = base_summer.isnull().sum()\n",
    "\n",
    "# Affichage du résultat pour le df base summer\n",
    "print(valeurs_manquantes_par_variable1)"
   ]
  },
  {
   "cell_type": "code",
   "execution_count": null,
   "metadata": {},
   "outputs": [],
   "source": [
    "#valeur abbérentes\n",
    "# Création de la figure et des axes\n",
    "plt.figure(figsize=(8, 6))\n",
    "\n",
    "###################AGE#####################\n",
    "# Création de la boîte à moustaches \n",
    "sns.boxplot(x=base_summer['Medal'], y=base_summer['Age'], color='#008030')\n",
    "\n",
    "# Titres et labels\n",
    "plt.title('Boîte à moustaches de la variable age selon la médaille')\n",
    "plt.xlabel('Médaille')\n",
    "plt.show()\n",
    "\n",
    "###################Height####################\n",
    "# Création de la boîte à moustaches \n",
    "sns.boxplot(x=base_summer['Medal'], y=base_summer['Height'], color='#008080')\n",
    "\n",
    "# Titres et labels\n",
    "plt.title('Boîte à moustaches de la variable taille selon la médaille')\n",
    "plt.xlabel('Médaille')\n",
    "plt.show()\n",
    "\n",
    "\n",
    "###################Weight####################\n",
    "# Création de la boîte à moustaches \n",
    "sns.boxplot(x=base_summer['Medal'], y=base_summer['Weight'], color='#008030')\n",
    "\n",
    "# Titres et labels\n",
    "plt.title('Boîte à moustaches de la variable poids selon la médaille')\n",
    "plt.xlabel('Médaille')\n",
    "plt.show()\n",
    "\n",
    "\n"
   ]
  },
  {
   "cell_type": "code",
   "execution_count": null,
   "metadata": {},
   "outputs": [],
   "source": [
    "#lecture des valeurs abbérantes\n",
    "# Filtre sur les enregistrements où l'âge est supérieur à 40 et inférieur à 11 ans\n",
    "base_summer_age_11_40 = base_summer[(base_summer['Age'] > 40) | (base_summer['Age'] < 11)]\n",
    "print(\"DataFrame pour l'âge entre 11 et 40 ans inclus:\")\n",
    "print(base_summer_age_11_40)\n",
    "\n",
    "# Filtre sur les enregistrements où la taille est inférieure à 145 cm et supérieure à 210 cm\n",
    "base_summer_height_145_210 = base_summer[(base_summer['Height'] > 210) | (base_summer['Height'] < 145)]\n",
    "print(\"\\nDataFrame pour la taille entre 145 et 210 cm inclus:\")\n",
    "print(base_summer_height_145_210)\n",
    "\n",
    "# Filtre sur les enregistrements où le poids est inférieur à 35 kg et supérieur à 118 kg\n",
    "base_summer_weight_35_118 = base_summer[(base_summer['Weight'] > 118) | (base_summer['Weight'] < 35)]\n",
    "print(\"\\nDataFrame pour le poids entre 35 et 118 kg inclus:\")\n",
    "print(base_summer_weight_35_118)\n"
   ]
  },
  {
   "cell_type": "markdown",
   "metadata": {},
   "source": [
    "# Regroupements"
   ]
  },
  {
   "cell_type": "code",
   "execution_count": null,
   "metadata": {},
   "outputs": [],
   "source": [
    "#voir la répartiton des variables quantitatives avant le regroupement\n",
    "###################YEAR####################\n",
    "plt.figure(figsize=(8, 6))\n",
    "sns.histplot(base_summer['Year'], bins=30, kde=True, color='#008030', stat='density', element='bars', common_norm=False)  # Utilisation du code hexadécimal pour un bleu canard foncé\n",
    "sns.kdeplot(base_summer['Year'], color='red', linewidth=2)  # Courbe KDE en rouge\n",
    "plt.title('Répartition de la variable année ')\n",
    "plt.xlabel('Année')\n",
    "plt.ylabel('Densité')\n",
    "plt.show()\n",
    "\n",
    "###################AGE#####################\n",
    "plt.figure(figsize=(8, 6))\n",
    "sns.histplot(base_summer['Age'], bins=30, kde=True, color='#008080', stat='density', element='bars', common_norm=False)  # Utilisation du code hexadécimal pour un bleu canard foncé\n",
    "sns.kdeplot(base_summer['Age'], color='red', linewidth=2)  # Courbe KDE en rouge\n",
    "plt.title('Répartition de la variable age ')\n",
    "plt.xlabel('Age')\n",
    "plt.ylabel('Densité')\n",
    "plt.show()\n",
    "\n",
    "###################HEIGHT#####################\n",
    "plt.figure(figsize=(8, 6))\n",
    "sns.histplot(base_summer['Height'], bins=30, kde=True, color='#008030', stat='density', element='bars', common_norm=False)  # Utilisation du code hexadécimal pour un bleu canard foncé\n",
    "sns.kdeplot(base_summer['Height'], color='red', linewidth=2)  # Courbe KDE en rouge\n",
    "plt.title('Répartition de la variable taille ')\n",
    "plt.xlabel('Taille')\n",
    "plt.ylabel('Densité')\n",
    "plt.show()\n",
    "\n",
    "###################WEIGHT#####################\n",
    "plt.figure(figsize=(8, 6))\n",
    "sns.histplot(base_summer['Weight'], bins=30, kde=True, color='#008030', stat='density', element='bars', common_norm=False)  # Utilisation du code hexadécimal pour un bleu canard foncé\n",
    "sns.kdeplot(base_summer['Weight'], color='red', linewidth=2)  # Courbe KDE en rouge\n",
    "plt.title('Répartition de la variable poids ')\n",
    "plt.xlabel('Poids')\n",
    "plt.ylabel('Densité')\n",
    "plt.show()"
   ]
  },
  {
   "cell_type": "code",
   "execution_count": null,
   "metadata": {},
   "outputs": [],
   "source": [
    "from mlops_functions.functions import create_age_classes, create_height_classes, create_weight_classes\n",
    "\n",
    "# Création des classes d'âge\n",
    "age_classes = create_age_classes(base_summer)\n",
    "print(age_classes.head(5))\n",
    "\n",
    "# Création des classes de taille\n",
    "height_classes = create_height_classes(base_summer)\n",
    "print(height_classes.head(5))\n",
    "\n",
    "# Création des classes de poids\n",
    "weight_classes = create_weight_classes(base_summer)\n",
    "print(weight_classes.head(70))"
   ]
  },
  {
   "cell_type": "code",
   "execution_count": null,
   "metadata": {},
   "outputs": [],
   "source": [
    "#afficher les frequences de modalites pour les variables regroupes\n",
    "###################AGE#####################\n",
    "print(\"Fréquences de modalités pour la Classe âge:\")\n",
    "print(base_summer['Classe_age'].value_counts())\n",
    "\n",
    "###################HEIGHT#####################\n",
    "print(\"\\nFréquences de modalités pour la Classe taille:\")\n",
    "print(base_summer['Classe_height'].value_counts())\n",
    "\n",
    "###################WEIGHT#####################\n",
    "print(\"\\nFréquences de modalités pour la Classe poids:\")\n",
    "print(base_summer['Classe_weight'].value_counts())\n",
    "\n",
    "\n",
    "#fonction pour afficher les fréquences en pourcentage\n",
    "def print_percentage_counts(column_name):\n",
    "    percentages = base_summer[column_name].value_counts(normalize=True) * 100\n",
    "    print(f\"Fréquences en pourcentage pour la colonne '{column_name}':\")\n",
    "    print(percentages)\n",
    "\n",
    "# Afficher les fréquences en pourcentage pour la classe d'âge\n",
    "print_percentage_counts('Classe_age')\n",
    "\n",
    "# Afficher les fréquences en pourcentage pour la classe de taille\n",
    "print(\"\\n\")\n",
    "print_percentage_counts('Classe_height')\n",
    "\n",
    "# Afficher les fréquences en pourcentage pour la classe de poids\n",
    "print(\"\\n\")\n",
    "print_percentage_counts('Classe_weight')\n"
   ]
  },
  {
   "cell_type": "markdown",
   "metadata": {},
   "source": [
    "# Filtre les années 2000 et suppression de variable"
   ]
  },
  {
   "cell_type": "code",
   "execution_count": null,
   "metadata": {},
   "outputs": [],
   "source": [
    "from mlops_functions.functions import filter_by_year\n",
    "\n",
    "# Filtrer sur l'année supérieure ou égale à 2000\n",
    "base_summer_2000 = filter_by_year(base_summer)\n",
    "print(base_summer_2000.head())"
   ]
  },
  {
   "cell_type": "code",
   "execution_count": null,
   "metadata": {},
   "outputs": [],
   "source": [
    "from mlops_functions.functions import drop_columns\n",
    "\n",
    "# Filtrer sur l'année supérieure ou égale à 2000\n",
    "base_summer_2000 = filter_by_year(base_summer)\n",
    "print(\"Avant suppression des colonnes :\")\n",
    "print(base_summer_2000.head())\n",
    "\n",
    "# Supprimer les variables 'Team' et 'Season'\n",
    "columns_to_drop = ['Team', 'Season', 'Age', 'Height', 'Weight']\n",
    "base_summer_2000 = drop_columns(base_summer_2000, columns_to_drop)\n",
    "print(\"\\nAprès suppression des colonnes :\")\n",
    "print(base_summer_2000.head())\n"
   ]
  },
  {
   "cell_type": "markdown",
   "metadata": {},
   "source": [
    "# Valeurs manquantes du df base_summer_2000"
   ]
  },
  {
   "cell_type": "code",
   "execution_count": null,
   "metadata": {},
   "outputs": [],
   "source": [
    "from mlops_functions.functions import display_missing_values\n",
    "\n",
    "# Filtrer sur l'année supérieure ou égale à 2000\n",
    "base_summer_2000 = filter_by_year(base_summer)\n",
    "print(\"Avant suppression des colonnes :\")\n",
    "print(base_summer_2000.head())\n",
    "\n",
    "# Calculer et afficher les valeurs manquantes\n",
    "valeurs_manquantes_par_variable2 = display_missing_values(base_summer_2000)\n"
   ]
  },
  {
   "cell_type": "code",
   "execution_count": null,
   "metadata": {},
   "outputs": [],
   "source": [
    "from mlops_functions.functions import drop_missing_values\n",
    "\n",
    "# Filtrer sur l'année supérieure ou égale à 2000\n",
    "base_summer_2000 = filter_by_year(base_summer)\n",
    "print(\"Avant suppression des colonnes :\")\n",
    "print(base_summer_2000.head())\n",
    "\n",
    "# Supprimer les valeurs manquantes pour les colonnes spécifiques\n",
    "columns_to_check = ['Classe_age', 'Classe_height', 'Classe_weight']\n",
    "base_summer_2000_net = drop_missing_values(base_summer_2000, columns_to_check)\n",
    "print(\"\\nAprès suppression des valeurs manquantes :\")\n",
    "print(base_summer_2000_net.head())"
   ]
  },
  {
   "cell_type": "code",
   "execution_count": null,
   "metadata": {},
   "outputs": [],
   "source": [
    "#nombre de ligne de notre df base après filtre du df base summer\n",
    "nombre_de_lignes3 = base_summer_2000_net.shape[0]\n",
    "\n",
    "#affiche le nombre de lignes du df base summer 2000\n",
    "print(\"Nombre de lignes :\", nombre_de_lignes3)"
   ]
  },
  {
   "cell_type": "markdown",
   "metadata": {},
   "source": [
    "# Statistiques descriptives"
   ]
  },
  {
   "cell_type": "code",
   "execution_count": 127,
   "metadata": {},
   "outputs": [
    {
     "ename": "ImportError",
     "evalue": "cannot import name 'plot_sex_pie_chart' from 'mlops_functions.stats' (c:\\Users\\Cyrie\\OneDrive\\Bureau\\M2_DS\\S1\\MLOPS\\Rendu_MLOPS\\mlops_functions\\stats.py)",
     "output_type": "error",
     "traceback": [
      "\u001b[1;31m---------------------------------------------------------------------------\u001b[0m",
      "\u001b[1;31mImportError\u001b[0m                               Traceback (most recent call last)",
      "Cell \u001b[1;32mIn[127], line 1\u001b[0m\n\u001b[1;32m----> 1\u001b[0m \u001b[38;5;28;01mfrom\u001b[39;00m \u001b[38;5;21;01mmlops_functions\u001b[39;00m\u001b[38;5;21;01m.\u001b[39;00m\u001b[38;5;21;01mstats\u001b[39;00m \u001b[38;5;28;01mimport\u001b[39;00m plot_sex_pie_chart, plot_age_class_pie_chart, plot_count_percentage_bar_chart, plot_noc_distribution\n\u001b[0;32m      3\u001b[0m \u001b[38;5;66;03m# Exemple d'utilisation\u001b[39;00m\n\u001b[0;32m      4\u001b[0m plot_sex_pie_chart(base_summer_2000_net, \u001b[38;5;124m'\u001b[39m\u001b[38;5;124mRépartition des sexes\u001b[39m\u001b[38;5;124m'\u001b[39m)\n",
      "\u001b[1;31mImportError\u001b[0m: cannot import name 'plot_sex_pie_chart' from 'mlops_functions.stats' (c:\\Users\\Cyrie\\OneDrive\\Bureau\\M2_DS\\S1\\MLOPS\\Rendu_MLOPS\\mlops_functions\\stats.py)"
     ]
    }
   ],
   "source": [
    "from mlops_functions.stats import plot_sex_pie_chart, plot_age_class_pie_chart, plot_count_percentage_bar_chart, plot_noc_distribution\n",
    "\n",
    "# Exemple d'utilisation\n",
    "plot_sex_pie_chart(base_summer_2000_net, 'Répartition des sexes')\n",
    "plot_age_class_pie_chart(base_summer_2000_net, 'Répartition des âges')\n",
    "plot_height_class_pie_chart(base_summer_2000_net, 'Classe_height', 'Répartition des tailles')\n",
    "plot_count_percentage_bar_chart(base_summer_2000_net, 'Classe_height', 'Répartition des tailles')\n",
    "plot_pie_chart(base_summer_2000_net, 'Classe_weight', 'Répartition des poids')\n",
    "plot_count_percentage_bar_chart(base_summer_2000_net, 'Classe_weight', 'Répartition des poids')\n",
    "plot_noc_distribution(base_summer_2000_net)\n"
   ]
  },
  {
   "cell_type": "markdown",
   "metadata": {},
   "source": [
    "## statistique univarié"
   ]
  },
  {
   "cell_type": "code",
   "execution_count": null,
   "metadata": {},
   "outputs": [],
   "source": [
    "colors = ['#008030', '#008080', '#00A86B', '#4CAF50', '#7CFC00']\n",
    "\n",
    "# Statistique sur la variable sex \n",
    "\n",
    "plt.figure(figsize=(6,6))\n",
    "base_summer_2000_net['Sex'].value_counts().plot.pie(explode=[0,0.1],autopct='%1.1f%%',shadow=True,startangle=15, colors = colors)\n",
    "plt.title('Répartition des sexes')\n",
    "plt.show()"
   ]
  },
  {
   "cell_type": "code",
   "execution_count": null,
   "metadata": {},
   "outputs": [],
   "source": [
    "# Statistique sur la variable classe_age\n",
    "\n",
    "plt.figure(figsize=(6,6))\n",
    "base_summer_2000_net['Classe_age'].value_counts().plot.pie(colors = colors,autopct='%1.1f%%')\n",
    "plt.title('Répartition des âges')\n",
    "plt.show()"
   ]
  },
  {
   "cell_type": "code",
   "execution_count": null,
   "metadata": {},
   "outputs": [],
   "source": [
    "# Statistique sur la variable classe_height\n",
    "\n",
    "plt.figure(figsize=(6,6))\n",
    "base_summer_2000_net['Classe_height'].value_counts().plot.pie(colors = colors, autopct='%1.1f%%')\n",
    "plt.title('Répartition des tailles')\n",
    "plt.show()"
   ]
  },
  {
   "cell_type": "code",
   "execution_count": null,
   "metadata": {},
   "outputs": [],
   "source": [
    "# Statistique sur la variable height\n",
    "\n",
    "plt.figure(figsize=(12, 6))\n",
    "\n",
    "# Comptez les occurrences de chaque catégorie\n",
    "total = float(len(base_summer_2000_net[\"Classe_height\"]))\n",
    "\n",
    "# Utilisez sns.countplot pour afficher le graphique à barres\n",
    "ax = sns.countplot(x=\"Classe_height\", data=base_summer_2000_net, palette='viridis')\n",
    "\n",
    "# Modifiez l'axe y pour être en pourcentage\n",
    "def percent_formatter(x, pos):\n",
    "    return f'{(x / total):.0%}'\n",
    "\n",
    "ax.yaxis.set_major_formatter(FuncFormatter(percent_formatter))\n",
    "\n",
    "# Ajoutez les pourcentages au centre des barres\n",
    "for p in ax.patches:\n",
    "    height = p.get_height()\n",
    "    ax.text(p.get_x() + p.get_width() / 2., height / 2,\n",
    "            '{:.0%}'.format(height / total), ha=\"center\")\n",
    "\n",
    "plt.title('Répartition des tailles')\n",
    "plt.xlabel(\"Classe_height\")\n",
    "plt.ylabel('Pourcentage')\n",
    "plt.xticks(rotation=45)\n",
    "plt.show()\n",
    "\n"
   ]
  },
  {
   "cell_type": "code",
   "execution_count": null,
   "metadata": {},
   "outputs": [],
   "source": [
    "# Statistique sur la variable weight\n",
    "\n",
    "plt.figure(figsize=(6,6))\n",
    "base_summer_2000_net['Classe_weight'].value_counts().plot.pie(colors = colors, autopct='%1.1f%%')\n",
    "plt.title('Répartition des poids')\n",
    "plt.show()"
   ]
  },
  {
   "cell_type": "code",
   "execution_count": null,
   "metadata": {},
   "outputs": [],
   "source": [
    "# Statistique sur la variable weight\n",
    "\n",
    "plt.figure(figsize=(12, 6))\n",
    "\n",
    "# Comptez les occurrences de chaque catégorie\n",
    "total = float(len(base_summer_2000_net[\"Classe_weight\"]))\n",
    "\n",
    "# Utilisez sns.countplot pour afficher le graphique à barres\n",
    "ax = sns.countplot(x=\"Classe_weight\", data=base_summer_2000_net, palette='viridis')\n",
    "\n",
    "# Modifiez l'axe y pour être en pourcentage\n",
    "def percent_formatter(x, pos):\n",
    "    return f'{(x / total):.0%}'\n",
    "\n",
    "ax.yaxis.set_major_formatter(FuncFormatter(percent_formatter))\n",
    "\n",
    "# Ajoutez les pourcentages au centre des barres\n",
    "for p in ax.patches:\n",
    "    height = p.get_height()\n",
    "    ax.text(p.get_x() + p.get_width() / 2., height / 2,\n",
    "            '{:.0%}'.format(height / total), ha=\"center\")\n",
    "\n",
    "plt.title('Répartition des poids')\n",
    "plt.xlabel(\"Classe_xeight\")\n",
    "plt.ylabel('Pourcentage')\n",
    "plt.xticks(rotation=45)\n",
    "plt.show()\n",
    "\n"
   ]
  },
  {
   "cell_type": "code",
   "execution_count": null,
   "metadata": {},
   "outputs": [],
   "source": [
    "# Statistique sur la variable NOC \n",
    "\n",
    "# Créer un DataFrame pour le nombre d'individus par pays\n",
    "tableau_noc = base_summer_2000_net.groupby('NOC').size().reset_index(name='Nombre d\\'individus')\n",
    "\n",
    "# Trier le tableau par le nombre d'individus de manière décroissante\n",
    "tableau_noc_trie = tableau_noc.sort_values(by='Nombre d\\'individus', ascending=False)\n",
    "\n",
    "# Sélectionner les 16 premiers\n",
    "les_16_premiers = tableau_noc_trie.head(16)\n",
    "\n",
    "# Afficher les 16 premiers pays les plus représentés\n",
    "les_16_premiers\n"
   ]
  },
  {
   "cell_type": "markdown",
   "metadata": {},
   "source": [
    "## statistique bivarié"
   ]
  },
  {
   "cell_type": "code",
   "execution_count": null,
   "metadata": {},
   "outputs": [],
   "source": [
    "def create_bar_plot(base_summer_2000_net, x_variable, target_variable='Medal'):\n",
    "\n",
    "    # Create a bar plot\n",
    "    plt.figure(figsize=(12, 6))\n",
    "    sns.countplot(x=x_variable, hue=target_variable, data=base_summer_2000_net, palette='viridis')\n",
    "    plt.title(f'Répartition des {target_variable} selon leurs {x_variable}')\n",
    "    plt.xlabel(x_variable)\n",
    "    plt.ylabel('Count')\n",
    "    plt.xticks(rotation=45)\n",
    "    plt.legend(title=target_variable)\n",
    "    plt.show()\n",
    "\n",
    "# Example usage:\n",
    "# Assuming your DataFrame is named df\n",
    "create_bar_plot(base_summer_2000_net, 'Sex')\n",
    "create_bar_plot(base_summer_2000_net, 'Classe_age')\n",
    "create_bar_plot(base_summer_2000_net, 'Classe_height')\n",
    "create_bar_plot(base_summer_2000_net, 'Classe_weight')\n",
    "create_bar_plot(base_summer_2000_net, 'NOC')\n",
    "create_bar_plot(base_summer_2000_net, 'Games')\n",
    "create_bar_plot(base_summer_2000_net, 'Sport')\n",
    "\n"
   ]
  },
  {
   "cell_type": "markdown",
   "metadata": {},
   "source": [
    "# Corrélation entre les variables - V de Cramer"
   ]
  },
  {
   "cell_type": "code",
   "execution_count": 9,
   "metadata": {},
   "outputs": [],
   "source": [
    "# Sélectionnez vos variables catégorielles\n",
    "categorical_vars = ['Name', 'Sex', 'NOC', 'Games', 'City', 'Sport',\n",
    "                    'Event', 'Medal', 'Classe_age', 'Classe_height', 'Classe_weight']"
   ]
  },
  {
   "cell_type": "code",
   "execution_count": null,
   "metadata": {},
   "outputs": [],
   "source": [
    "# Cette fonction permet de calculer le tableau de contingenance. Au vu de nos données le résultat est long a sortir, donc nou conseillons de ne pas le lancer. \n",
    "\n",
    "from mlops_functions.functions import calculate_cramer_v, plot_cramer_matrix\n",
    "\n",
    "# Calculez le V de Cramer et affichez la matrice de corrélation\n",
    "# cramer_matrix = calculate_cramer_v(base_summer_2000_net, categorical_vars)\n",
    "# plot_cramer_matrix(cramer_matrix)\n"
   ]
  },
  {
   "attachments": {},
   "cell_type": "markdown",
   "metadata": {},
   "source": [
    "# Faire de nouveaux regroupement et suppression des variables utilisées pour la suite de l'analyse"
   ]
  },
  {
   "cell_type": "code",
   "execution_count": 11,
   "metadata": {},
   "outputs": [],
   "source": [
    "base_ACM = base_summer_2000_net\n"
   ]
  },
  {
   "cell_type": "code",
   "execution_count": null,
   "metadata": {},
   "outputs": [],
   "source": [
    "from mlops_functions.functions import transform_base_ACM\n",
    "\n",
    "base_ACM = transform_base_ACM(base_summer_2000_net)\n",
    "\n",
    "# Affichage des colonnes après transformation\n",
    "print(base_ACM.columns)"
   ]
  },
  {
   "cell_type": "code",
   "execution_count": null,
   "metadata": {},
   "outputs": [],
   "source": [
    "#remplacer les valeurs manquantes de la variable cibe par \"pas de médaille\"\n",
    "base_ACM['Medal'].fillna('Pas_de_médaille', inplace=True)\n",
    "base_ACM.isnull().sum()"
   ]
  },
  {
   "attachments": {},
   "cell_type": "markdown",
   "metadata": {},
   "source": [
    "# ACM "
   ]
  },
  {
   "cell_type": "code",
   "execution_count": null,
   "metadata": {},
   "outputs": [],
   "source": [
    "from mlops_functions.functions import analyze_acm\n",
    "\n",
    "base_ACM = analyze_acm(base_ACM)\n",
    "#remplacer les valeurs manquantes de la variable cibe par \"pas de médaille\"\n",
    "#base_ACM['Medal'].fillna('Pas_de_médaille', inplace=True)\n",
    "#print(base_ACM)\n"
   ]
  },
  {
   "cell_type": "code",
   "execution_count": null,
   "metadata": {},
   "outputs": [],
   "source": [
    "# pip install fanalysis\n",
    "# utilisation du package fanalysis \n",
    "\n",
    "#acm = MCA()\n",
    "#acm.fit(base_ACM.values)"
   ]
  },
  {
   "cell_type": "code",
   "execution_count": null,
   "metadata": {},
   "outputs": [],
   "source": [
    "# afficher les valeurs propres \n",
    "#acm.eig_"
   ]
  },
  {
   "cell_type": "code",
   "execution_count": 24,
   "metadata": {},
   "outputs": [],
   "source": [
    "#eigenvalues = acm.eig_"
   ]
  },
  {
   "cell_type": "code",
   "execution_count": null,
   "metadata": {},
   "outputs": [],
   "source": [
    "# Obtenir les valeurs propres associées à chaque composante principale\n",
    "#eigenvalues = acm.eig_\n",
    "\n",
    "# Calculer le pourcentage de chaque valeur propre\n",
    "#total_variance = sum(eigenvalues[0])\n",
    "#percentage_var = [(value / total_variance) * 100 for value in eigenvalues[0]]\n",
    "\n",
    "# Utiliser une palette de couleurs Seaborn et inverser l'ordre\n",
    "#sns.set(style=\"whitegrid\")\n",
    "#palette = sns.color_palette(\"BuGn\", len(percentage_var))\n",
    "#palette = palette[::-1]  # Inverser l'ordre des couleurs\n",
    "\n",
    "# Tracer le diagramme en barres des valeurs propres en pourcentage\n",
    "#plt.figure(figsize=(10, 6))\n",
    "#bars = plt.bar(range(1, len(percentage_var) + 1), percentage_var, color=palette, edgecolor='black')\n",
    "#plt.xlabel('Composante Principale')\n",
    "#plt.ylabel('Pourcentage de Variance Expliquée')\n",
    "#plt.title('Diagramme en Barres des Valeurs Propres en Pourcentage - ACM')\n",
    "\n",
    "# Définir les ticks de l'axe x avec des valeurs entières\n",
    "#plt.xticks(range(1, len(percentage_var) + 1))\n",
    "\n",
    "# Ajouter les étiquettes de valeur uniquement pour les deux premières barres\n",
    "#for i, (bar, value) in enumerate(zip(bars, percentage_var)):\n",
    "#    if i < 2:\n",
    "#        plt.text(bar.get_x() + bar.get_width() / 2, bar.get_height() + 0.2, f'{value:.2f}%',\n",
    "#                 ha='center', va='bottom', color='black', fontsize = 8)\n",
    "\n",
    "#plt.show()"
   ]
  },
  {
   "cell_type": "code",
   "execution_count": null,
   "metadata": {},
   "outputs": [],
   "source": [
    "# indormation que procure l'ACM \n",
    "#info_col = acm.col_topandas()\n",
    "#info_col.columns"
   ]
  },
  {
   "cell_type": "code",
   "execution_count": null,
   "metadata": {},
   "outputs": [],
   "source": [
    "# Coordonnée des modalité pour l'axe 1 et 2\n",
    "#coord_col = info_col[['col_coord_dim1', 'col_coord_dim2']]\n",
    "#print(coord_col)"
   ]
  },
  {
   "cell_type": "code",
   "execution_count": null,
   "metadata": {},
   "outputs": [],
   "source": [
    "# Contribution des modalités pour l'axe 1 et 2\n",
    "#contrib_col = pd.DataFrame(info_col[['col_contrib_dim1', 'col_contrib_dim2']])\n",
    "#contrib_col"
   ]
  },
  {
   "cell_type": "code",
   "execution_count": null,
   "metadata": {},
   "outputs": [],
   "source": [
    "#ACM -projection des colonnes\n",
    "#import matplotlib.pyplot as plt\n",
    "\n",
    "#fig, ax = plt.subplots(figsize=(7, 7))\n",
    "#ax.axis([-2.2, +2.2, -1.2, +1.5])\n",
    "#ax.plot([-2.2, +2.2], [0, 0], color=\"silver\", linestyle=\"--\")\n",
    "#ax.plot([0, 0], [-2.2, +2.2], color='silver', linestyle=\"--\")\n",
    "#ax.set_xlabel('Dim.1')\n",
    "#ax.set_ylabel('Dim.2')\n",
    "#plt.title(\"Modalité\")\n",
    "\n",
    "#for x, y, lbl in zip(coord_col.iloc[:, 0], coord_col.iloc[:, 1], coord_col.index):\n",
    "#    ax.text(x, y, lbl, horizontalalignment='center', verticalalignment='center', fontsize=7)\n",
    "\n",
    "#plt.show()\n"
   ]
  },
  {
   "cell_type": "code",
   "execution_count": null,
   "metadata": {},
   "outputs": [],
   "source": [
    "#ACM -projection en couleur\n",
    "#acm.mapping_col(num_x_axis = 1 , num_y_axis = 2)"
   ]
  },
  {
   "cell_type": "markdown",
   "metadata": {},
   "source": [
    "# Modélisation"
   ]
  },
  {
   "cell_type": "code",
   "execution_count": 35,
   "metadata": {},
   "outputs": [
    {
     "name": "stdout",
     "output_type": "stream",
     "text": [
      "Valeurs uniques avant la modification : ['Pas_de_médaille' 'medaille']\n",
      "Valeurs uniques après la modification : ['Pas_de_médaille' 'medaille']\n"
     ]
    }
   ],
   "source": [
    "from mlops_functions.functions import preprocess_and_split_data\n",
    "\n",
    "# Prétraiter et diviser les données\n",
    "base_model = base_ACM\n",
    "X_train_encoded, X_test_encoded, y_train, y_test = preprocess_and_split_data(base_model)\n"
   ]
  },
  {
   "cell_type": "code",
   "execution_count": 58,
   "metadata": {},
   "outputs": [],
   "source": [
    "from mlops_functions.functions import define_preprocessor\n",
    "# Utiliser la fonction define_preprocessor pour obtenir preprocessor et cat_columns\n",
    "preprocessor, cat_columns = define_preprocessor()"
   ]
  },
  {
   "cell_type": "markdown",
   "metadata": {},
   "source": [
    "## Régression logistique"
   ]
  },
  {
   "cell_type": "code",
   "execution_count": null,
   "metadata": {},
   "outputs": [],
   "source": [
    "from mlops_functions.functions import train_and_evaluate_logistic_regression\n",
    "LG = train_and_evaluate_logistic_regression(X_train_encoded, X_test_encoded, y_train, y_test)"
   ]
  },
  {
   "cell_type": "markdown",
   "metadata": {},
   "source": [
    "## Random Forest "
   ]
  },
  {
   "cell_type": "code",
   "execution_count": null,
   "metadata": {},
   "outputs": [],
   "source": [
    "from mlops_functions.functions import train_and_evaluate_random_forest\n",
    "trained_model_RF = train_and_evaluate_random_forest(X_train_encoded, X_test_encoded, y_train, y_test)"
   ]
  },
  {
   "cell_type": "markdown",
   "metadata": {},
   "source": [
    "# KNN"
   ]
  },
  {
   "cell_type": "code",
   "execution_count": null,
   "metadata": {},
   "outputs": [],
   "source": [
    "from mlops_functions.functions import choose_k_and_evaluate_knn\n",
    "trained_model_KNN = choose_k_and_evaluate_knn(X_train_encoded, X_test_encoded, y_train, y_test)"
   ]
  },
  {
   "cell_type": "markdown",
   "metadata": {},
   "source": [
    "# interprétation du modèle Regression logisitique"
   ]
  },
  {
   "cell_type": "code",
   "execution_count": 61,
   "metadata": {},
   "outputs": [
    {
     "ename": "AttributeError",
     "evalue": "'ColumnTransformer' object has no attribute 'transformers_'",
     "output_type": "error",
     "traceback": [
      "\u001b[1;31m---------------------------------------------------------------------------\u001b[0m",
      "\u001b[1;31mAttributeError\u001b[0m                            Traceback (most recent call last)",
      "Cell \u001b[1;32mIn[61], line 3\u001b[0m\n\u001b[0;32m      1\u001b[0m \u001b[38;5;28;01mfrom\u001b[39;00m \u001b[38;5;21;01mmlops_functions\u001b[39;00m\u001b[38;5;21;01m.\u001b[39;00m\u001b[38;5;21;01mfunctions\u001b[39;00m \u001b[38;5;28;01mimport\u001b[39;00m analyze_logistic_regression\n\u001b[1;32m----> 3\u001b[0m interpret \u001b[38;5;241m=\u001b[39m \u001b[43manalyze_logistic_regression\u001b[49m\u001b[43m(\u001b[49m\u001b[43mLG\u001b[49m\u001b[43m,\u001b[49m\u001b[43m \u001b[49m\u001b[43mpreprocessor\u001b[49m\u001b[43m,\u001b[49m\u001b[43m \u001b[49m\u001b[43mX_train_encoded\u001b[49m\u001b[43m,\u001b[49m\u001b[43m \u001b[49m\u001b[43mcat_columns\u001b[49m\u001b[43m)\u001b[49m\n\u001b[0;32m      5\u001b[0m \u001b[38;5;66;03m# permet d'obtenir les coefficients directeurs associé aux modalités\u001b[39;00m\n\u001b[0;32m      6\u001b[0m \n\u001b[0;32m      7\u001b[0m \u001b[38;5;66;03m#coefficients = LG.coef_\u001b[39;00m\n\u001b[0;32m      8\u001b[0m \u001b[38;5;66;03m#coefficients\u001b[39;00m\n",
      "File \u001b[1;32mc:\\Users\\Cyrie\\OneDrive\\Bureau\\M2_DS\\S1\\MLOPS\\Rendu_MLOPS\\mlops_functions\\functions.py:698\u001b[0m, in \u001b[0;36manalyze_logistic_regression\u001b[1;34m(LG, preprocessor, X_train_encoded, cat_columns)\u001b[0m\n\u001b[0;32m    693\u001b[0m     return knn \n\u001b[0;32m    696\u001b[0m #Fonction interpretation modele logistique\n\u001b[0;32m    697\u001b[0m def analyze_logistic_regression(LG, preprocessor, X_train_encoded, cat_columns):\n\u001b[1;32m--> 698\u001b[0m     # Obtenez les coefficients directeurs associés aux modalités\n\u001b[0;32m    699\u001b[0m     coefficients = LG.coef_\n\u001b[0;32m    701\u001b[0m     # Obtenez les noms des colonnes après la transformation\n",
      "File \u001b[1;32m~\\AppData\\Local\\Packages\\PythonSoftwareFoundation.Python.3.11_qbz5n2kfra8p0\\LocalCache\\local-packages\\Python311\\site-packages\\sklearn\\compose\\_column_transformer.py:484\u001b[0m, in \u001b[0;36mColumnTransformer.named_transformers_\u001b[1;34m(self)\u001b[0m\n\u001b[0;32m    477\u001b[0m \u001b[38;5;250m\u001b[39m\u001b[38;5;124;03m\"\"\"Access the fitted transformer by name.\u001b[39;00m\n\u001b[0;32m    478\u001b[0m \n\u001b[0;32m    479\u001b[0m \u001b[38;5;124;03mRead-only attribute to access any transformer by given name.\u001b[39;00m\n\u001b[0;32m    480\u001b[0m \u001b[38;5;124;03mKeys are transformer names and values are the fitted transformer\u001b[39;00m\n\u001b[0;32m    481\u001b[0m \u001b[38;5;124;03mobjects.\u001b[39;00m\n\u001b[0;32m    482\u001b[0m \u001b[38;5;124;03m\"\"\"\u001b[39;00m\n\u001b[0;32m    483\u001b[0m \u001b[38;5;66;03m# Use Bunch object to improve autocomplete\u001b[39;00m\n\u001b[1;32m--> 484\u001b[0m \u001b[38;5;28;01mreturn\u001b[39;00m Bunch(\u001b[38;5;241m*\u001b[39m\u001b[38;5;241m*\u001b[39m{name: trans \u001b[38;5;28;01mfor\u001b[39;00m name, trans, _ \u001b[38;5;129;01min\u001b[39;00m \u001b[38;5;28;43mself\u001b[39;49m\u001b[38;5;241;43m.\u001b[39;49m\u001b[43mtransformers_\u001b[49m})\n",
      "\u001b[1;31mAttributeError\u001b[0m: 'ColumnTransformer' object has no attribute 'transformers_'"
     ]
    }
   ],
   "source": [
    "from mlops_functions.functions import analyze_logistic_regression\n",
    "\n",
    "interpret = analyze_logistic_regression(LG, preprocessor, X_train_encoded, cat_columns)\n",
    "\n",
    "# permet d'obtenir les coefficients directeurs associé aux modalités\n",
    "\n",
    "#coefficients = LG.coef_\n",
    "#coefficients"
   ]
  },
  {
   "cell_type": "code",
   "execution_count": 39,
   "metadata": {},
   "outputs": [
    {
     "data": {
      "text/plain": [
       "array([[-0.3997242 , -1.3302836 ,  1.57874587,  0.6628577 ,  0.9293529 ,\n",
       "         0.97241796,  1.10450648,  0.51699593,  1.02458601,  0.31638146,\n",
       "         0.54152503,  0.22676924,  1.35247967,  0.98851018,  0.0887227 ,\n",
       "        -0.2982972 , -0.10728899,  0.13377636, -0.10921965,  0.25590161,\n",
       "         0.1301756 ,  0.02527832,  0.19080879]])"
      ]
     },
     "execution_count": 39,
     "metadata": {},
     "output_type": "execute_result"
    }
   ],
   "source": [
    "# permet d'obtenir les coefficients directeurs associé aux modalités\n",
    "\n",
    "coefficients = LG.coef_\n",
    "coefficients"
   ]
  },
  {
   "cell_type": "code",
   "execution_count": 41,
   "metadata": {},
   "outputs": [
    {
     "ename": "AttributeError",
     "evalue": "'ColumnTransformer' object has no attribute 'transformers_'",
     "output_type": "error",
     "traceback": [
      "\u001b[1;31m---------------------------------------------------------------------------\u001b[0m",
      "\u001b[1;31mAttributeError\u001b[0m                            Traceback (most recent call last)",
      "Cell \u001b[1;32mIn[41], line 2\u001b[0m\n\u001b[0;32m      1\u001b[0m \u001b[38;5;66;03m# Obtenir les noms des colonnes après la transformation\u001b[39;00m\n\u001b[1;32m----> 2\u001b[0m column_names \u001b[38;5;241m=\u001b[39m \u001b[43mpreprocessor\u001b[49m\u001b[38;5;241;43m.\u001b[39;49m\u001b[43mnamed_transformers_\u001b[49m[\u001b[38;5;124m'\u001b[39m\u001b[38;5;124mcat\u001b[39m\u001b[38;5;124m'\u001b[39m]\u001b[38;5;241m.\u001b[39mget_feature_names_out(cat_columns)\n\u001b[0;32m      4\u001b[0m \u001b[38;5;66;03m# Associer les coefficients aux noms des colonnes\u001b[39;00m\n\u001b[0;32m      5\u001b[0m coefficients_dict \u001b[38;5;241m=\u001b[39m \u001b[38;5;28mdict\u001b[39m(\u001b[38;5;28mzip\u001b[39m(column_names, LG\u001b[38;5;241m.\u001b[39mcoef_[\u001b[38;5;241m0\u001b[39m]))\n",
      "File \u001b[1;32m~\\AppData\\Local\\Packages\\PythonSoftwareFoundation.Python.3.11_qbz5n2kfra8p0\\LocalCache\\local-packages\\Python311\\site-packages\\sklearn\\compose\\_column_transformer.py:484\u001b[0m, in \u001b[0;36mColumnTransformer.named_transformers_\u001b[1;34m(self)\u001b[0m\n\u001b[0;32m    477\u001b[0m \u001b[38;5;250m\u001b[39m\u001b[38;5;124;03m\"\"\"Access the fitted transformer by name.\u001b[39;00m\n\u001b[0;32m    478\u001b[0m \n\u001b[0;32m    479\u001b[0m \u001b[38;5;124;03mRead-only attribute to access any transformer by given name.\u001b[39;00m\n\u001b[0;32m    480\u001b[0m \u001b[38;5;124;03mKeys are transformer names and values are the fitted transformer\u001b[39;00m\n\u001b[0;32m    481\u001b[0m \u001b[38;5;124;03mobjects.\u001b[39;00m\n\u001b[0;32m    482\u001b[0m \u001b[38;5;124;03m\"\"\"\u001b[39;00m\n\u001b[0;32m    483\u001b[0m \u001b[38;5;66;03m# Use Bunch object to improve autocomplete\u001b[39;00m\n\u001b[1;32m--> 484\u001b[0m \u001b[38;5;28;01mreturn\u001b[39;00m Bunch(\u001b[38;5;241m*\u001b[39m\u001b[38;5;241m*\u001b[39m{name: trans \u001b[38;5;28;01mfor\u001b[39;00m name, trans, _ \u001b[38;5;129;01min\u001b[39;00m \u001b[38;5;28;43mself\u001b[39;49m\u001b[38;5;241;43m.\u001b[39;49m\u001b[43mtransformers_\u001b[49m})\n",
      "\u001b[1;31mAttributeError\u001b[0m: 'ColumnTransformer' object has no attribute 'transformers_'"
     ]
    }
   ],
   "source": [
    "# Obtenir les noms des colonnes après la transformation\n",
    "column_names = preprocessor.named_transformers_['cat'].get_feature_names_out(cat_columns)\n",
    "\n",
    "# Associer les coefficients aux noms des colonnes\n",
    "coefficients_dict = dict(zip(column_names, LG.coef_[0]))\n",
    "\n",
    "# Afficher les coefficients avec les noms des colonnes associés\n",
    "for variable, coef in coefficients_dict.items():\n",
    "    print(f\"{variable}: {coef}\")"
   ]
  },
  {
   "cell_type": "code",
   "execution_count": null,
   "metadata": {},
   "outputs": [],
   "source": [
    "# permet d'obtenir le coefficient de l'individu de référence\n",
    "\n",
    "intercept = LG.intercept_\n",
    "intercept"
   ]
  },
  {
   "cell_type": "code",
   "execution_count": null,
   "metadata": {},
   "outputs": [],
   "source": [
    "# Obtenez les probabilités prédites\n",
    "predicted_probabilities = LG.predict_proba(X_train_encoded)\n",
    "\n",
    "# Calculez les z-scores des coefficients\n",
    "z_scores = np.zeros(shape=(len(LG.coef_[0]),))\n",
    "for index, coef in enumerate(LG.coef_[0]):\n",
    "    z_scores[index] = coef / np.std(predicted_probabilities[:, 1])\n",
    "\n",
    "# Convertissez les z-scores en p-values approximatives\n",
    "p_values = scipy.stats.norm.sf(abs(z_scores))\n",
    "p_values\n",
    "\n",
    "# Créez un dictionnaire pour associer les noms de colonnes après la transformation aux p-values\n",
    "p_values_dict = dict(zip(column_names, p_values))\n",
    "\n",
    "# Affichez les associations entre les modalités et les p-values\n",
    "for column_name, p_value in p_values_dict.items():\n",
    "    if p_value < 0.001:\n",
    "        print(f\"{column_name}: <0.001\")\n",
    "    else:\n",
    "        print(f\"{column_name}: {p_value:.3f}\")\n"
   ]
  }
 ],
 "metadata": {
  "kernelspec": {
   "display_name": "Python 3",
   "language": "python",
   "name": "python3"
  },
  "language_info": {
   "codemirror_mode": {
    "name": "ipython",
    "version": 3
   },
   "file_extension": ".py",
   "mimetype": "text/x-python",
   "name": "python",
   "nbconvert_exporter": "python",
   "pygments_lexer": "ipython3",
   "version": "3.11.7"
  }
 },
 "nbformat": 4,
 "nbformat_minor": 2
}
