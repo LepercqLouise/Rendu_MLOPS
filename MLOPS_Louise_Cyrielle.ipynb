{
 "cells": [
  {
   "cell_type": "markdown",
   "metadata": {},
   "source": [
    "# Packages"
   ]
  },
  {
   "cell_type": "code",
   "execution_count": 1,
   "metadata": {},
   "outputs": [],
   "source": [
    "import pandas as pd\n",
    "import matplotlib.pyplot as plt\n",
    "import seaborn as sns\n",
    "import numpy as np\n",
    "from fanalysis.mca import MCA\n",
    "from scipy.stats import chi2_contingency\n",
    "from sklearn.model_selection import train_test_split\n",
    "from sklearn.preprocessing import OneHotEncoder\n",
    "from sklearn.compose import ColumnTransformer\n",
    "from sklearn.linear_model import LogisticRegression\n",
    "from sklearn.ensemble import RandomForestClassifier\n",
    "from sklearn.metrics import confusion_matrix\n",
    "from sklearn.neighbors import KNeighborsClassifier\n",
    "import scipy"
   ]
  },
  {
   "cell_type": "markdown",
   "metadata": {},
   "source": [
    "# Utilisation du module functions"
   ]
  },
  {
   "cell_type": "code",
   "execution_count": 2,
   "metadata": {},
   "outputs": [],
   "source": [
    "from mlops_functions import functions\n",
    "from mlops_functions import stats"
   ]
  },
  {
   "cell_type": "markdown",
   "metadata": {},
   "source": [
    "# Lecture de données"
   ]
  },
  {
   "cell_type": "code",
   "execution_count": 3,
   "metadata": {},
   "outputs": [],
   "source": [
    "from mlops_functions.functions import load_data\n",
    "\n",
    "# Louise\n",
    "#base = functions.load_data(\"//ad.univ-lille.fr/Etudiants/Homedir3/147794/Documents/M2/Rendu_MLOPS/athlete_events.csv\")\n",
    "base = functions.load_data(\"/Users/lepercqlouise/stockage_macBook/Rendu_MLOPS/athlete_events.csv\")\n",
    "\n",
    "\n",
    "\n",
    "# Cyrielle\n",
    "#base = functions.load_data(\"/Users/Cyrie/OneDrive/Bureau/M2_DS/S1/MLOPS/Rendu_MLOPS/athlete_events.csv\")\n"
   ]
  },
  {
   "cell_type": "markdown",
   "metadata": {},
   "source": [
    "# Filtre sur Summer"
   ]
  },
  {
   "cell_type": "code",
   "execution_count": 4,
   "metadata": {},
   "outputs": [],
   "source": [
    "from mlops_functions.functions import filter_summer_season\n",
    "# Filtre sur la saison d'été\n",
    "base_summer = functions.filter_summer_season(base)\n"
   ]
  },
  {
   "cell_type": "markdown",
   "metadata": {},
   "source": [
    "# Valeurs manquantes et abbérantes du df base_summer"
   ]
  },
  {
   "cell_type": "code",
   "execution_count": 5,
   "metadata": {},
   "outputs": [
    {
     "name": "stdout",
     "output_type": "stream",
     "text": [
      "ID             0\n",
      "Name           0\n",
      "Sex            0\n",
      "Age         9189\n",
      "Height     51857\n",
      "Weight     53854\n",
      "Team           0\n",
      "NOC            0\n",
      "Games          0\n",
      "Year           0\n",
      "Season         0\n",
      "City           0\n",
      "Sport          0\n",
      "Event          0\n",
      "Medal     188464\n",
      "dtype: int64\n"
     ]
    }
   ],
   "source": [
    "#valeurs manquantes pour le df base summer\n",
    "valeurs_manquantes_par_variable1 = base_summer.isnull().sum()\n",
    "\n",
    "# Affichage du résultat pour le df base summer\n",
    "print(valeurs_manquantes_par_variable1)"
   ]
  },
  {
   "cell_type": "code",
   "execution_count": null,
   "metadata": {},
   "outputs": [],
   "source": [
    "#valeur abbérentes\n",
    "# Création de la figure et des axes\n",
    "plt.figure(figsize=(8, 6))\n",
    "\n",
    "###################AGE#####################\n",
    "# Création de la boîte à moustaches \n",
    "sns.boxplot(x=base_summer['Medal'], y=base_summer['Age'], color='#008030')\n",
    "\n",
    "# Titres et labels\n",
    "plt.title('Boîte à moustaches de la variable age selon la médaille')\n",
    "plt.xlabel('Médaille')\n",
    "plt.show()\n",
    "\n",
    "###################Height####################\n",
    "# Création de la boîte à moustaches \n",
    "sns.boxplot(x=base_summer['Medal'], y=base_summer['Height'], color='#008080')\n",
    "\n",
    "# Titres et labels\n",
    "plt.title('Boîte à moustaches de la variable taille selon la médaille')\n",
    "plt.xlabel('Médaille')\n",
    "plt.show()\n",
    "\n",
    "\n",
    "###################Weight####################\n",
    "# Création de la boîte à moustaches \n",
    "sns.boxplot(x=base_summer['Medal'], y=base_summer['Weight'], color='#008030')\n",
    "\n",
    "# Titres et labels\n",
    "plt.title('Boîte à moustaches de la variable poids selon la médaille')\n",
    "plt.xlabel('Médaille')\n",
    "plt.show()\n",
    "\n",
    "\n"
   ]
  },
  {
   "cell_type": "code",
   "execution_count": 6,
   "metadata": {},
   "outputs": [
    {
     "name": "stdout",
     "output_type": "stream",
     "text": [
      "DataFrame pour l'âge entre 11 et 40 ans inclus:\n",
      "            ID                                       Name Sex   Age  Height  \\\n",
      "58          19                      Win Valdemar Aaltonen   M  54.0     NaN   \n",
      "89          28                           Jan-Erik Aarberg   M  43.0   170.0   \n",
      "90          28                           Jan-Erik Aarberg   M  47.0   170.0   \n",
      "124         45                                Hakon Aasns   M  41.0     NaN   \n",
      "126         46                                 Hans Aasns   M  45.0   194.0   \n",
      "...        ...                                        ...  ..   ...     ...   \n",
      "270752  135406                              Bla Zulawszky   M  42.0     NaN   \n",
      "270753  135406                              Bla Zulawszky   M  42.0     NaN   \n",
      "270955  135494                               Jacek uawski   M  41.0     NaN   \n",
      "270971  135501  Ellina Aleksandrovna Zvereva (Kisheyeva-)   F  43.0   183.0   \n",
      "270972  135501  Ellina Aleksandrovna Zvereva (Kisheyeva-)   F  47.0   183.0   \n",
      "\n",
      "        Weight     Team  NOC        Games  Year  Season         City  \\\n",
      "58         NaN  Finland  FIN  1948 Summer  1948  Summer       London   \n",
      "89        77.0   Norway  NOR  1968 Summer  1968  Summer  Mexico City   \n",
      "90        77.0   Norway  NOR  1972 Summer  1972  Summer       Munich   \n",
      "124        NaN   Norway  NOR  1936 Summer  1936  Summer       Berlin   \n",
      "126       93.0   Norway  NOR  1948 Summer  1948  Summer       London   \n",
      "...        ...      ...  ...          ...   ...     ...          ...   \n",
      "270752     NaN  Hungary  HUN  1912 Summer  1912  Summer    Stockholm   \n",
      "270753     NaN  Hungary  HUN  1912 Summer  1912  Summer    Stockholm   \n",
      "270955     NaN   Poland  POL  1948 Summer  1948  Summer       London   \n",
      "270971   100.0  Belarus  BLR  2004 Summer  2004  Summer       Athina   \n",
      "270972   100.0  Belarus  BLR  2008 Summer  2008  Summer      Beijing   \n",
      "\n",
      "                   Sport                                              Event  \\\n",
      "58      Art Competitions  Art Competitions Mixed Sculpturing, Unknown Event   \n",
      "89               Sailing                Sailing Mixed Three Person Keelboat   \n",
      "90               Sailing                Sailing Mixed Three Person Keelboat   \n",
      "124             Shooting  Shooting Men's Small-Bore Rifle, Prone, 50 metres   \n",
      "126             Shooting        Shooting Men's Rapid-Fire Pistol, 25 metres   \n",
      "...                  ...                                                ...   \n",
      "270752           Fencing                     Fencing Men's Foil, Individual   \n",
      "270753           Fencing                    Fencing Men's Sabre, Individual   \n",
      "270955  Art Competitions        Art Competitions Mixed Sculpturing, Statues   \n",
      "270971         Athletics                     Athletics Women's Discus Throw   \n",
      "270972         Athletics                     Athletics Women's Discus Throw   \n",
      "\n",
      "       Medal  \n",
      "58       NaN  \n",
      "89       NaN  \n",
      "90       NaN  \n",
      "124      NaN  \n",
      "126      NaN  \n",
      "...      ...  \n",
      "270752   NaN  \n",
      "270753   NaN  \n",
      "270955   NaN  \n",
      "270971   NaN  \n",
      "270972   NaN  \n",
      "\n",
      "[7435 rows x 15 columns]\n",
      "\n",
      "DataFrame pour la taille entre 145 et 210 cm inclus:\n",
      "            ID                                     Name Sex   Age  Height  \\\n",
      "1622       901                        Amos Ojo Adekunle   M  26.0   140.0   \n",
      "1623       901                        Amos Ojo Adekunle   M  30.0   140.0   \n",
      "1634       906                            Peter Adelaar   M  33.0   213.0   \n",
      "1635       906                            Peter Adelaar   M  33.0   213.0   \n",
      "3453      1960                   Saed Muhammad Al-Houti   M  26.0   140.0   \n",
      "...        ...                                      ...  ..   ...     ...   \n",
      "270185  135165  Kimberley Lyn \"Kim\" Zmeskal (-Burdette)   F  16.0   139.0   \n",
      "270186  135165  Kimberley Lyn \"Kim\" Zmeskal (-Burdette)   F  16.0   139.0   \n",
      "270740  135401                       Eurelijus ukauskas   M  22.0   218.0   \n",
      "270741  135401                       Eurelijus ukauskas   M  27.0   218.0   \n",
      "270742  135401                       Eurelijus ukauskas   M  30.0   218.0   \n",
      "\n",
      "        Weight           Team  NOC        Games  Year  Season       City  \\\n",
      "1622      48.0        Nigeria  NGR  1988 Summer  1988  Summer      Seoul   \n",
      "1623      48.0        Nigeria  NGR  1992 Summer  1992  Summer  Barcelona   \n",
      "1634     135.0    Netherlands  NED  1980 Summer  1980  Summer     Moskva   \n",
      "1635     135.0    Netherlands  NED  1980 Summer  1980  Summer     Moskva   \n",
      "3453      56.0         Kuwait  KUW  1980 Summer  1980  Summer     Moskva   \n",
      "...        ...            ...  ...          ...   ...     ...        ...   \n",
      "270185    36.0  United States  USA  1992 Summer  1992  Summer  Barcelona   \n",
      "270186    36.0  United States  USA  1992 Summer  1992  Summer  Barcelona   \n",
      "270740   115.0      Lithuania  LTU  1996 Summer  1996  Summer    Atlanta   \n",
      "270741   115.0      Lithuania  LTU  2000 Summer  2000  Summer     Sydney   \n",
      "270742   115.0      Lithuania  LTU  2004 Summer  2004  Summer     Athina   \n",
      "\n",
      "             Sport                                       Event   Medal  \n",
      "1622     Wrestling  Wrestling Men's Light-Flyweight, Freestyle     NaN  \n",
      "1623     Wrestling  Wrestling Men's Light-Flyweight, Freestyle     NaN  \n",
      "1634          Judo                      Judo Men's Heavyweight     NaN  \n",
      "1635          Judo                       Judo Men's Open Class     NaN  \n",
      "3453      Football                     Football Men's Football     NaN  \n",
      "...            ...                                         ...     ...  \n",
      "270185  Gymnastics              Gymnastics Women's Uneven Bars     NaN  \n",
      "270186  Gymnastics             Gymnastics Women's Balance Beam     NaN  \n",
      "270740  Basketball                 Basketball Men's Basketball  Bronze  \n",
      "270741  Basketball                 Basketball Men's Basketball  Bronze  \n",
      "270742  Basketball                 Basketball Men's Basketball     NaN  \n",
      "\n",
      "[739 rows x 15 columns]\n",
      "\n",
      "DataFrame pour le poids entre 35 et 118 kg inclus:\n",
      "            ID                      Name Sex   Age  Height  Weight  \\\n",
      "57          18      Timo Antero Aaltonen   M  31.0   189.0   130.0   \n",
      "80          22             Andreea Aanei   F  22.0   170.0   125.0   \n",
      "384        212  Yasser Abdel Rahman Sakr   M  30.0   180.0   120.0   \n",
      "588        338      Muminzhon Abdullayev   M  22.0   190.0   130.0   \n",
      "589        338      Muminzhon Abdullayev   M  26.0   190.0   130.0   \n",
      "...        ...                       ...  ..   ...     ...     ...   \n",
      "270036  135095           Szymon Zikowski   M  32.0   192.0   120.0   \n",
      "270037  135095           Szymon Zikowski   M  36.0   192.0   120.0   \n",
      "270643  135357                Ji Zubrick   M  24.0   188.0   161.0   \n",
      "270644  135357                Ji Zubrick   M  28.0   188.0   161.0   \n",
      "270801  135431                 Stipe uni   M  25.0   193.0   134.0   \n",
      "\n",
      "                  Team  NOC        Games  Year  Season            City  \\\n",
      "57             Finland  FIN  2000 Summer  2000  Summer          Sydney   \n",
      "80             Romania  ROU  2016 Summer  2016  Summer  Rio de Janeiro   \n",
      "384              Egypt  EGY  2008 Summer  2008  Summer         Beijing   \n",
      "588         Uzbekistan  UZB  2012 Summer  2012  Summer          London   \n",
      "589         Uzbekistan  UZB  2016 Summer  2016  Summer  Rio de Janeiro   \n",
      "...                ...  ...          ...   ...     ...             ...   \n",
      "270036          Poland  POL  2008 Summer  2008  Summer         Beijing   \n",
      "270037          Poland  POL  2012 Summer  2012  Summer          London   \n",
      "270643  Czechoslovakia  TCH  1988 Summer  1988  Summer           Seoul   \n",
      "270644  Czechoslovakia  TCH  1992 Summer  1992  Summer       Barcelona   \n",
      "270801         Croatia  CRO  2016 Summer  2016  Summer  Rio de Janeiro   \n",
      "\n",
      "                Sport                                           Event Medal  \n",
      "57          Athletics                        Athletics Men's Shot Put   NaN  \n",
      "80      Weightlifting         Weightlifting Women's Super-Heavyweight   NaN  \n",
      "384         Wrestling  Wrestling Men's Super-Heavyweight, Greco-Roman   NaN  \n",
      "588         Wrestling  Wrestling Men's Super-Heavyweight, Greco-Roman   NaN  \n",
      "589         Wrestling  Wrestling Men's Super-Heavyweight, Greco-Roman   NaN  \n",
      "...               ...                                             ...   ...  \n",
      "270036      Athletics                    Athletics Men's Hammer Throw   NaN  \n",
      "270037      Athletics                    Athletics Men's Hammer Throw   NaN  \n",
      "270643  Weightlifting           Weightlifting Men's Super-Heavyweight   NaN  \n",
      "270644  Weightlifting           Weightlifting Men's Super-Heavyweight   NaN  \n",
      "270801      Athletics                        Athletics Men's Shot Put   NaN  \n",
      "\n",
      "[1769 rows x 15 columns]\n"
     ]
    }
   ],
   "source": [
    "#lecture des valeurs abbérantes\n",
    "# Filtre sur les enregistrements où l'âge est supérieur à 40 et inférieur à 11 ans\n",
    "base_summer_age_11_40 = base_summer[(base_summer['Age'] > 40) | (base_summer['Age'] < 11)]\n",
    "print(\"DataFrame pour l'âge entre 11 et 40 ans inclus:\")\n",
    "print(base_summer_age_11_40)\n",
    "\n",
    "# Filtre sur les enregistrements où la taille est inférieure à 145 cm et supérieure à 210 cm\n",
    "base_summer_height_145_210 = base_summer[(base_summer['Height'] > 210) | (base_summer['Height'] < 145)]\n",
    "print(\"\\nDataFrame pour la taille entre 145 et 210 cm inclus:\")\n",
    "print(base_summer_height_145_210)\n",
    "\n",
    "# Filtre sur les enregistrements où le poids est inférieur à 35 kg et supérieur à 118 kg\n",
    "base_summer_weight_35_118 = base_summer[(base_summer['Weight'] > 118) | (base_summer['Weight'] < 35)]\n",
    "print(\"\\nDataFrame pour le poids entre 35 et 118 kg inclus:\")\n",
    "print(base_summer_weight_35_118)\n"
   ]
  },
  {
   "cell_type": "markdown",
   "metadata": {},
   "source": [
    "# Regroupements"
   ]
  },
  {
   "cell_type": "code",
   "execution_count": null,
   "metadata": {},
   "outputs": [],
   "source": [
    "#voir la répartiton des variables quantitatives avant le regroupement\n",
    "###################YEAR####################\n",
    "plt.figure(figsize=(8, 6))\n",
    "sns.histplot(base_summer['Year'], bins=30, kde=True, color='#008030', stat='density', element='bars', common_norm=False)  # Utilisation du code hexadécimal pour un bleu canard foncé\n",
    "sns.kdeplot(base_summer['Year'], color='red', linewidth=2)  # Courbe KDE en rouge\n",
    "plt.title('Répartition de la variable année ')\n",
    "plt.xlabel('Année')\n",
    "plt.ylabel('Densité')\n",
    "plt.show()\n",
    "\n",
    "###################AGE#####################\n",
    "plt.figure(figsize=(8, 6))\n",
    "sns.histplot(base_summer['Age'], bins=30, kde=True, color='#008080', stat='density', element='bars', common_norm=False)  # Utilisation du code hexadécimal pour un bleu canard foncé\n",
    "sns.kdeplot(base_summer['Age'], color='red', linewidth=2)  # Courbe KDE en rouge\n",
    "plt.title('Répartition de la variable age ')\n",
    "plt.xlabel('Age')\n",
    "plt.ylabel('Densité')\n",
    "plt.show()\n",
    "\n",
    "###################HEIGHT#####################\n",
    "plt.figure(figsize=(8, 6))\n",
    "sns.histplot(base_summer['Height'], bins=30, kde=True, color='#008030', stat='density', element='bars', common_norm=False)  # Utilisation du code hexadécimal pour un bleu canard foncé\n",
    "sns.kdeplot(base_summer['Height'], color='red', linewidth=2)  # Courbe KDE en rouge\n",
    "plt.title('Répartition de la variable taille ')\n",
    "plt.xlabel('Taille')\n",
    "plt.ylabel('Densité')\n",
    "plt.show()\n",
    "\n",
    "###################WEIGHT#####################\n",
    "plt.figure(figsize=(8, 6))\n",
    "sns.histplot(base_summer['Weight'], bins=30, kde=True, color='#008030', stat='density', element='bars', common_norm=False)  # Utilisation du code hexadécimal pour un bleu canard foncé\n",
    "sns.kdeplot(base_summer['Weight'], color='red', linewidth=2)  # Courbe KDE en rouge\n",
    "plt.title('Répartition de la variable poids ')\n",
    "plt.xlabel('Poids')\n",
    "plt.ylabel('Densité')\n",
    "plt.show()"
   ]
  },
  {
   "cell_type": "code",
   "execution_count": 7,
   "metadata": {},
   "outputs": [
    {
     "name": "stdout",
     "output_type": "stream",
     "text": [
      "     Age   Classe_age\n",
      "0   24.0  21 - 24 ans\n",
      "1   23.0  21 - 24 ans\n",
      "2   24.0  21 - 24 ans\n",
      "3   34.0     > 32 ans\n",
      "26  18.0     < 21 ans\n",
      "    Height Classe_height\n",
      "0    180.0  173 - 185 cm\n",
      "1    170.0  165 - 172 cm\n",
      "2      NaN           NaN\n",
      "3      NaN           NaN\n",
      "26   168.0  165 - 172 cm\n",
      "     Weight Classe_weight\n",
      "0      80.0    74 - 80 kg\n",
      "1      60.0       < 65 kg\n",
      "2       NaN           NaN\n",
      "3       NaN           NaN\n",
      "26      NaN           NaN\n",
      "..      ...           ...\n",
      "127    93.0       > 80 kg\n",
      "128    93.0       > 80 kg\n",
      "129    93.0       > 80 kg\n",
      "130    74.0    74 - 80 kg\n",
      "131    74.0    74 - 80 kg\n",
      "\n",
      "[70 rows x 2 columns]\n"
     ]
    },
    {
     "name": "stderr",
     "output_type": "stream",
     "text": [
      "/Users/lepercqlouise/stockage_macBook/Rendu_MLOPS/mlops_functions/functions.py:65: SettingWithCopyWarning: \n",
      "A value is trying to be set on a copy of a slice from a DataFrame.\n",
      "Try using .loc[row_indexer,col_indexer] = value instead\n",
      "\n",
      "See the caveats in the documentation: https://pandas.pydata.org/pandas-docs/stable/user_guide/indexing.html#returning-a-view-versus-a-copy\n",
      "  df['Classe_age'] = pd.cut(df['Age'], bins=intervalles, labels=labels, right=False)\n",
      "/Users/lepercqlouise/stockage_macBook/Rendu_MLOPS/mlops_functions/functions.py:68: SettingWithCopyWarning: \n",
      "A value is trying to be set on a copy of a slice from a DataFrame.\n",
      "Try using .loc[row_indexer,col_indexer] = value instead\n",
      "\n",
      "See the caveats in the documentation: https://pandas.pydata.org/pandas-docs/stable/user_guide/indexing.html#returning-a-view-versus-a-copy\n",
      "  df['Classe_age'] = df['Classe_age'].astype('category')\n",
      "/Users/lepercqlouise/stockage_macBook/Rendu_MLOPS/mlops_functions/functions.py:78: SettingWithCopyWarning: \n",
      "A value is trying to be set on a copy of a slice from a DataFrame.\n",
      "Try using .loc[row_indexer,col_indexer] = value instead\n",
      "\n",
      "See the caveats in the documentation: https://pandas.pydata.org/pandas-docs/stable/user_guide/indexing.html#returning-a-view-versus-a-copy\n",
      "  df['Classe_height'] = pd.cut(df['Height'], bins=intervalles_taille, labels=labels_taille, right=False)\n",
      "/Users/lepercqlouise/stockage_macBook/Rendu_MLOPS/mlops_functions/functions.py:81: SettingWithCopyWarning: \n",
      "A value is trying to be set on a copy of a slice from a DataFrame.\n",
      "Try using .loc[row_indexer,col_indexer] = value instead\n",
      "\n",
      "See the caveats in the documentation: https://pandas.pydata.org/pandas-docs/stable/user_guide/indexing.html#returning-a-view-versus-a-copy\n",
      "  df['Classe_height'] = df['Classe_height'].astype('category')\n",
      "/Users/lepercqlouise/stockage_macBook/Rendu_MLOPS/mlops_functions/functions.py:91: SettingWithCopyWarning: \n",
      "A value is trying to be set on a copy of a slice from a DataFrame.\n",
      "Try using .loc[row_indexer,col_indexer] = value instead\n",
      "\n",
      "See the caveats in the documentation: https://pandas.pydata.org/pandas-docs/stable/user_guide/indexing.html#returning-a-view-versus-a-copy\n",
      "  df['Classe_weight'] = pd.cut(df['Weight'], bins=intervalles_poids, labels=labels_poids, right=False)\n",
      "/Users/lepercqlouise/stockage_macBook/Rendu_MLOPS/mlops_functions/functions.py:94: SettingWithCopyWarning: \n",
      "A value is trying to be set on a copy of a slice from a DataFrame.\n",
      "Try using .loc[row_indexer,col_indexer] = value instead\n",
      "\n",
      "See the caveats in the documentation: https://pandas.pydata.org/pandas-docs/stable/user_guide/indexing.html#returning-a-view-versus-a-copy\n",
      "  df['Classe_weight'] = df['Classe_weight'].astype('category')\n"
     ]
    }
   ],
   "source": [
    "from mlops_functions.functions import create_age_classes, create_height_classes, create_weight_classes\n",
    "\n",
    "# Création des classes d'âge\n",
    "age_classes = create_age_classes(base_summer)\n",
    "print(age_classes.head(5))\n",
    "\n",
    "# Création des classes de taille\n",
    "height_classes = create_height_classes(base_summer)\n",
    "print(height_classes.head(5))\n",
    "\n",
    "# Création des classes de poids\n",
    "weight_classes = create_weight_classes(base_summer)\n",
    "print(weight_classes.head(70))"
   ]
  },
  {
   "cell_type": "code",
   "execution_count": null,
   "metadata": {},
   "outputs": [],
   "source": [
    "#afficher les frequences de modalites pour les variables regroupes\n",
    "###################AGE#####################\n",
    "print(\"Fréquences de modalités pour la Classe âge:\")\n",
    "print(base_summer['Classe_age'].value_counts())\n",
    "\n",
    "###################HEIGHT#####################\n",
    "print(\"\\nFréquences de modalités pour la Classe taille:\")\n",
    "print(base_summer['Classe_height'].value_counts())\n",
    "\n",
    "###################WEIGHT#####################\n",
    "print(\"\\nFréquences de modalités pour la Classe poids:\")\n",
    "print(base_summer['Classe_weight'].value_counts())\n",
    "\n",
    "\n",
    "#fonction pour afficher les fréquences en pourcentage\n",
    "def print_percentage_counts(column_name):\n",
    "    percentages = base_summer[column_name].value_counts(normalize=True) * 100\n",
    "    print(f\"Fréquences en pourcentage pour la colonne '{column_name}':\")\n",
    "    print(percentages)\n",
    "\n",
    "# Afficher les fréquences en pourcentage pour la classe d'âge\n",
    "print_percentage_counts('Classe_age')\n",
    "\n",
    "# Afficher les fréquences en pourcentage pour la classe de taille\n",
    "print(\"\\n\")\n",
    "print_percentage_counts('Classe_height')\n",
    "\n",
    "# Afficher les fréquences en pourcentage pour la classe de poids\n",
    "print(\"\\n\")\n",
    "print_percentage_counts('Classe_weight')\n"
   ]
  },
  {
   "cell_type": "markdown",
   "metadata": {},
   "source": [
    "# Filtre les années 2000 et suppression de variable"
   ]
  },
  {
   "cell_type": "code",
   "execution_count": 8,
   "metadata": {},
   "outputs": [
    {
     "name": "stdout",
     "output_type": "stream",
     "text": [
      "    ID                       Name Sex   Age  Height  Weight     Team  NOC  \\\n",
      "1    2                   A Lamusi   M  23.0   170.0    60.0    China  CHN   \n",
      "31  12          Jyri Tapani Aalto   M  31.0   172.0    70.0  Finland  FIN   \n",
      "33  13         Minna Maarit Aalto   F  34.0   159.0    55.5  Finland  FIN   \n",
      "57  18       Timo Antero Aaltonen   M  31.0   189.0   130.0  Finland  FIN   \n",
      "79  21  Ragnhild Margrethe Aamodt   F  27.0   163.0     NaN   Norway  NOR   \n",
      "\n",
      "          Games  Year  Season     City      Sport  \\\n",
      "1   2012 Summer  2012  Summer   London       Judo   \n",
      "31  2000 Summer  2000  Summer   Sydney  Badminton   \n",
      "33  2000 Summer  2000  Summer   Sydney    Sailing   \n",
      "57  2000 Summer  2000  Summer   Sydney  Athletics   \n",
      "79  2008 Summer  2008  Summer  Beijing   Handball   \n",
      "\n",
      "                           Event Medal   Classe_age Classe_height  \\\n",
      "1   Judo Men's Extra-Lightweight   NaN  21 - 24 ans  165 - 172 cm   \n",
      "31       Badminton Men's Singles   NaN    25-32 ans  165 - 172 cm   \n",
      "33    Sailing Women's Windsurfer   NaN     > 32 ans      < 165 cm   \n",
      "57      Athletics Men's Shot Put   NaN    25-32 ans      > 185 cm   \n",
      "79     Handball Women's Handball  Gold    25-32 ans      < 165 cm   \n",
      "\n",
      "   Classe_weight  \n",
      "1        < 65 kg  \n",
      "31    65 - 73 kg  \n",
      "33       < 65 kg  \n",
      "57       > 80 kg  \n",
      "79           NaN  \n"
     ]
    }
   ],
   "source": [
    "from mlops_functions.functions import filter_by_year\n",
    "\n",
    "# Filtrer sur l'année supérieure ou égale à 2000\n",
    "base_summer_2000 = filter_by_year(base_summer)\n",
    "print(base_summer_2000.head())"
   ]
  },
  {
   "cell_type": "code",
   "execution_count": 9,
   "metadata": {},
   "outputs": [
    {
     "name": "stdout",
     "output_type": "stream",
     "text": [
      "Avant suppression des colonnes :\n",
      "    ID                       Name Sex   Age  Height  Weight     Team  NOC  \\\n",
      "1    2                   A Lamusi   M  23.0   170.0    60.0    China  CHN   \n",
      "31  12          Jyri Tapani Aalto   M  31.0   172.0    70.0  Finland  FIN   \n",
      "33  13         Minna Maarit Aalto   F  34.0   159.0    55.5  Finland  FIN   \n",
      "57  18       Timo Antero Aaltonen   M  31.0   189.0   130.0  Finland  FIN   \n",
      "79  21  Ragnhild Margrethe Aamodt   F  27.0   163.0     NaN   Norway  NOR   \n",
      "\n",
      "          Games  Year  Season     City      Sport  \\\n",
      "1   2012 Summer  2012  Summer   London       Judo   \n",
      "31  2000 Summer  2000  Summer   Sydney  Badminton   \n",
      "33  2000 Summer  2000  Summer   Sydney    Sailing   \n",
      "57  2000 Summer  2000  Summer   Sydney  Athletics   \n",
      "79  2008 Summer  2008  Summer  Beijing   Handball   \n",
      "\n",
      "                           Event Medal   Classe_age Classe_height  \\\n",
      "1   Judo Men's Extra-Lightweight   NaN  21 - 24 ans  165 - 172 cm   \n",
      "31       Badminton Men's Singles   NaN    25-32 ans  165 - 172 cm   \n",
      "33    Sailing Women's Windsurfer   NaN     > 32 ans      < 165 cm   \n",
      "57      Athletics Men's Shot Put   NaN    25-32 ans      > 185 cm   \n",
      "79     Handball Women's Handball  Gold    25-32 ans      < 165 cm   \n",
      "\n",
      "   Classe_weight  \n",
      "1        < 65 kg  \n",
      "31    65 - 73 kg  \n",
      "33       < 65 kg  \n",
      "57       > 80 kg  \n",
      "79           NaN  \n",
      "\n",
      "Après suppression des colonnes :\n",
      "    ID                       Name Sex  NOC        Games  Year     City  \\\n",
      "1    2                   A Lamusi   M  CHN  2012 Summer  2012   London   \n",
      "31  12          Jyri Tapani Aalto   M  FIN  2000 Summer  2000   Sydney   \n",
      "33  13         Minna Maarit Aalto   F  FIN  2000 Summer  2000   Sydney   \n",
      "57  18       Timo Antero Aaltonen   M  FIN  2000 Summer  2000   Sydney   \n",
      "79  21  Ragnhild Margrethe Aamodt   F  NOR  2008 Summer  2008  Beijing   \n",
      "\n",
      "        Sport                         Event Medal   Classe_age Classe_height  \\\n",
      "1        Judo  Judo Men's Extra-Lightweight   NaN  21 - 24 ans  165 - 172 cm   \n",
      "31  Badminton       Badminton Men's Singles   NaN    25-32 ans  165 - 172 cm   \n",
      "33    Sailing    Sailing Women's Windsurfer   NaN     > 32 ans      < 165 cm   \n",
      "57  Athletics      Athletics Men's Shot Put   NaN    25-32 ans      > 185 cm   \n",
      "79   Handball     Handball Women's Handball  Gold    25-32 ans      < 165 cm   \n",
      "\n",
      "   Classe_weight  \n",
      "1        < 65 kg  \n",
      "31    65 - 73 kg  \n",
      "33       < 65 kg  \n",
      "57       > 80 kg  \n",
      "79           NaN  \n"
     ]
    }
   ],
   "source": [
    "from mlops_functions.functions import drop_columns\n",
    "\n",
    "# Filtrer sur l'année supérieure ou égale à 2000\n",
    "base_summer_2000 = filter_by_year(base_summer)\n",
    "print(\"Avant suppression des colonnes :\")\n",
    "print(base_summer_2000.head())\n",
    "\n",
    "# Supprimer les variables 'Team' et 'Season'\n",
    "columns_to_drop = ['Team', 'Season', 'Age', 'Height', 'Weight']\n",
    "base_summer_2000 = drop_columns(base_summer_2000, columns_to_drop)\n",
    "print(\"\\nAprès suppression des colonnes :\")\n",
    "print(base_summer_2000.head())\n"
   ]
  },
  {
   "cell_type": "markdown",
   "metadata": {},
   "source": [
    "# Valeurs manquantes du df base_summer_2000"
   ]
  },
  {
   "cell_type": "code",
   "execution_count": 10,
   "metadata": {},
   "outputs": [
    {
     "name": "stdout",
     "output_type": "stream",
     "text": [
      "Avant suppression des colonnes :\n",
      "    ID                       Name Sex   Age  Height  Weight     Team  NOC  \\\n",
      "1    2                   A Lamusi   M  23.0   170.0    60.0    China  CHN   \n",
      "31  12          Jyri Tapani Aalto   M  31.0   172.0    70.0  Finland  FIN   \n",
      "33  13         Minna Maarit Aalto   F  34.0   159.0    55.5  Finland  FIN   \n",
      "57  18       Timo Antero Aaltonen   M  31.0   189.0   130.0  Finland  FIN   \n",
      "79  21  Ragnhild Margrethe Aamodt   F  27.0   163.0     NaN   Norway  NOR   \n",
      "\n",
      "          Games  Year  Season     City      Sport  \\\n",
      "1   2012 Summer  2012  Summer   London       Judo   \n",
      "31  2000 Summer  2000  Summer   Sydney  Badminton   \n",
      "33  2000 Summer  2000  Summer   Sydney    Sailing   \n",
      "57  2000 Summer  2000  Summer   Sydney  Athletics   \n",
      "79  2008 Summer  2008  Summer  Beijing   Handball   \n",
      "\n",
      "                           Event Medal   Classe_age Classe_height  \\\n",
      "1   Judo Men's Extra-Lightweight   NaN  21 - 24 ans  165 - 172 cm   \n",
      "31       Badminton Men's Singles   NaN    25-32 ans  165 - 172 cm   \n",
      "33    Sailing Women's Windsurfer   NaN     > 32 ans      < 165 cm   \n",
      "57      Athletics Men's Shot Put   NaN    25-32 ans      > 185 cm   \n",
      "79     Handball Women's Handball  Gold    25-32 ans      < 165 cm   \n",
      "\n",
      "   Classe_weight  \n",
      "1        < 65 kg  \n",
      "31    65 - 73 kg  \n",
      "33       < 65 kg  \n",
      "57       > 80 kg  \n",
      "79           NaN  \n",
      "Valeurs manquantes par variable :\n",
      "ID                   0\n",
      "Name                 0\n",
      "Sex                  0\n",
      "Age                  3\n",
      "Height             654\n",
      "Weight             905\n",
      "Team                 0\n",
      "NOC                  0\n",
      "Games                0\n",
      "Year                 0\n",
      "Season               0\n",
      "City                 0\n",
      "Sport                0\n",
      "Event                0\n",
      "Medal            57457\n",
      "Classe_age           3\n",
      "Classe_height      654\n",
      "Classe_weight      905\n",
      "dtype: int64\n"
     ]
    }
   ],
   "source": [
    "from mlops_functions.functions import display_missing_values\n",
    "\n",
    "# Filtrer sur l'année supérieure ou égale à 2000\n",
    "base_summer_2000 = filter_by_year(base_summer)\n",
    "print(\"Avant suppression des colonnes :\")\n",
    "print(base_summer_2000.head())\n",
    "\n",
    "# Calculer et afficher les valeurs manquantes\n",
    "valeurs_manquantes_par_variable2 = display_missing_values(base_summer_2000)\n"
   ]
  },
  {
   "cell_type": "code",
   "execution_count": 11,
   "metadata": {},
   "outputs": [
    {
     "name": "stdout",
     "output_type": "stream",
     "text": [
      "Avant suppression des colonnes :\n",
      "    ID                       Name Sex   Age  Height  Weight     Team  NOC  \\\n",
      "1    2                   A Lamusi   M  23.0   170.0    60.0    China  CHN   \n",
      "31  12          Jyri Tapani Aalto   M  31.0   172.0    70.0  Finland  FIN   \n",
      "33  13         Minna Maarit Aalto   F  34.0   159.0    55.5  Finland  FIN   \n",
      "57  18       Timo Antero Aaltonen   M  31.0   189.0   130.0  Finland  FIN   \n",
      "79  21  Ragnhild Margrethe Aamodt   F  27.0   163.0     NaN   Norway  NOR   \n",
      "\n",
      "          Games  Year  Season     City      Sport  \\\n",
      "1   2012 Summer  2012  Summer   London       Judo   \n",
      "31  2000 Summer  2000  Summer   Sydney  Badminton   \n",
      "33  2000 Summer  2000  Summer   Sydney    Sailing   \n",
      "57  2000 Summer  2000  Summer   Sydney  Athletics   \n",
      "79  2008 Summer  2008  Summer  Beijing   Handball   \n",
      "\n",
      "                           Event Medal   Classe_age Classe_height  \\\n",
      "1   Judo Men's Extra-Lightweight   NaN  21 - 24 ans  165 - 172 cm   \n",
      "31       Badminton Men's Singles   NaN    25-32 ans  165 - 172 cm   \n",
      "33    Sailing Women's Windsurfer   NaN     > 32 ans      < 165 cm   \n",
      "57      Athletics Men's Shot Put   NaN    25-32 ans      > 185 cm   \n",
      "79     Handball Women's Handball  Gold    25-32 ans      < 165 cm   \n",
      "\n",
      "   Classe_weight  \n",
      "1        < 65 kg  \n",
      "31    65 - 73 kg  \n",
      "33       < 65 kg  \n",
      "57       > 80 kg  \n",
      "79           NaN  \n",
      "Valeurs manquantes après suppression :\n",
      "ID                   0\n",
      "Name                 0\n",
      "Sex                  0\n",
      "Age                  0\n",
      "Height               0\n",
      "Weight               0\n",
      "Team                 0\n",
      "NOC                  0\n",
      "Games                0\n",
      "Year                 0\n",
      "Season               0\n",
      "City                 0\n",
      "Sport                0\n",
      "Event                0\n",
      "Medal            56493\n",
      "Classe_age           0\n",
      "Classe_height        0\n",
      "Classe_weight        0\n",
      "dtype: int64\n",
      "\n",
      "Après suppression des valeurs manquantes :\n",
      "    ID                  Name Sex   Age  Height  Weight     Team  NOC  \\\n",
      "1    2              A Lamusi   M  23.0   170.0    60.0    China  CHN   \n",
      "31  12     Jyri Tapani Aalto   M  31.0   172.0    70.0  Finland  FIN   \n",
      "33  13    Minna Maarit Aalto   F  34.0   159.0    55.5  Finland  FIN   \n",
      "57  18  Timo Antero Aaltonen   M  31.0   189.0   130.0  Finland  FIN   \n",
      "80  22         Andreea Aanei   F  22.0   170.0   125.0  Romania  ROU   \n",
      "\n",
      "          Games  Year  Season            City          Sport  \\\n",
      "1   2012 Summer  2012  Summer          London           Judo   \n",
      "31  2000 Summer  2000  Summer          Sydney      Badminton   \n",
      "33  2000 Summer  2000  Summer          Sydney        Sailing   \n",
      "57  2000 Summer  2000  Summer          Sydney      Athletics   \n",
      "80  2016 Summer  2016  Summer  Rio de Janeiro  Weightlifting   \n",
      "\n",
      "                                      Event Medal   Classe_age Classe_height  \\\n",
      "1              Judo Men's Extra-Lightweight   NaN  21 - 24 ans  165 - 172 cm   \n",
      "31                  Badminton Men's Singles   NaN    25-32 ans  165 - 172 cm   \n",
      "33               Sailing Women's Windsurfer   NaN     > 32 ans      < 165 cm   \n",
      "57                 Athletics Men's Shot Put   NaN    25-32 ans      > 185 cm   \n",
      "80  Weightlifting Women's Super-Heavyweight   NaN  21 - 24 ans  165 - 172 cm   \n",
      "\n",
      "   Classe_weight  \n",
      "1        < 65 kg  \n",
      "31    65 - 73 kg  \n",
      "33       < 65 kg  \n",
      "57       > 80 kg  \n",
      "80       > 80 kg  \n"
     ]
    }
   ],
   "source": [
    "from mlops_functions.functions import drop_missing_values\n",
    "\n",
    "# Filtrer sur l'année supérieure ou égale à 2000\n",
    "base_summer_2000 = filter_by_year(base_summer)\n",
    "print(\"Avant suppression des colonnes :\")\n",
    "print(base_summer_2000.head())\n",
    "\n",
    "# Supprimer les valeurs manquantes pour les colonnes spécifiques\n",
    "columns_to_check = ['Classe_age', 'Classe_height', 'Classe_weight']\n",
    "base_summer_2000_net = drop_missing_values(base_summer_2000, columns_to_check)\n",
    "print(\"\\nAprès suppression des valeurs manquantes :\")\n",
    "print(base_summer_2000_net.head())"
   ]
  },
  {
   "cell_type": "code",
   "execution_count": 12,
   "metadata": {},
   "outputs": [
    {
     "name": "stdout",
     "output_type": "stream",
     "text": [
      "Nombre de lignes : 66450\n"
     ]
    }
   ],
   "source": [
    "#nombre de ligne de notre df base après filtre du df base summer\n",
    "nombre_de_lignes3 = base_summer_2000_net.shape[0]\n",
    "\n",
    "#affiche le nombre de lignes du df base summer 2000\n",
    "print(\"Nombre de lignes :\", nombre_de_lignes3)"
   ]
  },
  {
   "cell_type": "markdown",
   "metadata": {},
   "source": [
    "# Statistiques descriptives"
   ]
  },
  {
   "cell_type": "code",
   "execution_count": 14,
   "metadata": {},
   "outputs": [
    {
     "data": {
      "image/png": "[encoded data removed]",
      "text/plain": [
       "<Figure size 600x600 with 1 Axes>"
      ]
     },
     "metadata": {},
     "output_type": "display_data"
    },
    {
     "data": {
      "image/png": "[encoded data removed]",
      "text/plain": [
       "<Figure size 600x600 with 1 Axes>"
      ]
     },
     "metadata": {},
     "output_type": "display_data"
    },
    {
     "data": {
      "image/png": "[encoded data removed]",
      "text/plain": [
       "<Figure size 1200x600 with 1 Axes>"
      ]
     },
     "metadata": {},
     "output_type": "display_data"
    },
    {
     "data": {
      "image/png": "[encoded data removed]",
      "text/plain": [
       "<Figure size 1200x600 with 1 Axes>"
      ]
     },
     "metadata": {},
     "output_type": "display_data"
    },
    {
     "name": "stdout",
     "output_type": "stream",
     "text": [
      "     NOC  Nombre d'individus\n",
      "201  USA                3645\n",
      "11   AUS                2963\n",
      "73   GER                2760\n",
      "161  RUS                2738\n",
      "39   CHN                2635\n",
      "69   GBR                2344\n",
      "65   FRA                2312\n",
      "94   ITA                2155\n",
      "98   JPN                2038\n",
      "34   CAN                2018\n",
      "60   ESP                1909\n",
      "27   BRA                1765\n",
      "199  UKR                1611\n",
      "103  KOR                1598\n",
      "137  NED                1383\n",
      "153  POL                1321\n"
     ]
    }
   ],
   "source": [
    "from mlops_functions.stats import plot_sex_pie_chart, plot_age_class_pie_chart, plot_count_percentage_bar_chart, plot_noc_distribution\n",
    "\n",
    "# Exemple d'utilisation\n",
    "plot_sex_pie_chart(base_summer_2000_net, 'Répartition des sexes')\n",
    "plot_age_class_pie_chart(base_summer_2000_net, 'Répartition des âges')\n",
    "plot_count_percentage_bar_chart(base_summer_2000_net, 'Classe_height', 'Répartition des tailles')\n",
    "plot_count_percentage_bar_chart(base_summer_2000_net, 'Classe_weight', 'Répartition des poids')\n",
    "plot_noc_distribution(base_summer_2000_net)\n"
   ]
  },
  {
   "cell_type": "markdown",
   "metadata": {},
   "source": [
    "## statistique univarié"
   ]
  },
  {
   "cell_type": "code",
   "execution_count": null,
   "metadata": {},
   "outputs": [],
   "source": [
    "colors = ['#008030', '#008080', '#00A86B', '#4CAF50', '#7CFC00']\n",
    "\n",
    "# Statistique sur la variable sex \n",
    "\n",
    "plt.figure(figsize=(6,6))\n",
    "base_summer_2000_net['Sex'].value_counts().plot.pie(explode=[0,0.1],autopct='%1.1f%%',shadow=True,startangle=15, colors = colors)\n",
    "plt.title('Répartition des sexes')\n",
    "plt.show()"
   ]
  },
  {
   "cell_type": "code",
   "execution_count": null,
   "metadata": {},
   "outputs": [],
   "source": [
    "# Statistique sur la variable classe_age\n",
    "\n",
    "plt.figure(figsize=(6,6))\n",
    "base_summer_2000_net['Classe_age'].value_counts().plot.pie(colors = colors,autopct='%1.1f%%')\n",
    "plt.title('Répartition des âges')\n",
    "plt.show()"
   ]
  },
  {
   "cell_type": "code",
   "execution_count": null,
   "metadata": {},
   "outputs": [],
   "source": [
    "# Statistique sur la variable classe_height\n",
    "\n",
    "plt.figure(figsize=(6,6))\n",
    "base_summer_2000_net['Classe_height'].value_counts().plot.pie(colors = colors, autopct='%1.1f%%')\n",
    "plt.title('Répartition des tailles')\n",
    "plt.show()"
   ]
  },
  {
   "cell_type": "code",
   "execution_count": null,
   "metadata": {},
   "outputs": [],
   "source": [
    "# Statistique sur la variable height\n",
    "\n",
    "plt.figure(figsize=(12, 6))\n",
    "\n",
    "# Comptez les occurrences de chaque catégorie\n",
    "total = float(len(base_summer_2000_net[\"Classe_height\"]))\n",
    "\n",
    "# Utilisez sns.countplot pour afficher le graphique à barres\n",
    "ax = sns.countplot(x=\"Classe_height\", data=base_summer_2000_net, palette='viridis')\n",
    "\n",
    "# Modifiez l'axe y pour être en pourcentage\n",
    "def percent_formatter(x, pos):\n",
    "    return f'{(x / total):.0%}'\n",
    "\n",
    "ax.yaxis.set_major_formatter(FuncFormatter(percent_formatter))\n",
    "\n",
    "# Ajoutez les pourcentages au centre des barres\n",
    "for p in ax.patches:\n",
    "    height = p.get_height()\n",
    "    ax.text(p.get_x() + p.get_width() / 2., height / 2,\n",
    "            '{:.0%}'.format(height / total), ha=\"center\")\n",
    "\n",
    "plt.title('Répartition des tailles')\n",
    "plt.xlabel(\"Classe_height\")\n",
    "plt.ylabel('Pourcentage')\n",
    "plt.xticks(rotation=45)\n",
    "plt.show()\n",
    "\n"
   ]
  },
  {
   "cell_type": "code",
   "execution_count": null,
   "metadata": {},
   "outputs": [],
   "source": [
    "# Statistique sur la variable weight\n",
    "\n",
    "plt.figure(figsize=(6,6))\n",
    "base_summer_2000_net['Classe_weight'].value_counts().plot.pie(colors = colors, autopct='%1.1f%%')\n",
    "plt.title('Répartition des poids')\n",
    "plt.show()"
   ]
  },
  {
   "cell_type": "code",
   "execution_count": null,
   "metadata": {},
   "outputs": [],
   "source": [
    "# Statistique sur la variable weight\n",
    "\n",
    "plt.figure(figsize=(12, 6))\n",
    "\n",
    "# Comptez les occurrences de chaque catégorie\n",
    "total = float(len(base_summer_2000_net[\"Classe_weight\"]))\n",
    "\n",
    "# Utilisez sns.countplot pour afficher le graphique à barres\n",
    "ax = sns.countplot(x=\"Classe_weight\", data=base_summer_2000_net, palette='viridis')\n",
    "\n",
    "# Modifiez l'axe y pour être en pourcentage\n",
    "def percent_formatter(x, pos):\n",
    "    return f'{(x / total):.0%}'\n",
    "\n",
    "ax.yaxis.set_major_formatter(FuncFormatter(percent_formatter))\n",
    "\n",
    "# Ajoutez les pourcentages au centre des barres\n",
    "for p in ax.patches:\n",
    "    height = p.get_height()\n",
    "    ax.text(p.get_x() + p.get_width() / 2., height / 2,\n",
    "            '{:.0%}'.format(height / total), ha=\"center\")\n",
    "\n",
    "plt.title('Répartition des poids')\n",
    "plt.xlabel(\"Classe_xeight\")\n",
    "plt.ylabel('Pourcentage')\n",
    "plt.xticks(rotation=45)\n",
    "plt.show()\n",
    "\n"
   ]
  },
  {
   "cell_type": "code",
   "execution_count": null,
   "metadata": {},
   "outputs": [],
   "source": [
    "# Statistique sur la variable NOC \n",
    "\n",
    "# Créer un DataFrame pour le nombre d'individus par pays\n",
    "tableau_noc = base_summer_2000_net.groupby('NOC').size().reset_index(name='Nombre d\\'individus')\n",
    "\n",
    "# Trier le tableau par le nombre d'individus de manière décroissante\n",
    "tableau_noc_trie = tableau_noc.sort_values(by='Nombre d\\'individus', ascending=False)\n",
    "\n",
    "# Sélectionner les 16 premiers\n",
    "les_16_premiers = tableau_noc_trie.head(16)\n",
    "\n",
    "# Afficher les 16 premiers pays les plus représentés\n",
    "les_16_premiers\n"
   ]
  },
  {
   "cell_type": "markdown",
   "metadata": {},
   "source": [
    "## statistique bivarié"
   ]
  },
  {
   "cell_type": "code",
   "execution_count": null,
   "metadata": {},
   "outputs": [],
   "source": [
    "def create_bar_plot(base_summer_2000_net, x_variable, target_variable='Medal'):\n",
    "\n",
    "    # Create a bar plot\n",
    "    plt.figure(figsize=(12, 6))\n",
    "    sns.countplot(x=x_variable, hue=target_variable, data=base_summer_2000_net, palette='viridis')\n",
    "    plt.title(f'Répartition des {target_variable} selon leurs {x_variable}')\n",
    "    plt.xlabel(x_variable)\n",
    "    plt.ylabel('Count')\n",
    "    plt.xticks(rotation=45)\n",
    "    plt.legend(title=target_variable)\n",
    "    plt.show()\n",
    "\n",
    "# Example usage:\n",
    "# Assuming your DataFrame is named df\n",
    "create_bar_plot(base_summer_2000_net, 'Sex')\n",
    "create_bar_plot(base_summer_2000_net, 'Classe_age')\n",
    "create_bar_plot(base_summer_2000_net, 'Classe_height')\n",
    "create_bar_plot(base_summer_2000_net, 'Classe_weight')\n",
    "create_bar_plot(base_summer_2000_net, 'NOC')\n",
    "create_bar_plot(base_summer_2000_net, 'Games')\n",
    "create_bar_plot(base_summer_2000_net, 'Sport')\n",
    "\n"
   ]
  },
  {
   "cell_type": "markdown",
   "metadata": {},
   "source": [
    "# Corrélation entre les variables - V de Cramer"
   ]
  },
  {
   "cell_type": "code",
   "execution_count": 9,
   "metadata": {},
   "outputs": [],
   "source": [
    "# Sélectionnez vos variables catégorielles\n",
    "categorical_vars = ['Name', 'Sex', 'NOC', 'Games', 'City', 'Sport',\n",
    "                    'Event', 'Medal', 'Classe_age', 'Classe_height', 'Classe_weight']"
   ]
  },
  {
   "cell_type": "code",
   "execution_count": null,
   "metadata": {},
   "outputs": [],
   "source": [
    "# Cette fonction permet de calculer le tableau de contingenance. Au vu de nos données le résultat est long a sortir, donc nou conseillons de ne pas le lancer. \n",
    "\n",
    "from mlops_functions.functions import calculate_cramer_v, plot_cramer_matrix\n",
    "\n",
    "# Calculez le V de Cramer et affichez la matrice de corrélation\n",
    "# cramer_matrix = calculate_cramer_v(base_summer_2000_net, categorical_vars)\n",
    "# plot_cramer_matrix(cramer_matrix)\n"
   ]
  },
  {
   "attachments": {},
   "cell_type": "markdown",
   "metadata": {},
   "source": [
    "# Faire de nouveaux regroupement et suppression des variables utilisées pour la suite de l'analyse"
   ]
  },
  {
   "cell_type": "code",
   "execution_count": 11,
   "metadata": {},
   "outputs": [],
   "source": [
    "base_ACM = base_summer_2000_net\n"
   ]
  },
  {
   "cell_type": "code",
   "execution_count": null,
   "metadata": {},
   "outputs": [],
   "source": [
    "from mlops_functions.functions import transform_base_ACM\n",
    "\n",
    "base_ACM = transform_base_ACM(base_summer_2000_net)\n",
    "\n",
    "# Affichage des colonnes après transformation\n",
    "print(base_ACM.columns)"
   ]
  },
  {
   "cell_type": "code",
   "execution_count": null,
   "metadata": {},
   "outputs": [],
   "source": [
    "#remplacer les valeurs manquantes de la variable cibe par \"pas de médaille\"\n",
    "base_ACM['Medal'].fillna('Pas_de_médaille', inplace=True)\n",
    "base_ACM.isnull().sum()"
   ]
  },
  {
   "attachments": {},
   "cell_type": "markdown",
   "metadata": {},
   "source": [
    "# ACM "
   ]
  },
  {
   "cell_type": "code",
   "execution_count": null,
   "metadata": {},
   "outputs": [],
   "source": [
    "from mlops_functions.functions import analyze_acm\n",
    "\n",
    "base_ACM = analyze_acm(base_ACM)\n",
    "#remplacer les valeurs manquantes de la variable cibe par \"pas de médaille\"\n",
    "#base_ACM['Medal'].fillna('Pas_de_médaille', inplace=True)\n",
    "#print(base_ACM)\n"
   ]
  },
  {
   "cell_type": "code",
   "execution_count": null,
   "metadata": {},
   "outputs": [],
   "source": [
    "# pip install fanalysis\n",
    "# utilisation du package fanalysis \n",
    "\n",
    "#acm = MCA()\n",
    "#acm.fit(base_ACM.values)"
   ]
  },
  {
   "cell_type": "code",
   "execution_count": null,
   "metadata": {},
   "outputs": [],
   "source": [
    "# afficher les valeurs propres \n",
    "#acm.eig_"
   ]
  },
  {
   "cell_type": "code",
   "execution_count": 24,
   "metadata": {},
   "outputs": [],
   "source": [
    "#eigenvalues = acm.eig_"
   ]
  },
  {
   "cell_type": "code",
   "execution_count": null,
   "metadata": {},
   "outputs": [],
   "source": [
    "# Obtenir les valeurs propres associées à chaque composante principale\n",
    "#eigenvalues = acm.eig_\n",
    "\n",
    "# Calculer le pourcentage de chaque valeur propre\n",
    "#total_variance = sum(eigenvalues[0])\n",
    "#percentage_var = [(value / total_variance) * 100 for value in eigenvalues[0]]\n",
    "\n",
    "# Utiliser une palette de couleurs Seaborn et inverser l'ordre\n",
    "#sns.set(style=\"whitegrid\")\n",
    "#palette = sns.color_palette(\"BuGn\", len(percentage_var))\n",
    "#palette = palette[::-1]  # Inverser l'ordre des couleurs\n",
    "\n",
    "# Tracer le diagramme en barres des valeurs propres en pourcentage\n",
    "#plt.figure(figsize=(10, 6))\n",
    "#bars = plt.bar(range(1, len(percentage_var) + 1), percentage_var, color=palette, edgecolor='black')\n",
    "#plt.xlabel('Composante Principale')\n",
    "#plt.ylabel('Pourcentage de Variance Expliquée')\n",
    "#plt.title('Diagramme en Barres des Valeurs Propres en Pourcentage - ACM')\n",
    "\n",
    "# Définir les ticks de l'axe x avec des valeurs entières\n",
    "#plt.xticks(range(1, len(percentage_var) + 1))\n",
    "\n",
    "# Ajouter les étiquettes de valeur uniquement pour les deux premières barres\n",
    "#for i, (bar, value) in enumerate(zip(bars, percentage_var)):\n",
    "#    if i < 2:\n",
    "#        plt.text(bar.get_x() + bar.get_width() / 2, bar.get_height() + 0.2, f'{value:.2f}%',\n",
    "#                 ha='center', va='bottom', color='black', fontsize = 8)\n",
    "\n",
    "#plt.show()"
   ]
  },
  {
   "cell_type": "code",
   "execution_count": null,
   "metadata": {},
   "outputs": [],
   "source": [
    "# indormation que procure l'ACM \n",
    "#info_col = acm.col_topandas()\n",
    "#info_col.columns"
   ]
  },
  {
   "cell_type": "code",
   "execution_count": null,
   "metadata": {},
   "outputs": [],
   "source": [
    "# Coordonnée des modalité pour l'axe 1 et 2\n",
    "#coord_col = info_col[['col_coord_dim1', 'col_coord_dim2']]\n",
    "#print(coord_col)"
   ]
  },
  {
   "cell_type": "code",
   "execution_count": null,
   "metadata": {},
   "outputs": [],
   "source": [
    "# Contribution des modalités pour l'axe 1 et 2\n",
    "#contrib_col = pd.DataFrame(info_col[['col_contrib_dim1', 'col_contrib_dim2']])\n",
    "#contrib_col"
   ]
  },
  {
   "cell_type": "code",
   "execution_count": null,
   "metadata": {},
   "outputs": [],
   "source": [
    "#ACM -projection des colonnes\n",
    "#import matplotlib.pyplot as plt\n",
    "\n",
    "#fig, ax = plt.subplots(figsize=(7, 7))\n",
    "#ax.axis([-2.2, +2.2, -1.2, +1.5])\n",
    "#ax.plot([-2.2, +2.2], [0, 0], color=\"silver\", linestyle=\"--\")\n",
    "#ax.plot([0, 0], [-2.2, +2.2], color='silver', linestyle=\"--\")\n",
    "#ax.set_xlabel('Dim.1')\n",
    "#ax.set_ylabel('Dim.2')\n",
    "#plt.title(\"Modalité\")\n",
    "\n",
    "#for x, y, lbl in zip(coord_col.iloc[:, 0], coord_col.iloc[:, 1], coord_col.index):\n",
    "#    ax.text(x, y, lbl, horizontalalignment='center', verticalalignment='center', fontsize=7)\n",
    "\n",
    "#plt.show()\n"
   ]
  },
  {
   "cell_type": "code",
   "execution_count": null,
   "metadata": {},
   "outputs": [],
   "source": [
    "#ACM -projection en couleur\n",
    "#acm.mapping_col(num_x_axis = 1 , num_y_axis = 2)"
   ]
  },
  {
   "cell_type": "markdown",
   "metadata": {},
   "source": [
    "# Modélisation"
   ]
  },
  {
   "cell_type": "code",
   "execution_count": 35,
   "metadata": {},
   "outputs": [
    {
     "name": "stdout",
     "output_type": "stream",
     "text": [
      "Valeurs uniques avant la modification : ['Pas_de_médaille' 'medaille']\n",
      "Valeurs uniques après la modification : ['Pas_de_médaille' 'medaille']\n"
     ]
    }
   ],
   "source": [
    "from mlops_functions.functions import preprocess_and_split_data\n",
    "\n",
    "# Prétraiter et diviser les données\n",
    "base_model = base_ACM\n",
    "X_train_encoded, X_test_encoded, y_train, y_test = preprocess_and_split_data(base_model)\n"
   ]
  },
  {
   "cell_type": "code",
   "execution_count": 58,
   "metadata": {},
   "outputs": [],
   "source": [
    "from mlops_functions.functions import define_preprocessor\n",
    "# Utiliser la fonction define_preprocessor pour obtenir preprocessor et cat_columns\n",
    "preprocessor, cat_columns = define_preprocessor()"
   ]
  },
  {
   "cell_type": "markdown",
   "metadata": {},
   "source": [
    "## Régression logistique"
   ]
  },
  {
   "cell_type": "code",
   "execution_count": null,
   "metadata": {},
   "outputs": [],
   "source": [
    "from mlops_functions.functions import train_and_evaluate_logistic_regression\n",
    "LG = train_and_evaluate_logistic_regression(X_train_encoded, X_test_encoded, y_train, y_test)"
   ]
  },
  {
   "cell_type": "markdown",
   "metadata": {},
   "source": [
    "## Random Forest "
   ]
  },
  {
   "cell_type": "code",
   "execution_count": null,
   "metadata": {},
   "outputs": [],
   "source": [
    "from mlops_functions.functions import train_and_evaluate_random_forest\n",
    "trained_model_RF = train_and_evaluate_random_forest(X_train_encoded, X_test_encoded, y_train, y_test)"
   ]
  },
  {
   "cell_type": "markdown",
   "metadata": {},
   "source": [
    "# KNN"
   ]
  },
  {
   "cell_type": "code",
   "execution_count": null,
   "metadata": {},
   "outputs": [],
   "source": [
    "from mlops_functions.functions import choose_k_and_evaluate_knn\n",
    "trained_model_KNN = choose_k_and_evaluate_knn(X_train_encoded, X_test_encoded, y_train, y_test)"
   ]
  },
  {
   "cell_type": "markdown",
   "metadata": {},
   "source": [
    "# interprétation du modèle Regression logisitique"
   ]
  },
  {
   "cell_type": "code",
   "execution_count": 61,
   "metadata": {},
   "outputs": [
    {
     "ename": "AttributeError",
     "evalue": "'ColumnTransformer' object has no attribute 'transformers_'",
     "output_type": "error",
     "traceback": [
      "\u001b[1;31m---------------------------------------------------------------------------\u001b[0m",
      "\u001b[1;31mAttributeError\u001b[0m                            Traceback (most recent call last)",
      "Cell \u001b[1;32mIn[61], line 3\u001b[0m\n\u001b[0;32m      1\u001b[0m \u001b[38;5;28;01mfrom\u001b[39;00m \u001b[38;5;21;01mmlops_functions\u001b[39;00m\u001b[38;5;21;01m.\u001b[39;00m\u001b[38;5;21;01mfunctions\u001b[39;00m \u001b[38;5;28;01mimport\u001b[39;00m analyze_logistic_regression\n\u001b[1;32m----> 3\u001b[0m interpret \u001b[38;5;241m=\u001b[39m \u001b[43manalyze_logistic_regression\u001b[49m\u001b[43m(\u001b[49m\u001b[43mLG\u001b[49m\u001b[43m,\u001b[49m\u001b[43m \u001b[49m\u001b[43mpreprocessor\u001b[49m\u001b[43m,\u001b[49m\u001b[43m \u001b[49m\u001b[43mX_train_encoded\u001b[49m\u001b[43m,\u001b[49m\u001b[43m \u001b[49m\u001b[43mcat_columns\u001b[49m\u001b[43m)\u001b[49m\n\u001b[0;32m      5\u001b[0m \u001b[38;5;66;03m# permet d'obtenir les coefficients directeurs associé aux modalités\u001b[39;00m\n\u001b[0;32m      6\u001b[0m \n\u001b[0;32m      7\u001b[0m \u001b[38;5;66;03m#coefficients = LG.coef_\u001b[39;00m\n\u001b[0;32m      8\u001b[0m \u001b[38;5;66;03m#coefficients\u001b[39;00m\n",
      "File \u001b[1;32mc:\\Users\\Cyrie\\OneDrive\\Bureau\\M2_DS\\S1\\MLOPS\\Rendu_MLOPS\\mlops_functions\\functions.py:698\u001b[0m, in \u001b[0;36manalyze_logistic_regression\u001b[1;34m(LG, preprocessor, X_train_encoded, cat_columns)\u001b[0m\n\u001b[0;32m    693\u001b[0m     return knn \n\u001b[0;32m    696\u001b[0m #Fonction interpretation modele logistique\n\u001b[0;32m    697\u001b[0m def analyze_logistic_regression(LG, preprocessor, X_train_encoded, cat_columns):\n\u001b[1;32m--> 698\u001b[0m     # Obtenez les coefficients directeurs associés aux modalités\n\u001b[0;32m    699\u001b[0m     coefficients = LG.coef_\n\u001b[0;32m    701\u001b[0m     # Obtenez les noms des colonnes après la transformation\n",
      "File \u001b[1;32m~\\AppData\\Local\\Packages\\PythonSoftwareFoundation.Python.3.11_qbz5n2kfra8p0\\LocalCache\\local-packages\\Python311\\site-packages\\sklearn\\compose\\_column_transformer.py:484\u001b[0m, in \u001b[0;36mColumnTransformer.named_transformers_\u001b[1;34m(self)\u001b[0m\n\u001b[0;32m    477\u001b[0m \u001b[38;5;250m\u001b[39m\u001b[38;5;124;03m\"\"\"Access the fitted transformer by name.\u001b[39;00m\n\u001b[0;32m    478\u001b[0m \n\u001b[0;32m    479\u001b[0m \u001b[38;5;124;03mRead-only attribute to access any transformer by given name.\u001b[39;00m\n\u001b[0;32m    480\u001b[0m \u001b[38;5;124;03mKeys are transformer names and values are the fitted transformer\u001b[39;00m\n\u001b[0;32m    481\u001b[0m \u001b[38;5;124;03mobjects.\u001b[39;00m\n\u001b[0;32m    482\u001b[0m \u001b[38;5;124;03m\"\"\"\u001b[39;00m\n\u001b[0;32m    483\u001b[0m \u001b[38;5;66;03m# Use Bunch object to improve autocomplete\u001b[39;00m\n\u001b[1;32m--> 484\u001b[0m \u001b[38;5;28;01mreturn\u001b[39;00m Bunch(\u001b[38;5;241m*\u001b[39m\u001b[38;5;241m*\u001b[39m{name: trans \u001b[38;5;28;01mfor\u001b[39;00m name, trans, _ \u001b[38;5;129;01min\u001b[39;00m \u001b[38;5;28;43mself\u001b[39;49m\u001b[38;5;241;43m.\u001b[39;49m\u001b[43mtransformers_\u001b[49m})\n",
      "\u001b[1;31mAttributeError\u001b[0m: 'ColumnTransformer' object has no attribute 'transformers_'"
     ]
    }
   ],
   "source": [
    "from mlops_functions.functions import analyze_logistic_regression\n",
    "\n",
    "interpret = analyze_logistic_regression(LG, preprocessor, X_train_encoded, cat_columns)\n",
    "\n",
    "# permet d'obtenir les coefficients directeurs associé aux modalités\n",
    "\n",
    "#coefficients = LG.coef_\n",
    "#coefficients"
   ]
  },
  {
   "cell_type": "code",
   "execution_count": 39,
   "metadata": {},
   "outputs": [
    {
     "data": {
      "text/plain": [
       "array([[-0.3997242 , -1.3302836 ,  1.57874587,  0.6628577 ,  0.9293529 ,\n",
       "         0.97241796,  1.10450648,  0.51699593,  1.02458601,  0.31638146,\n",
       "         0.54152503,  0.22676924,  1.35247967,  0.98851018,  0.0887227 ,\n",
       "        -0.2982972 , -0.10728899,  0.13377636, -0.10921965,  0.25590161,\n",
       "         0.1301756 ,  0.02527832,  0.19080879]])"
      ]
     },
     "execution_count": 39,
     "metadata": {},
     "output_type": "execute_result"
    }
   ],
   "source": [
    "# permet d'obtenir les coefficients directeurs associé aux modalités\n",
    "\n",
    "coefficients = LG.coef_\n",
    "coefficients"
   ]
  },
  {
   "cell_type": "code",
   "execution_count": 41,
   "metadata": {},
   "outputs": [
    {
     "ename": "AttributeError",
     "evalue": "'ColumnTransformer' object has no attribute 'transformers_'",
     "output_type": "error",
     "traceback": [
      "\u001b[1;31m---------------------------------------------------------------------------\u001b[0m",
      "\u001b[1;31mAttributeError\u001b[0m                            Traceback (most recent call last)",
      "Cell \u001b[1;32mIn[41], line 2\u001b[0m\n\u001b[0;32m      1\u001b[0m \u001b[38;5;66;03m# Obtenir les noms des colonnes après la transformation\u001b[39;00m\n\u001b[1;32m----> 2\u001b[0m column_names \u001b[38;5;241m=\u001b[39m \u001b[43mpreprocessor\u001b[49m\u001b[38;5;241;43m.\u001b[39;49m\u001b[43mnamed_transformers_\u001b[49m[\u001b[38;5;124m'\u001b[39m\u001b[38;5;124mcat\u001b[39m\u001b[38;5;124m'\u001b[39m]\u001b[38;5;241m.\u001b[39mget_feature_names_out(cat_columns)\n\u001b[0;32m      4\u001b[0m \u001b[38;5;66;03m# Associer les coefficients aux noms des colonnes\u001b[39;00m\n\u001b[0;32m      5\u001b[0m coefficients_dict \u001b[38;5;241m=\u001b[39m \u001b[38;5;28mdict\u001b[39m(\u001b[38;5;28mzip\u001b[39m(column_names, LG\u001b[38;5;241m.\u001b[39mcoef_[\u001b[38;5;241m0\u001b[39m]))\n",
      "File \u001b[1;32m~\\AppData\\Local\\Packages\\PythonSoftwareFoundation.Python.3.11_qbz5n2kfra8p0\\LocalCache\\local-packages\\Python311\\site-packages\\sklearn\\compose\\_column_transformer.py:484\u001b[0m, in \u001b[0;36mColumnTransformer.named_transformers_\u001b[1;34m(self)\u001b[0m\n\u001b[0;32m    477\u001b[0m \u001b[38;5;250m\u001b[39m\u001b[38;5;124;03m\"\"\"Access the fitted transformer by name.\u001b[39;00m\n\u001b[0;32m    478\u001b[0m \n\u001b[0;32m    479\u001b[0m \u001b[38;5;124;03mRead-only attribute to access any transformer by given name.\u001b[39;00m\n\u001b[0;32m    480\u001b[0m \u001b[38;5;124;03mKeys are transformer names and values are the fitted transformer\u001b[39;00m\n\u001b[0;32m    481\u001b[0m \u001b[38;5;124;03mobjects.\u001b[39;00m\n\u001b[0;32m    482\u001b[0m \u001b[38;5;124;03m\"\"\"\u001b[39;00m\n\u001b[0;32m    483\u001b[0m \u001b[38;5;66;03m# Use Bunch object to improve autocomplete\u001b[39;00m\n\u001b[1;32m--> 484\u001b[0m \u001b[38;5;28;01mreturn\u001b[39;00m Bunch(\u001b[38;5;241m*\u001b[39m\u001b[38;5;241m*\u001b[39m{name: trans \u001b[38;5;28;01mfor\u001b[39;00m name, trans, _ \u001b[38;5;129;01min\u001b[39;00m \u001b[38;5;28;43mself\u001b[39;49m\u001b[38;5;241;43m.\u001b[39;49m\u001b[43mtransformers_\u001b[49m})\n",
      "\u001b[1;31mAttributeError\u001b[0m: 'ColumnTransformer' object has no attribute 'transformers_'"
     ]
    }
   ],
   "source": [
    "# Obtenir les noms des colonnes après la transformation\n",
    "column_names = preprocessor.named_transformers_['cat'].get_feature_names_out(cat_columns)\n",
    "\n",
    "# Associer les coefficients aux noms des colonnes\n",
    "coefficients_dict = dict(zip(column_names, LG.coef_[0]))\n",
    "\n",
    "# Afficher les coefficients avec les noms des colonnes associés\n",
    "for variable, coef in coefficients_dict.items():\n",
    "    print(f\"{variable}: {coef}\")"
   ]
  },
  {
   "cell_type": "code",
   "execution_count": null,
   "metadata": {},
   "outputs": [],
   "source": [
    "# permet d'obtenir le coefficient de l'individu de référence\n",
    "\n",
    "intercept = LG.intercept_\n",
    "intercept"
   ]
  },
  {
   "cell_type": "code",
   "execution_count": null,
   "metadata": {},
   "outputs": [],
   "source": [
    "# Obtenez les probabilités prédites\n",
    "predicted_probabilities = LG.predict_proba(X_train_encoded)\n",
    "\n",
    "# Calculez les z-scores des coefficients\n",
    "z_scores = np.zeros(shape=(len(LG.coef_[0]),))\n",
    "for index, coef in enumerate(LG.coef_[0]):\n",
    "    z_scores[index] = coef / np.std(predicted_probabilities[:, 1])\n",
    "\n",
    "# Convertissez les z-scores en p-values approximatives\n",
    "p_values = scipy.stats.norm.sf(abs(z_scores))\n",
    "p_values\n",
    "\n",
    "# Créez un dictionnaire pour associer les noms de colonnes après la transformation aux p-values\n",
    "p_values_dict = dict(zip(column_names, p_values))\n",
    "\n",
    "# Affichez les associations entre les modalités et les p-values\n",
    "for column_name, p_value in p_values_dict.items():\n",
    "    if p_value < 0.001:\n",
    "        print(f\"{column_name}: <0.001\")\n",
    "    else:\n",
    "        print(f\"{column_name}: {p_value:.3f}\")\n"
   ]
  }
 ],
 "metadata": {
  "kernelspec": {
   "display_name": "Python 3",
   "language": "python",
   "name": "python3"
  },
  "language_info": {
   "codemirror_mode": {
    "name": "ipython",
    "version": 3
   },
   "file_extension": ".py",
   "mimetype": "text/x-python",
   "name": "python",
   "nbconvert_exporter": "python",
   "pygments_lexer": "ipython3",
   "version": "3.11.4"
  }
 },
 "nbformat": 4,
 "nbformat_minor": 2
}
