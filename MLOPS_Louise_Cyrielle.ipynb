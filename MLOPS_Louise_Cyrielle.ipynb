{
 "cells": [
  {
   "cell_type": "markdown",
   "metadata": {},
   "source": [
    "# Package"
   ]
  },
  {
   "cell_type": "code",
   "execution_count": 1,
   "metadata": {},
   "outputs": [],
   "source": [
    "import pandas as pd\n",
    "import matplotlib.pyplot as plt\n",
    "from matplotlib.ticker import FuncFormatter\n",
    "import seaborn as sns\n",
    "import numpy as np\n",
    "from scipy.stats import chi2_contingency\n"
   ]
  },
  {
   "cell_type": "markdown",
   "metadata": {},
   "source": [
    "# Lecture de données"
   ]
  },
  {
   "cell_type": "code",
   "execution_count": 34,
   "metadata": {},
   "outputs": [],
   "source": [
    "#lecture du fichier\n",
    "\n",
    "base =  pd.read_csv(\"C:/Users/Cyrie/OneDrive/Bureau/M2_DS/S1/MLOPS/Rendu_MLOPS/athlete_events.csv\")  \n",
    "# base = pd.read_csv(\"/Users/lepercqlouise/stockage_macBook/Rendu_MLOPS/athlete_events.csv\")\n",
    "#base = pd.read_csv(\"//ad.univ-lille.fr/Etudiants/Homedir3/147794/Documents/M2/Rendu_MLOPS/athlete_events.csv\")\n"
   ]
  },
  {
   "cell_type": "markdown",
   "metadata": {},
   "source": [
    "# Filtre sur Summer"
   ]
  },
  {
   "cell_type": "code",
   "execution_count": 35,
   "metadata": {},
   "outputs": [
    {
     "name": "stdout",
     "output_type": "stream",
     "text": [
      "Nombre de lignes : 222552\n"
     ]
    }
   ],
   "source": [
    "#filtre sur Summer\n",
    "base_summer = base[base['Season'] == 'Summer']\n",
    "\n",
    "#nombre de ligne de notre df base après filtre du df base summer\n",
    "nombre_de_lignes1 = base_summer.shape[0]\n",
    "\n",
    "#affiche le nombre de lignes du df base summer 2000\n",
    "print(\"Nombre de lignes :\", nombre_de_lignes1)"
   ]
  },
  {
   "cell_type": "markdown",
   "metadata": {},
   "source": [
    "# Valeurs manquantes et abbérantes du df base_summer"
   ]
  },
  {
   "cell_type": "code",
   "execution_count": null,
   "metadata": {},
   "outputs": [],
   "source": [
    "#valeurs manquantes pour le df base summer\n",
    "valeurs_manquantes_par_variable1 = base_summer.isnull().sum()\n",
    "\n",
    "# Affichage du résultat pour le df base summer\n",
    "print(valeurs_manquantes_par_variable1)"
   ]
  },
  {
   "cell_type": "code",
   "execution_count": null,
   "metadata": {},
   "outputs": [],
   "source": [
    "#valeur abbérentes\n",
    "# Création de la figure et des axes\n",
    "plt.figure(figsize=(8, 6))\n",
    "\n",
    "###################AGE#####################\n",
    "# Création de la boîte à moustaches \n",
    "sns.boxplot(x=base_summer['Medal'], y=base_summer['Age'], color='#008030')\n",
    "\n",
    "# Titres et labels\n",
    "plt.title('Boîte à moustaches de la variable age selon la médaille')\n",
    "plt.xlabel('Médaille')\n",
    "plt.show()\n",
    "\n",
    "###################Height####################\n",
    "# Création de la boîte à moustaches \n",
    "sns.boxplot(x=base_summer['Medal'], y=base_summer['Height'], color='#008080')\n",
    "\n",
    "# Titres et labels\n",
    "plt.title('Boîte à moustaches de la variable taille selon la médaille')\n",
    "plt.xlabel('Médaille')\n",
    "plt.show()\n",
    "\n",
    "\n",
    "###################Weight####################\n",
    "# Création de la boîte à moustaches \n",
    "sns.boxplot(x=base_summer['Medal'], y=base_summer['Weight'], color='#008030')\n",
    "\n",
    "# Titres et labels\n",
    "plt.title('Boîte à moustaches de la variable poids selon la médaille')\n",
    "plt.xlabel('Médaille')\n",
    "plt.show()\n",
    "\n",
    "\n"
   ]
  },
  {
   "cell_type": "code",
   "execution_count": null,
   "metadata": {},
   "outputs": [],
   "source": [
    "#lecture des valeurs abbérantes\n",
    "# Filtre sur les enregistrements où l'âge est supérieur à 40 et inférieur à 11 ans\n",
    "base_summer_age_11_40 = base_summer[(base_summer['Age'] > 40) | (base_summer['Age'] < 11)]\n",
    "print(\"DataFrame pour l'âge entre 11 et 40 ans inclus:\")\n",
    "print(base_summer_age_11_40)\n",
    "\n",
    "# Filtre sur les enregistrements où la taille est inférieure à 145 cm et supérieure à 210 cm\n",
    "base_summer_height_145_210 = base_summer[(base_summer['Height'] > 210) | (base_summer['Height'] < 145)]\n",
    "print(\"\\nDataFrame pour la taille entre 145 et 210 cm inclus:\")\n",
    "print(base_summer_height_145_210)\n",
    "\n",
    "# Filtre sur les enregistrements où le poids est inférieur à 35 kg et supérieur à 118 kg\n",
    "base_summer_weight_35_118 = base_summer[(base_summer['Weight'] > 118) | (base_summer['Weight'] < 35)]\n",
    "print(\"\\nDataFrame pour le poids entre 35 et 118 kg inclus:\")\n",
    "print(base_summer_weight_35_118)\n"
   ]
  },
  {
   "cell_type": "markdown",
   "metadata": {},
   "source": [
    "# Regroupements"
   ]
  },
  {
   "cell_type": "code",
   "execution_count": null,
   "metadata": {},
   "outputs": [],
   "source": [
    "#voir la répartiton des variables quantitatives avant le regroupement\n",
    "###################YEAR####################\n",
    "plt.figure(figsize=(8, 6))\n",
    "sns.histplot(base_summer['Year'], bins=30, kde=True, color='#008030', stat='density', element='bars', common_norm=False)  # Utilisation du code hexadécimal pour un bleu canard foncé\n",
    "sns.kdeplot(base_summer['Year'], color='red', linewidth=2)  # Courbe KDE en rouge\n",
    "plt.title('Répartition de la variable année ')\n",
    "plt.xlabel('Année')\n",
    "plt.ylabel('Densité')\n",
    "plt.show()\n",
    "\n",
    "###################AGE#####################\n",
    "plt.figure(figsize=(8, 6))\n",
    "sns.histplot(base_summer['Age'], bins=30, kde=True, color='#008080', stat='density', element='bars', common_norm=False)  # Utilisation du code hexadécimal pour un bleu canard foncé\n",
    "sns.kdeplot(base_summer['Age'], color='red', linewidth=2)  # Courbe KDE en rouge\n",
    "plt.title('Répartition de la variable age ')\n",
    "plt.xlabel('Age')\n",
    "plt.ylabel('Densité')\n",
    "plt.show()\n",
    "\n",
    "###################HEIGHT#####################\n",
    "plt.figure(figsize=(8, 6))\n",
    "sns.histplot(base_summer['Height'], bins=30, kde=True, color='#008030', stat='density', element='bars', common_norm=False)  # Utilisation du code hexadécimal pour un bleu canard foncé\n",
    "sns.kdeplot(base_summer['Height'], color='red', linewidth=2)  # Courbe KDE en rouge\n",
    "plt.title('Répartition de la variable taille ')\n",
    "plt.xlabel('Taille')\n",
    "plt.ylabel('Densité')\n",
    "plt.show()\n",
    "\n",
    "###################WEIGHT#####################\n",
    "plt.figure(figsize=(8, 6))\n",
    "sns.histplot(base_summer['Weight'], bins=30, kde=True, color='#008030', stat='density', element='bars', common_norm=False)  # Utilisation du code hexadécimal pour un bleu canard foncé\n",
    "sns.kdeplot(base_summer['Weight'], color='red', linewidth=2)  # Courbe KDE en rouge\n",
    "plt.title('Répartition de la variable poids ')\n",
    "plt.xlabel('Poids')\n",
    "plt.ylabel('Densité')\n",
    "plt.show()"
   ]
  },
  {
   "cell_type": "code",
   "execution_count": 36,
   "metadata": {},
   "outputs": [
    {
     "name": "stdout",
     "output_type": "stream",
     "text": [
      "     Age   Classe_age\n",
      "0   24.0  21 - 24 ans\n",
      "1   23.0  21 - 24 ans\n",
      "2   24.0  21 - 24 ans\n",
      "3   34.0     > 32 ans\n",
      "26  18.0     < 21 ans\n",
      "    Height Classe_height\n",
      "0    180.0  173 - 185 cm\n",
      "1    170.0  165 - 172 cm\n",
      "2      NaN           NaN\n",
      "3      NaN           NaN\n",
      "26   168.0  165 - 172 cm\n",
      "     Weight Classe_weight\n",
      "0      80.0    74 - 80 kg\n",
      "1      60.0       < 65 kg\n",
      "2       NaN           NaN\n",
      "3       NaN           NaN\n",
      "26      NaN           NaN\n",
      "..      ...           ...\n",
      "127    93.0       > 80 kg\n",
      "128    93.0       > 80 kg\n",
      "129    93.0       > 80 kg\n",
      "130    74.0    74 - 80 kg\n",
      "131    74.0    74 - 80 kg\n",
      "\n",
      "[70 rows x 2 columns]\n"
     ]
    },
    {
     "name": "stderr",
     "output_type": "stream",
     "text": [
      "C:\\Users\\Cyrie\\AppData\\Local\\Temp\\ipykernel_25312\\1319861514.py:7: SettingWithCopyWarning: \n",
      "A value is trying to be set on a copy of a slice from a DataFrame.\n",
      "Try using .loc[row_indexer,col_indexer] = value instead\n",
      "\n",
      "See the caveats in the documentation: https://pandas.pydata.org/pandas-docs/stable/user_guide/indexing.html#returning-a-view-versus-a-copy\n",
      "  base_summer['Classe_age'] = pd.cut(base_summer['Age'], bins=intervalles, labels=labels, right=False)\n",
      "C:\\Users\\Cyrie\\AppData\\Local\\Temp\\ipykernel_25312\\1319861514.py:9: SettingWithCopyWarning: \n",
      "A value is trying to be set on a copy of a slice from a DataFrame.\n",
      "Try using .loc[row_indexer,col_indexer] = value instead\n",
      "\n",
      "See the caveats in the documentation: https://pandas.pydata.org/pandas-docs/stable/user_guide/indexing.html#returning-a-view-versus-a-copy\n",
      "  base_summer['Classe_age'] = base_summer['Classe_age'].astype('category')\n",
      "C:\\Users\\Cyrie\\AppData\\Local\\Temp\\ipykernel_25312\\1319861514.py:16: SettingWithCopyWarning: \n",
      "A value is trying to be set on a copy of a slice from a DataFrame.\n",
      "Try using .loc[row_indexer,col_indexer] = value instead\n",
      "\n",
      "See the caveats in the documentation: https://pandas.pydata.org/pandas-docs/stable/user_guide/indexing.html#returning-a-view-versus-a-copy\n",
      "  base_summer['Classe_height'] = pd.cut(base_summer['Height'], bins=intervalles_taille, labels=labels_taille, right=False)\n",
      "C:\\Users\\Cyrie\\AppData\\Local\\Temp\\ipykernel_25312\\1319861514.py:17: SettingWithCopyWarning: \n",
      "A value is trying to be set on a copy of a slice from a DataFrame.\n",
      "Try using .loc[row_indexer,col_indexer] = value instead\n",
      "\n",
      "See the caveats in the documentation: https://pandas.pydata.org/pandas-docs/stable/user_guide/indexing.html#returning-a-view-versus-a-copy\n",
      "  base_summer['Classe_height'] = base_summer['Classe_height'].astype('category')\n",
      "C:\\Users\\Cyrie\\AppData\\Local\\Temp\\ipykernel_25312\\1319861514.py:23: SettingWithCopyWarning: \n",
      "A value is trying to be set on a copy of a slice from a DataFrame.\n",
      "Try using .loc[row_indexer,col_indexer] = value instead\n",
      "\n",
      "See the caveats in the documentation: https://pandas.pydata.org/pandas-docs/stable/user_guide/indexing.html#returning-a-view-versus-a-copy\n",
      "  base_summer['Classe_weight'] = pd.cut(base_summer['Weight'], bins=intervalles_poids, labels=labels_poids, right=False)\n",
      "C:\\Users\\Cyrie\\AppData\\Local\\Temp\\ipykernel_25312\\1319861514.py:24: SettingWithCopyWarning: \n",
      "A value is trying to be set on a copy of a slice from a DataFrame.\n",
      "Try using .loc[row_indexer,col_indexer] = value instead\n",
      "\n",
      "See the caveats in the documentation: https://pandas.pydata.org/pandas-docs/stable/user_guide/indexing.html#returning-a-view-versus-a-copy\n",
      "  base_summer['Classe_weight'] = base_summer['Classe_weight'].astype('category')\n"
     ]
    }
   ],
   "source": [
    "#faire les regrouepements sur les variables quantitatives\n",
    "###################AGE#####################\n",
    "#intervalles d'age\n",
    "intervalles = [0, 21, 25, 33, float('inf')]\n",
    "labels = ['< 21 ans', '21 - 24 ans', '25-32 ans', '> 32 ans']\n",
    "#nouvelle colonne \"Classe_age\" basée sur les intervalles définis\n",
    "base_summer['Classe_age'] = pd.cut(base_summer['Age'], bins=intervalles, labels=labels, right=False)\n",
    "#convertir la colonne \"Classe_age\" en catégorie si nécessaire\n",
    "base_summer['Classe_age'] = base_summer['Classe_age'].astype('category')\n",
    "#afficher les premières lignes du DataFrame avec la nouvelle colonne\n",
    "print(base_summer[['Age', 'Classe_age']].head(5))\n",
    "\n",
    "###################HEIGHT#####################\n",
    "intervalles_taille = [float('-inf'), 165, 173, 186, float('inf')]\n",
    "labels_taille = ['< 165 cm', '165 - 172 cm', '173 - 185 cm', '> 185 cm']\n",
    "base_summer['Classe_height'] = pd.cut(base_summer['Height'], bins=intervalles_taille, labels=labels_taille, right=False)\n",
    "base_summer['Classe_height'] = base_summer['Classe_height'].astype('category')\n",
    "print(base_summer[['Height', 'Classe_height']].head(5))\n",
    "\n",
    "###################WEIGHT#####################\n",
    "intervalles_poids = [float('-inf'), 65, 74, 81, float('inf')]\n",
    "labels_poids = ['< 65 kg', '65 - 73 kg', '74 - 80 kg', '> 80 kg']\n",
    "base_summer['Classe_weight'] = pd.cut(base_summer['Weight'], bins=intervalles_poids, labels=labels_poids, right=False)\n",
    "base_summer['Classe_weight'] = base_summer['Classe_weight'].astype('category')\n",
    "print(base_summer[['Weight', 'Classe_weight']].head(70))\n"
   ]
  },
  {
   "cell_type": "code",
   "execution_count": 6,
   "metadata": {},
   "outputs": [
    {
     "name": "stdout",
     "output_type": "stream",
     "text": [
      "Fréquences de modalités pour la Classe âge:\n",
      "Classe_age\n",
      "25-32 ans      81445\n",
      "21 - 24 ans    67092\n",
      "< 21 ans       39813\n",
      "> 32 ans       25013\n",
      "Name: count, dtype: int64\n",
      "\n",
      "Fréquences de modalités pour la Classe taille:\n",
      "Classe_height\n",
      "173 - 185 cm    72493\n",
      "165 - 172 cm    42630\n",
      "> 185 cm        30070\n",
      "< 165 cm        25502\n",
      "Name: count, dtype: int64\n",
      "\n",
      "Fréquences de modalités pour la Classe poids:\n",
      "Classe_weight\n",
      "< 65 kg       60713\n",
      "65 - 73 kg    43196\n",
      "> 80 kg       36610\n",
      "74 - 80 kg    28179\n",
      "Name: count, dtype: int64\n",
      "Fréquences en pourcentage pour la colonne 'Classe_age':\n",
      "Classe_age\n",
      "25-32 ans      38.172035\n",
      "21 - 24 ans    31.445002\n",
      "< 21 ans       18.659749\n",
      "> 32 ans       11.723213\n",
      "Name: proportion, dtype: float64\n",
      "\n",
      "\n",
      "Fréquences en pourcentage pour la colonne 'Classe_height':\n",
      "Classe_height\n",
      "173 - 185 cm    42.469317\n",
      "165 - 172 cm    24.974369\n",
      "> 185 cm        17.616216\n",
      "< 165 cm        14.940098\n",
      "Name: proportion, dtype: float64\n",
      "\n",
      "\n",
      "Fréquences en pourcentage pour la colonne 'Classe_weight':\n",
      "Classe_weight\n",
      "< 65 kg       35.989164\n",
      "65 - 73 kg    25.605520\n",
      "> 80 kg       21.701502\n",
      "74 - 80 kg    16.703814\n",
      "Name: proportion, dtype: float64\n"
     ]
    }
   ],
   "source": [
    "#afficher les frequences de modalites pour les variables regroupes\n",
    "###################AGE#####################\n",
    "print(\"Fréquences de modalités pour la Classe âge:\")\n",
    "print(base_summer['Classe_age'].value_counts())\n",
    "\n",
    "###################HEIGHT#####################\n",
    "print(\"\\nFréquences de modalités pour la Classe taille:\")\n",
    "print(base_summer['Classe_height'].value_counts())\n",
    "\n",
    "###################WEIGHT#####################\n",
    "print(\"\\nFréquences de modalités pour la Classe poids:\")\n",
    "print(base_summer['Classe_weight'].value_counts())\n",
    "\n",
    "\n",
    "#fonction pour afficher les fréquences en pourcentage\n",
    "def print_percentage_counts(column_name):\n",
    "    percentages = base_summer[column_name].value_counts(normalize=True) * 100\n",
    "    print(f\"Fréquences en pourcentage pour la colonne '{column_name}':\")\n",
    "    print(percentages)\n",
    "\n",
    "# Afficher les fréquences en pourcentage pour la classe d'âge\n",
    "print_percentage_counts('Classe_age')\n",
    "\n",
    "# Afficher les fréquences en pourcentage pour la classe de taille\n",
    "print(\"\\n\")\n",
    "print_percentage_counts('Classe_height')\n",
    "\n",
    "# Afficher les fréquences en pourcentage pour la classe de poids\n",
    "print(\"\\n\")\n",
    "print_percentage_counts('Classe_weight')\n"
   ]
  },
  {
   "cell_type": "markdown",
   "metadata": {},
   "source": [
    "# Filtre les années 2000 et suppression de variable"
   ]
  },
  {
   "cell_type": "code",
   "execution_count": 37,
   "metadata": {},
   "outputs": [
    {
     "name": "stdout",
     "output_type": "stream",
     "text": [
      "Nombre de lignes : 67474\n"
     ]
    }
   ],
   "source": [
    "#filtre sur l annee sup ou egal a 2000\n",
    "base_summer_2000 = base_summer[base_summer['Year'] >= 2000]\n",
    "\n",
    "#nombre de ligne de notre df base après filtre du df base summer 2000\n",
    "nombre_de_lignes2 = base_summer_2000.shape[0]\n",
    "\n",
    "#affiche le nombre de lignes du df base summer 2000\n",
    "print(\"Nombre de lignes :\", nombre_de_lignes2)"
   ]
  },
  {
   "cell_type": "code",
   "execution_count": 38,
   "metadata": {},
   "outputs": [
    {
     "name": "stdout",
     "output_type": "stream",
     "text": [
      "    ID                       Name Sex  NOC        Games  Year     City  \\\n",
      "1    2                   A Lamusi   M  CHN  2012 Summer  2012   London   \n",
      "31  12          Jyri Tapani Aalto   M  FIN  2000 Summer  2000   Sydney   \n",
      "33  13         Minna Maarit Aalto   F  FIN  2000 Summer  2000   Sydney   \n",
      "57  18       Timo Antero Aaltonen   M  FIN  2000 Summer  2000   Sydney   \n",
      "79  21  Ragnhild Margrethe Aamodt   F  NOR  2008 Summer  2008  Beijing   \n",
      "\n",
      "        Sport                         Event Medal   Classe_age Classe_height  \\\n",
      "1        Judo  Judo Men's Extra-Lightweight   NaN  21 - 24 ans  165 - 172 cm   \n",
      "31  Badminton       Badminton Men's Singles   NaN    25-32 ans  165 - 172 cm   \n",
      "33    Sailing    Sailing Women's Windsurfer   NaN     > 32 ans      < 165 cm   \n",
      "57  Athletics      Athletics Men's Shot Put   NaN    25-32 ans      > 185 cm   \n",
      "79   Handball     Handball Women's Handball  Gold    25-32 ans      < 165 cm   \n",
      "\n",
      "   Classe_weight  \n",
      "1        < 65 kg  \n",
      "31    65 - 73 kg  \n",
      "33       < 65 kg  \n",
      "57       > 80 kg  \n",
      "79           NaN  \n"
     ]
    }
   ],
   "source": [
    "# Supprimer les variables 'Team' et 'Season' du DataFrame base_summer_2000\n",
    "base_summer_2000 = base_summer_2000.drop(['Team', 'Season','Age','Height','Weight'], axis=1)\n",
    "\n",
    "\n",
    "# Afficher les premières lignes du DataFrame après la suppression\n",
    "print(base_summer_2000.head())"
   ]
  },
  {
   "cell_type": "markdown",
   "metadata": {},
   "source": [
    "# Valeurs manquantes du df base_summer_2000"
   ]
  },
  {
   "cell_type": "code",
   "execution_count": 9,
   "metadata": {},
   "outputs": [
    {
     "name": "stdout",
     "output_type": "stream",
     "text": [
      "ID                   0\n",
      "Name                 0\n",
      "Sex                  0\n",
      "NOC                  0\n",
      "Games                0\n",
      "Year                 0\n",
      "City                 0\n",
      "Sport                0\n",
      "Event                0\n",
      "Medal            57457\n",
      "Classe_age           3\n",
      "Classe_height      654\n",
      "Classe_weight      905\n",
      "dtype: int64\n"
     ]
    }
   ],
   "source": [
    "#valeurs manquantes pour le df base summer 2000\n",
    "valeurs_manquantes_par_variable2 = base_summer_2000.isnull().sum()\n",
    "\n",
    "# Affichage du résultat pour le df base \n",
    "print(valeurs_manquantes_par_variable2)\n"
   ]
  },
  {
   "cell_type": "code",
   "execution_count": 39,
   "metadata": {},
   "outputs": [
    {
     "data": {
      "text/plain": [
       "ID                   0\n",
       "Name                 0\n",
       "Sex                  0\n",
       "NOC                  0\n",
       "Games                0\n",
       "Year                 0\n",
       "City                 0\n",
       "Sport                0\n",
       "Event                0\n",
       "Medal            56493\n",
       "Classe_age           0\n",
       "Classe_height        0\n",
       "Classe_weight        0\n",
       "dtype: int64"
      ]
     },
     "execution_count": 39,
     "metadata": {},
     "output_type": "execute_result"
    }
   ],
   "source": [
    "# suppression des valeurs manquantes \n",
    "base_summer_2000_net = base_summer_2000.dropna(subset=['Classe_age','Classe_height','Classe_weight'])\n",
    "base_summer_2000_net.isnull().sum()"
   ]
  },
  {
   "cell_type": "code",
   "execution_count": null,
   "metadata": {},
   "outputs": [],
   "source": [
    "#nombre de ligne de notre df base après filtre du df base summer\n",
    "nombre_de_lignes3 = base_summer_2000_net.shape[0]\n",
    "\n",
    "#affiche le nombre de lignes du df base summer 2000\n",
    "print(\"Nombre de lignes :\", nombre_de_lignes3)"
   ]
  },
  {
   "cell_type": "markdown",
   "metadata": {},
   "source": [
    "# Statistiques descriptives"
   ]
  },
  {
   "cell_type": "markdown",
   "metadata": {},
   "source": [
    "## statistique univarié"
   ]
  },
  {
   "cell_type": "code",
   "execution_count": null,
   "metadata": {},
   "outputs": [],
   "source": [
    "colors = ['#008030', '#008080', '#00A86B', '#4CAF50', '#7CFC00']\n",
    "\n",
    "# Statistique sur la variable sex \n",
    "\n",
    "plt.figure(figsize=(6,6))\n",
    "base_summer_2000_net['Sex'].value_counts().plot.pie(explode=[0,0.1],autopct='%1.1f%%',shadow=True,startangle=15, colors = colors)\n",
    "plt.title('Répartition des sexes')\n",
    "plt.show()"
   ]
  },
  {
   "cell_type": "code",
   "execution_count": null,
   "metadata": {},
   "outputs": [],
   "source": [
    "# Statistique sur la variable classe_age\n",
    "\n",
    "plt.figure(figsize=(6,6))\n",
    "base_summer_2000_net['Classe_age'].value_counts().plot.pie(colors = colors,autopct='%1.1f%%')\n",
    "plt.title('Répartition des âges')\n",
    "plt.show()"
   ]
  },
  {
   "cell_type": "code",
   "execution_count": null,
   "metadata": {},
   "outputs": [],
   "source": [
    "# Statistique sur la variable classe_height\n",
    "\n",
    "plt.figure(figsize=(6,6))\n",
    "base_summer_2000_net['Classe_height'].value_counts().plot.pie(colors = colors, autopct='%1.1f%%')\n",
    "plt.title('Répartition des tailles')\n",
    "plt.show()"
   ]
  },
  {
   "cell_type": "code",
   "execution_count": null,
   "metadata": {},
   "outputs": [],
   "source": [
    "# Statistique sur la variable height\n",
    "\n",
    "plt.figure(figsize=(12, 6))\n",
    "\n",
    "# Comptez les occurrences de chaque catégorie\n",
    "total = float(len(base_summer_2000_net[\"Classe_height\"]))\n",
    "\n",
    "# Utilisez sns.countplot pour afficher le graphique à barres\n",
    "ax = sns.countplot(x=\"Classe_height\", data=base_summer_2000_net, palette='viridis')\n",
    "\n",
    "# Modifiez l'axe y pour être en pourcentage\n",
    "def percent_formatter(x, pos):\n",
    "    return f'{(x / total):.0%}'\n",
    "\n",
    "ax.yaxis.set_major_formatter(FuncFormatter(percent_formatter))\n",
    "\n",
    "# Ajoutez les pourcentages au centre des barres\n",
    "for p in ax.patches:\n",
    "    height = p.get_height()\n",
    "    ax.text(p.get_x() + p.get_width() / 2., height / 2,\n",
    "            '{:.0%}'.format(height / total), ha=\"center\")\n",
    "\n",
    "plt.title('Répartition des tailles')\n",
    "plt.xlabel(\"Classe_height\")\n",
    "plt.ylabel('Pourcentage')\n",
    "plt.xticks(rotation=45)\n",
    "plt.show()\n",
    "\n"
   ]
  },
  {
   "cell_type": "code",
   "execution_count": null,
   "metadata": {},
   "outputs": [],
   "source": [
    "# Statistique sur la variable weight\n",
    "\n",
    "plt.figure(figsize=(6,6))\n",
    "base_summer_2000_net['Classe_weight'].value_counts().plot.pie(colors = colors, autopct='%1.1f%%')\n",
    "plt.title('Répartition des poids')\n",
    "plt.show()"
   ]
  },
  {
   "cell_type": "code",
   "execution_count": null,
   "metadata": {},
   "outputs": [],
   "source": [
    "# Statistique sur la variable weight\n",
    "\n",
    "plt.figure(figsize=(12, 6))\n",
    "\n",
    "# Comptez les occurrences de chaque catégorie\n",
    "total = float(len(base_summer_2000_net[\"Classe_weight\"]))\n",
    "\n",
    "# Utilisez sns.countplot pour afficher le graphique à barres\n",
    "ax = sns.countplot(x=\"Classe_weight\", data=base_summer_2000_net, palette='viridis')\n",
    "\n",
    "# Modifiez l'axe y pour être en pourcentage\n",
    "def percent_formatter(x, pos):\n",
    "    return f'{(x / total):.0%}'\n",
    "\n",
    "ax.yaxis.set_major_formatter(FuncFormatter(percent_formatter))\n",
    "\n",
    "# Ajoutez les pourcentages au centre des barres\n",
    "for p in ax.patches:\n",
    "    height = p.get_height()\n",
    "    ax.text(p.get_x() + p.get_width() / 2., height / 2,\n",
    "            '{:.0%}'.format(height / total), ha=\"center\")\n",
    "\n",
    "plt.title('Répartition des poids')\n",
    "plt.xlabel(\"Classe_xeight\")\n",
    "plt.ylabel('Pourcentage')\n",
    "plt.xticks(rotation=45)\n",
    "plt.show()\n",
    "\n"
   ]
  },
  {
   "cell_type": "code",
   "execution_count": null,
   "metadata": {},
   "outputs": [],
   "source": [
    "# Statistique sur la variable NOC \n",
    "\n",
    "# Créer un DataFrame pour le nombre d'individus par pays\n",
    "tableau_noc = base_summer_2000_net.groupby('NOC').size().reset_index(name='Nombre d\\'individus')\n",
    "\n",
    "# Trier le tableau par le nombre d'individus de manière décroissante\n",
    "tableau_noc_trie = tableau_noc.sort_values(by='Nombre d\\'individus', ascending=False)\n",
    "\n",
    "# Sélectionner les 16 premiers\n",
    "les_16_premiers = tableau_noc_trie.head(16)\n",
    "\n",
    "# Afficher les 16 premiers pays les plus représentés\n",
    "les_16_premiers\n"
   ]
  },
  {
   "cell_type": "markdown",
   "metadata": {},
   "source": [
    "## statistique bivarié"
   ]
  },
  {
   "cell_type": "code",
   "execution_count": null,
   "metadata": {},
   "outputs": [],
   "source": [
    "def create_bar_plot(base_summer_2000_net, x_variable, target_variable='Medal'):\n",
    "\n",
    "    # Create a bar plot\n",
    "    plt.figure(figsize=(12, 6))\n",
    "    sns.countplot(x=x_variable, hue=target_variable, data=base_summer_2000_net, palette='viridis')\n",
    "    plt.title(f'Répartition des {target_variable} selon leurs {x_variable}')\n",
    "    plt.xlabel(x_variable)\n",
    "    plt.ylabel('Count')\n",
    "    plt.xticks(rotation=45)\n",
    "    plt.legend(title=target_variable)\n",
    "    plt.show()\n",
    "\n",
    "# Example usage:\n",
    "# Assuming your DataFrame is named df\n",
    "create_bar_plot(base_summer_2000_net, 'Sex')\n",
    "create_bar_plot(base_summer_2000_net, 'Classe_age')\n",
    "create_bar_plot(base_summer_2000_net, 'Classe_height')\n",
    "create_bar_plot(base_summer_2000_net, 'Classe_weight')\n",
    "create_bar_plot(base_summer_2000_net, 'NOC')\n",
    "create_bar_plot(base_summer_2000_net, 'Games')\n",
    "create_bar_plot(base_summer_2000_net, 'Sport')\n",
    "\n"
   ]
  },
  {
   "cell_type": "markdown",
   "metadata": {},
   "source": [
    "# Corrélation entre les variables - V de Cramer"
   ]
  },
  {
   "cell_type": "code",
   "execution_count": 22,
   "metadata": {},
   "outputs": [],
   "source": [
    "# Sélectionnez vos variables catégorielles\n",
    "categorical_vars = ['Name', 'Sex', 'NOC', 'Games', 'City', 'Sport',\n",
    "                    'Event', 'Medal', 'Classe_age', 'Classe_height', 'Classe_weight']"
   ]
  },
  {
   "cell_type": "code",
   "execution_count": 23,
   "metadata": {},
   "outputs": [],
   "source": [
    "# Créez une table de contingence pour chaque paire de variables\n",
    "contingency_tables = {}\n",
    "for var1 in categorical_vars:\n",
    "    for var2 in categorical_vars:\n",
    "        contingency_table = pd.crosstab(base_summer_2000_net[var1], base_summer_2000_net[var2])\n",
    "        contingency_tables[(var1, var2)] = contingency_table"
   ]
  },
  {
   "cell_type": "code",
   "execution_count": 24,
   "metadata": {},
   "outputs": [],
   "source": [
    "# Calculez le V de Cramer pour chaque paire de variables\n",
    "cramer_v_values = {}\n",
    "for (var1, var2), contingency_table in contingency_tables.items():\n",
    "    chi2, _, _, _ = chi2_contingency(contingency_table)\n",
    "    n = contingency_table.sum().sum()\n",
    "    min_dim = min(contingency_table.shape) - 1\n",
    "    cramers_v = np.sqrt(chi2 / (n * min_dim))\n",
    "    cramer_v_values[(var1, var2)] = cramers_v"
   ]
  },
  {
   "cell_type": "code",
   "execution_count": 25,
   "metadata": {},
   "outputs": [],
   "source": [
    "\n",
    "# Créez un DataFrame pour stocker les valeurs du V de Cramer\n",
    "cramer_df = pd.DataFrame(index=categorical_vars, columns=categorical_vars)\n",
    "for var1 in categorical_vars:\n",
    "    for var2 in categorical_vars:\n",
    "        cramer_df.loc[var1, var2] = cramer_v_values.get((var1, var2), cramer_v_values.get((var2, var1)))\n",
    "\n",
    "# Convertissez les valeurs en nombres décimaux\n",
    "cramer_df = cramer_df.astype(float)"
   ]
  },
  {
   "cell_type": "code",
   "execution_count": null,
   "metadata": {},
   "outputs": [],
   "source": [
    "# Créer une masque pour la moitié supérieure de la matrice, en excluant la diagonale inférieure\n",
    "mask = np.triu(np.ones_like(cramer_df, dtype=bool), k=1)\n",
    "\n",
    "plt.figure(figsize=(12, 8))\n",
    "sns.heatmap(cramer_df, annot=True, cmap='BuGn', fmt=\".2f\", mask=mask)\n",
    "plt.title(\"Matrice de corrélation - V de Cramer\")\n",
    "plt.show()"
   ]
  },
  {
   "attachments": {},
   "cell_type": "markdown",
   "metadata": {},
   "source": [
    "# Faire de nouveaux regroupement et suppression des variables inutisé pour la suite de l'analyse"
   ]
  },
  {
   "cell_type": "code",
   "execution_count": 40,
   "metadata": {},
   "outputs": [],
   "source": [
    "base_ACM = base_summer_2000_net\n"
   ]
  },
  {
   "cell_type": "code",
   "execution_count": 41,
   "metadata": {},
   "outputs": [
    {
     "name": "stderr",
     "output_type": "stream",
     "text": [
      "C:\\Users\\Cyrie\\AppData\\Local\\Temp\\ipykernel_25312\\2961306059.py:1: SettingWithCopyWarning: \n",
      "A value is trying to be set on a copy of a slice from a DataFrame\n",
      "\n",
      "See the caveats in the documentation: https://pandas.pydata.org/pandas-docs/stable/user_guide/indexing.html#returning-a-view-versus-a-copy\n",
      "  base_ACM['Sport'].replace({\n"
     ]
    },
    {
     "data": {
      "text/plain": [
       "array(['Combat', 'Raquette', \"Sur l'eau\", 'Athlétisme', 'Autres sports',\n",
       "       'Natation', 'Gymnastique', 'Sport collectif'], dtype=object)"
      ]
     },
     "execution_count": 41,
     "metadata": {},
     "output_type": "execute_result"
    }
   ],
   "source": [
    "base_ACM['Sport'].replace({\n",
    "\n",
    "'Judo'\t: 'Combat' ,\n",
    "'Wrestling'\t: 'Combat' ,\n",
    "'Taekwondo'\t: 'Combat' ,\n",
    "'Fencing'\t: 'Combat' ,\n",
    "'Boxing'\t: 'Combat' ,\n",
    "'Badminton'\t:'Raquette',\n",
    "'Tennis'\t:'Raquette',\n",
    "'Table Tennis'\t:'Raquette',\n",
    "'Swimming'\t: 'Natation',\n",
    "'Synchronized Swimming'\t: 'Natation',\n",
    "'Basketball'\t: 'Sport collectif',\n",
    "'Handball'\t: 'Sport collectif',\n",
    "'Football'\t: 'Sport collectif',\n",
    "'Hockey'\t: 'Sport collectif',\n",
    "'Water Polo'\t: 'Sport collectif',\n",
    "'Softball'\t: 'Sport collectif',\n",
    "'Volleyball'\t: 'Sport collectif',\n",
    "'Baseball'\t: 'Sport collectif',\n",
    "'Rugby Sevens'\t: 'Sport collectif',\n",
    "'Beach Volleyball'\t: 'Sport collectif',\n",
    "'Athletics'\t:'Athlétisme',\n",
    "'Modern Pentathlon'\t:'Athlétisme',\n",
    "'Triathlon'\t:'Athlétisme',\n",
    "'Gymnastics'\t:'Gymnastique',\n",
    "'Rhythmic Gymnastics'\t:'Gymnastique',\n",
    "'Trampolining'\t:'Gymnastique',\n",
    "'Sailing'\t:\"Sur l'eau\",\n",
    "'Rowing'\t:\"Sur l'eau\",\n",
    "'Diving'\t:\"Sur l'eau\",\n",
    "'Canoeing'\t:\"Sur l'eau\",\n",
    "'Weightlifting'\t:'Autres sports',\n",
    "'Cycling'\t:'Autres sports',\n",
    "'Equestrianism'\t:'Autres sports',\n",
    "'Archery'\t:'Autres sports',\n",
    "'Shooting'\t:'Autres sports',\n",
    "'Golf'\t:'Autres sports'\n",
    "}, inplace=True)\n",
    "\n",
    "base_ACM['Sport'].unique()"
   ]
  },
  {
   "cell_type": "code",
   "execution_count": 42,
   "metadata": {},
   "outputs": [
    {
     "data": {
      "text/plain": [
       "array(['CHN', 'FIN', 'ROU', 'NOR', 'NED', 'FRA', 'EST', 'ESP', 'EGY',\n",
       "       'ITA', 'AZE', 'RUS', 'ARG', 'CUB', 'BLR', 'GRE', 'CMR', 'MEX',\n",
       "       'USA', 'NCA', 'ALG', 'BRN', 'IRQ', 'QAT', 'PAK', 'IRI', 'CAN',\n",
       "       'IRL', 'AUS', 'RSA', 'MAR', 'ERI', 'SUD', 'BEL', 'KAZ', 'BRU',\n",
       "       'KUW', 'MAS', 'INA', 'UZB', 'UAE', 'KGZ', 'TJK', 'JPN', 'GER',\n",
       "       'ETH', 'TUR', 'SRI', 'ARM', 'CIV', 'KEN', 'NGR', 'BRA', 'SYR',\n",
       "       'CHI', 'SUI', 'SWE', 'GUY', 'GEO', 'POR', 'ANG', 'COL', 'DJI',\n",
       "       'BAN', 'JOR', 'PLE', 'SOM', 'KSA', 'VEN', 'IND', 'GBR', 'GHA',\n",
       "       'UGA', 'TUN', 'SLO', 'HON', 'TKM', 'MRI', 'POL', 'NIG', 'SKN',\n",
       "       'NZL', 'LBR', 'SUR', 'NEP', 'LBA', 'MGL', 'PLW', 'LTU', 'NAM',\n",
       "       'UKR', 'ASA', 'PUR', 'SAM', 'RWA', 'CRO', 'DMA', 'DEN', 'MLT',\n",
       "       'AUT', 'SEY', 'DOM', 'BIZ', 'PAR', 'URU', 'COM', 'MDV', 'BEN',\n",
       "       'TTO', 'SGP', 'PER', 'BER', 'SCG', 'HUN', 'CYP', 'YEM', 'LIB',\n",
       "       'OMA', 'IOA', 'FIJ', 'VAN', 'JAM', 'MDA', 'GUA', 'BUL', 'LAT',\n",
       "       'SRB', 'IVB', 'VIN', 'ISL', 'CRC', 'ESA', 'CAF', 'MAD', 'CHA',\n",
       "       'BIH', 'GUM', 'PHI', 'CAY', 'SVK', 'BAR', 'ECU', 'PAN', 'TLS',\n",
       "       'GAB', 'BAH', 'SMR', 'ISR', 'THA', 'BOT', 'ROT', 'KOR', 'PRK',\n",
       "       'MOZ', 'CPV', 'CZE', 'LAO', 'LUX', 'AND', 'ZIM', 'GRN', 'HKG',\n",
       "       'LCA', 'HAI', 'FSM', 'MYA', 'AFG', 'SEN', 'MTN', 'COD', 'GUI',\n",
       "       'ANT', 'CGO', 'MKD', 'BOL', 'TOG', 'SLE', 'MON', 'GEQ', 'MNE',\n",
       "       'ISV', 'PNG', 'TAN', 'COK', 'ALB', 'MLI', 'SWZ', 'BDI', 'ARU',\n",
       "       'STP', 'NRU', 'GBS', 'ZAM', 'TPE', 'CAM', 'MAW', 'BHU', 'VIE',\n",
       "       'GAM', 'MHL', 'AHO', 'KIR', 'TUV', 'TGA', 'LIE', 'KOS', 'SOL',\n",
       "       'SSD', 'LES', 'BUR'], dtype=object)"
      ]
     },
     "execution_count": 42,
     "metadata": {},
     "output_type": "execute_result"
    }
   ],
   "source": [
    "base_ACM['NOC'].unique()"
   ]
  },
  {
   "cell_type": "code",
   "execution_count": 43,
   "metadata": {},
   "outputs": [
    {
     "name": "stderr",
     "output_type": "stream",
     "text": [
      "C:\\Users\\Cyrie\\AppData\\Local\\Temp\\ipykernel_25312\\2439894933.py:1: SettingWithCopyWarning: \n",
      "A value is trying to be set on a copy of a slice from a DataFrame\n",
      "\n",
      "See the caveats in the documentation: https://pandas.pydata.org/pandas-docs/stable/user_guide/indexing.html#returning-a-view-versus-a-copy\n",
      "  base_ACM['NOC'].replace({\n"
     ]
    },
    {
     "data": {
      "text/plain": [
       "array(['Asie', 'Europe', 'Afrique', 'Amérique du Sud', 'Amérique du Nord',\n",
       "       'Amérique centrale', 'Océanie'], dtype=object)"
      ]
     },
     "execution_count": 43,
     "metadata": {},
     "output_type": "execute_result"
    }
   ],
   "source": [
    "base_ACM['NOC'].replace({\n",
    "'CHN': 'Asie',\n",
    "'FIN': 'Europe',\n",
    "'ROU': 'Europe',\n",
    "'NOR': 'Europe',\n",
    "'NED': 'Europe',\n",
    "'FRA': 'Europe',\n",
    "'EST': 'Europe',\n",
    "'ESP': 'Europe',\n",
    "'EGY': 'Afrique',\n",
    "'ITA': 'Europe',\n",
    "'AZE': 'Asie',\n",
    "'RUS': 'Europe',\n",
    "'ARG': 'Amérique du Sud',\n",
    "'CUB': 'Amérique du Nord',\n",
    "'BLR': 'Europe',\n",
    "'GRE': 'Europe',\n",
    "'CMR': 'Afrique',\n",
    "'MEX': 'Amérique du Nord',\n",
    "'USA': 'Amérique du Nord',\n",
    "'NCA': 'Amérique centrale',\n",
    "'ALG': 'Afrique',\n",
    "'BRN': 'Asie',\n",
    "'IRQ': 'Asie',\n",
    "'QAT': 'Asie',\n",
    "'PAK': 'Asie',\n",
    "'IRI': 'Asie',\n",
    "'CAN': 'Amérique du Nord',\n",
    "'IRL': 'Europe',\n",
    "'AUS': 'Océanie',\n",
    "'RSA': 'Afrique',\n",
    "'MAR': 'Afrique',\n",
    "'ERI': 'Afrique',\n",
    "'SUD': 'Afrique',\n",
    "'BEL': 'Europe',\n",
    "'KAZ': 'Asie',\n",
    "'BRU': 'Asie',\n",
    "'KUW': 'Asie',\n",
    "'MAS': 'Asie',\n",
    "'INA': 'Asie',\n",
    "'UZB': 'Asie',\n",
    "'UAE': 'Asie',\n",
    "'KGZ': 'Asie',\n",
    "'TJK': 'Asie',\n",
    "'JPN': 'Asie',\n",
    "'GER': 'Europe',\n",
    "'ETH': 'Afrique',\n",
    "'TUR': 'Asie',\n",
    "'SRI': 'Asie',\n",
    "'ARM': 'Asie',\n",
    "'CIV': 'Afrique',\n",
    "'KEN': 'Afrique',\n",
    "'NGR': 'Afrique',\n",
    "'BRA': 'Amérique du Sud',\n",
    "'SYR': 'Asie',\n",
    "'CHI': 'Amérique du Sud',\n",
    "'SUI': 'Europe',\n",
    "'SWE': 'Europe',\n",
    "'GUY': 'Amérique du Sud',\n",
    "'GEO': 'Asie',\n",
    "'POR': 'Europe',\n",
    "'ANG': 'Afrique',\n",
    "'COL': 'Amérique du Sud',\n",
    "'DJI': 'Afrique',\n",
    "'BAN': 'Asie',\n",
    "'JOR': 'Asie',\n",
    "'PLE': 'Asie',\n",
    "'SOM': 'Afrique',\n",
    "'KSA': 'Asie',\n",
    "'VEN': 'Amérique du Sud',\n",
    "'IND': 'Asie',\n",
    "'GBR': 'Europe',\n",
    "'GHA': 'Afrique',\n",
    "'UGA': 'Afrique',\n",
    "'TUN': 'Afrique',\n",
    "'SLO': 'Europe',\n",
    "'HON': 'Amérique centrale',\n",
    "'TKM': 'Asie',\n",
    "'MRI': 'Afrique',\n",
    "'POL': 'Europe',\n",
    "'NIG': 'Afrique',\n",
    "'SKN': 'Amérique du Nord',\n",
    "'NZL': 'Océanie',\n",
    "'LBR': 'Afrique',\n",
    "'SUR': 'Amérique du Sud',\n",
    "'NEP': 'Asie',\n",
    "'LBA': 'Afrique',\n",
    "'MGL': 'Asie',\n",
    "'PLW': 'Océanie',\n",
    "'LTU': 'Europe',\n",
    "'NAM': 'Afrique',\n",
    "'UKR': 'Europe',\n",
    "'ASA': 'Océanie',\n",
    "'PUR': 'Amérique du Nord',\n",
    "'SAM': 'Océanie',\n",
    "'RWA': 'Afrique',\n",
    "'CRO': 'Europe',\n",
    "'DMA': 'Amérique du Nord',\n",
    "'DEN': 'Europe',\n",
    "'MLT': 'Europe',\n",
    "'AUT': 'Europe',\n",
    "'SEY': 'Afrique',\n",
    "'DOM': 'Amérique du Nord',\n",
    "'BIZ': 'Amérique centrale',\n",
    "'PAR': 'Amérique du Sud',\n",
    "'URU': 'Amérique du Sud',\n",
    "'COM': 'Afrique',\n",
    "'MDV': 'Asie',\n",
    "'BEN': 'Afrique',\n",
    "'TTO': 'Amérique du Nord',\n",
    "'SGP': 'Asie',\n",
    "'PER': 'Amérique du Sud',\n",
    "'BER': 'Amérique du Nord',\n",
    "'SCG': 'Europe',\n",
    "'HUN': 'Europe',\n",
    "'CYP': 'Europe',\n",
    "'YEM': 'Asie',\n",
    "'LIB': 'Afrique',\n",
    "'OMA': 'Asie',\n",
    "'IOA': 'Océanie',\n",
    "'FIJ': 'Océanie',\n",
    "'VAN': 'Océanie',\n",
    "'JAM': 'Amérique du Nord',\n",
    "'MDA': 'Europe',\n",
    "'GUA': 'Amérique centrale',\n",
    "'BUL': 'Europe',\n",
    "'LAT': 'Europe',\n",
    "'SRB': 'Europe',\n",
    "'IVB': 'Amérique du Nord',\n",
    "'VIN': 'Amérique centrale',\n",
    "'ISL': 'Europe',\n",
    "'CRC': 'Amérique centrale',\n",
    "'ESA': 'Amérique centrale',\n",
    "'CAF': 'Afrique',\n",
    "'MAD': 'Afrique',\n",
    "'CHA': 'Afrique',\n",
    "'BIH': 'Europe',\n",
    "'GUM': 'Océanie',\n",
    "'PHI': 'Asie',\n",
    "'CAY': 'Amérique du Nord',\n",
    "'SVK': 'Europe',\n",
    "'BAR': 'Amérique du Nord',\n",
    "'ECU': 'Amérique du Sud',\n",
    "'PAN': 'Amérique centrale',\n",
    "'TLS': 'Asie',\n",
    "'GAB': 'Afrique',\n",
    "'BAH': 'Amérique du Nord',\n",
    "'SMR': 'Europe',\n",
    "'ISR': 'Asie',\n",
    "'THA': 'Asie',\n",
    "'BOT': 'Afrique',\n",
    "'ROT': 'Océanie',\n",
    "'KOR': 'Asie',\n",
    "'PRK': 'Asie',\n",
    "'MOZ': 'Afrique',\n",
    "'CPV': 'Afrique',\n",
    "'CZE': 'Europe',\n",
    "'LAO': 'Asie',\n",
    "'LUX': 'Europe',\n",
    "'AND': 'Europe',\n",
    "'ZIM': 'Afrique',\n",
    "'GRN': 'Amérique du Nord',\n",
    "'HKG': 'Asie',\n",
    "'LCA': 'Amérique du Nord',\n",
    "'HAI': 'Amérique du Nord',\n",
    "'FSM': 'Océanie',\n",
    "'MYA': 'Asie',\n",
    "'AFG': 'Asie',\n",
    "'SEN': 'Afrique',\n",
    "'MTN': 'Afrique',\n",
    "'COD': 'Afrique',\n",
    "'GUI': 'Afrique',\n",
    "'ANT': 'Amérique du Nord',\n",
    "'CGO': 'Afrique',\n",
    "'MKD': 'Europe',\n",
    "'BOL': 'Amérique du Sud',\n",
    "'TOG': 'Afrique',\n",
    "'SLE': 'Afrique',\n",
    "'MON': 'Europe',\n",
    "'GEQ': 'Afrique',\n",
    "'MNE': 'Europe',\n",
    "'ISV': 'Amérique du Nord',\n",
    "'PNG': 'Océanie',\n",
    "'TAN': 'Afrique',\n",
    "'COK': 'Océanie',\n",
    "'ALB': 'Europe',\n",
    "'MLI': 'Afrique',\n",
    "'SWZ': 'Afrique',\n",
    "'BDI': 'Afrique',\n",
    "'ARU': 'Amérique du Sud',\n",
    "'STP': 'Afrique',\n",
    "'NRU': 'Océanie',\n",
    "'GBS': 'Afrique',\n",
    "'ZAM': 'Afrique',\n",
    "'TPE': 'Asie',\n",
    "'CAM': 'Amérique centrale',\n",
    "'MAW': 'Afrique',\n",
    "'BHU': 'Asie',\n",
    "'VIE': 'Asie',\n",
    "'GAM': 'Afrique',\n",
    "'MHL': 'Océanie',\n",
    "'AHO': 'Océanie',\n",
    "'KIR': 'Océanie',\n",
    "'TUV': 'Océanie',\n",
    "'TGA': 'Océanie',\n",
    "'LIE': 'Europe',\n",
    "'KOS': 'Europe',\n",
    "'SOL': 'Océanie',\n",
    "'SSD': 'Afrique',\n",
    "'LES': 'Afrique',\n",
    "'BUR': 'Afrique',\n",
    "}, inplace=True)\n",
    "\n",
    "base_ACM['NOC'].unique()"
   ]
  },
  {
   "cell_type": "code",
   "execution_count": 44,
   "metadata": {},
   "outputs": [
    {
     "name": "stdout",
     "output_type": "stream",
     "text": [
      "Index(['ID', 'Name', 'Sex', 'NOC', 'Games', 'Year', 'City', 'Sport', 'Event',\n",
      "       'Medal', 'Classe_age', 'Classe_height', 'Classe_weight'],\n",
      "      dtype='object')\n"
     ]
    }
   ],
   "source": [
    "print(base_ACM.columns)"
   ]
  },
  {
   "cell_type": "code",
   "execution_count": 45,
   "metadata": {},
   "outputs": [
    {
     "name": "stdout",
     "output_type": "stream",
     "text": [
      "Index(['Sex', 'NOC', 'Sport', 'Medal', 'Classe_age', 'Classe_height',\n",
      "       'Classe_weight'],\n",
      "      dtype='object')\n"
     ]
    }
   ],
   "source": [
    "# suppresion des variables inutile pour la suite de l'analyse\n",
    "\n",
    "base_ACM = base_ACM.drop(['ID', 'Name','Games', 'Year','City','Event'], axis=1)\n",
    "print(base_ACM.columns)"
   ]
  },
  {
   "attachments": {},
   "cell_type": "markdown",
   "metadata": {},
   "source": [
    "# ACM "
   ]
  },
  {
   "cell_type": "code",
   "execution_count": 46,
   "metadata": {},
   "outputs": [
    {
     "name": "stdout",
     "output_type": "stream",
     "text": [
      "       Sex              NOC            Sport            Medal   Classe_age  \\\n",
      "1        M             Asie           Combat  Pas_de_médaille  21 - 24 ans   \n",
      "31       M           Europe         Raquette  Pas_de_médaille    25-32 ans   \n",
      "33       F           Europe        Sur l'eau  Pas_de_médaille     > 32 ans   \n",
      "57       M           Europe       Athlétisme  Pas_de_médaille    25-32 ans   \n",
      "80       F           Europe    Autres sports  Pas_de_médaille  21 - 24 ans   \n",
      "...     ..              ...              ...              ...          ...   \n",
      "271105   M  Amérique du Sud  Sport collectif  Pas_de_médaille  21 - 24 ans   \n",
      "271106   M  Amérique du Sud  Sport collectif  Pas_de_médaille    25-32 ans   \n",
      "271108   M           Europe        Sur l'eau  Pas_de_médaille  21 - 24 ans   \n",
      "271109   M           Europe        Sur l'eau  Pas_de_médaille    25-32 ans   \n",
      "271110   F           Europe  Sport collectif  Pas_de_médaille     > 32 ans   \n",
      "\n",
      "       Classe_height Classe_weight  \n",
      "1       165 - 172 cm       < 65 kg  \n",
      "31      165 - 172 cm    65 - 73 kg  \n",
      "33          < 165 cm       < 65 kg  \n",
      "57          > 185 cm       > 80 kg  \n",
      "80      165 - 172 cm       > 80 kg  \n",
      "...              ...           ...  \n",
      "271105  165 - 172 cm    74 - 80 kg  \n",
      "271106  165 - 172 cm    74 - 80 kg  \n",
      "271108  173 - 185 cm    65 - 73 kg  \n",
      "271109  173 - 185 cm    65 - 73 kg  \n",
      "271110  165 - 172 cm    65 - 73 kg  \n",
      "\n",
      "[66450 rows x 7 columns]\n"
     ]
    }
   ],
   "source": [
    "#remplacer les valeurs manquantes de la variable cibe par \"pas de médaille\"\n",
    "base_ACM['Medal'].fillna('Pas_de_médaille', inplace=True)\n",
    "print(base_ACM)\n"
   ]
  },
  {
   "cell_type": "code",
   "execution_count": 47,
   "metadata": {},
   "outputs": [
    {
     "data": {
      "text/html": [
       "<style>#sk-container-id-2 {color: black;}#sk-container-id-2 pre{padding: 0;}#sk-container-id-2 div.sk-toggleable {background-color: white;}#sk-container-id-2 label.sk-toggleable__label {cursor: pointer;display: block;width: 100%;margin-bottom: 0;padding: 0.3em;box-sizing: border-box;text-align: center;}#sk-container-id-2 label.sk-toggleable__label-arrow:before {content: \"▸\";float: left;margin-right: 0.25em;color: #696969;}#sk-container-id-2 label.sk-toggleable__label-arrow:hover:before {color: black;}#sk-container-id-2 div.sk-estimator:hover label.sk-toggleable__label-arrow:before {color: black;}#sk-container-id-2 div.sk-toggleable__content {max-height: 0;max-width: 0;overflow: hidden;text-align: left;background-color: #f0f8ff;}#sk-container-id-2 div.sk-toggleable__content pre {margin: 0.2em;color: black;border-radius: 0.25em;background-color: #f0f8ff;}#sk-container-id-2 input.sk-toggleable__control:checked~div.sk-toggleable__content {max-height: 200px;max-width: 100%;overflow: auto;}#sk-container-id-2 input.sk-toggleable__control:checked~label.sk-toggleable__label-arrow:before {content: \"▾\";}#sk-container-id-2 div.sk-estimator input.sk-toggleable__control:checked~label.sk-toggleable__label {background-color: #d4ebff;}#sk-container-id-2 div.sk-label input.sk-toggleable__control:checked~label.sk-toggleable__label {background-color: #d4ebff;}#sk-container-id-2 input.sk-hidden--visually {border: 0;clip: rect(1px 1px 1px 1px);clip: rect(1px, 1px, 1px, 1px);height: 1px;margin: -1px;overflow: hidden;padding: 0;position: absolute;width: 1px;}#sk-container-id-2 div.sk-estimator {font-family: monospace;background-color: #f0f8ff;border: 1px dotted black;border-radius: 0.25em;box-sizing: border-box;margin-bottom: 0.5em;}#sk-container-id-2 div.sk-estimator:hover {background-color: #d4ebff;}#sk-container-id-2 div.sk-parallel-item::after {content: \"\";width: 100%;border-bottom: 1px solid gray;flex-grow: 1;}#sk-container-id-2 div.sk-label:hover label.sk-toggleable__label {background-color: #d4ebff;}#sk-container-id-2 div.sk-serial::before {content: \"\";position: absolute;border-left: 1px solid gray;box-sizing: border-box;top: 0;bottom: 0;left: 50%;z-index: 0;}#sk-container-id-2 div.sk-serial {display: flex;flex-direction: column;align-items: center;background-color: white;padding-right: 0.2em;padding-left: 0.2em;position: relative;}#sk-container-id-2 div.sk-item {position: relative;z-index: 1;}#sk-container-id-2 div.sk-parallel {display: flex;align-items: stretch;justify-content: center;background-color: white;position: relative;}#sk-container-id-2 div.sk-item::before, #sk-container-id-2 div.sk-parallel-item::before {content: \"\";position: absolute;border-left: 1px solid gray;box-sizing: border-box;top: 0;bottom: 0;left: 50%;z-index: -1;}#sk-container-id-2 div.sk-parallel-item {display: flex;flex-direction: column;z-index: 1;position: relative;background-color: white;}#sk-container-id-2 div.sk-parallel-item:first-child::after {align-self: flex-end;width: 50%;}#sk-container-id-2 div.sk-parallel-item:last-child::after {align-self: flex-start;width: 50%;}#sk-container-id-2 div.sk-parallel-item:only-child::after {width: 0;}#sk-container-id-2 div.sk-dashed-wrapped {border: 1px dashed gray;margin: 0 0.4em 0.5em 0.4em;box-sizing: border-box;padding-bottom: 0.4em;background-color: white;}#sk-container-id-2 div.sk-label label {font-family: monospace;font-weight: bold;display: inline-block;line-height: 1.2em;}#sk-container-id-2 div.sk-label-container {text-align: center;}#sk-container-id-2 div.sk-container {/* jupyter's `normalize.less` sets `[hidden] { display: none; }` but bootstrap.min.css set `[hidden] { display: none !important; }` so we also need the `!important` here to be able to override the default hidden behavior on the sphinx rendered scikit-learn.org. See: https://github.com/scikit-learn/scikit-learn/issues/21755 */display: inline-block !important;position: relative;}#sk-container-id-2 div.sk-text-repr-fallback {display: none;}</style><div id=\"sk-container-id-2\" class=\"sk-top-container\"><div class=\"sk-text-repr-fallback\"><pre>MCA()</pre><b>In a Jupyter environment, please rerun this cell to show the HTML representation or trust the notebook. <br />On GitHub, the HTML representation is unable to render, please try loading this page with nbviewer.org.</b></div><div class=\"sk-container\" hidden><div class=\"sk-item\"><div class=\"sk-estimator sk-toggleable\"><input class=\"sk-toggleable__control sk-hidden--visually\" id=\"sk-estimator-id-2\" type=\"checkbox\" checked><label for=\"sk-estimator-id-2\" class=\"sk-toggleable__label sk-toggleable__label-arrow\">MCA</label><div class=\"sk-toggleable__content\"><pre>MCA()</pre></div></div></div></div></div>"
      ],
      "text/plain": [
       "MCA()"
      ]
     },
     "execution_count": 47,
     "metadata": {},
     "output_type": "execute_result"
    }
   ],
   "source": [
    "# pip install fanalysis\n",
    "from fanalysis.mca import MCA\n",
    "\n",
    "acm = MCA()\n",
    "acm.fit(base_ACM.values)"
   ]
  },
  {
   "cell_type": "code",
   "execution_count": 48,
   "metadata": {},
   "outputs": [
    {
     "data": {
      "text/plain": [
       "array([[3.55955212e-01, 2.18617472e-01, 1.87621513e-01, 1.80285560e-01,\n",
       "        1.74959583e-01, 1.66837324e-01, 1.59166511e-01, 1.57106376e-01,\n",
       "        1.51994669e-01, 1.46678578e-01, 1.44238674e-01, 1.42429923e-01,\n",
       "        1.41924592e-01, 1.41285187e-01, 1.39223434e-01, 1.36304205e-01,\n",
       "        1.34066275e-01, 1.27979830e-01, 1.23396259e-01, 1.21185901e-01,\n",
       "        1.10408116e-01, 1.07537422e-01, 8.29246046e-02, 8.01476156e-02,\n",
       "        5.04281145e-02, 3.15827637e-02],\n",
       "       [9.58340955e+00, 5.88585502e+00, 5.05134843e+00, 4.85384200e+00,\n",
       "        4.71045031e+00, 4.49177411e+00, 4.28525223e+00, 4.22978704e+00,\n",
       "        4.09216417e+00, 3.94903864e+00, 3.88334892e+00, 3.83465177e+00,\n",
       "        3.82104671e+00, 3.80383196e+00, 3.74832323e+00, 3.66972858e+00,\n",
       "        3.60947664e+00, 3.44561080e+00, 3.32220698e+00, 3.26269733e+00,\n",
       "        2.97252619e+00, 2.89523830e+00, 2.23258551e+00, 2.15782042e+00,\n",
       "        1.35768001e+00, 8.50305177e-01],\n",
       "       [9.58340955e+00, 1.54692646e+01, 2.05206130e+01, 2.53744550e+01,\n",
       "        3.00849053e+01, 3.45766794e+01, 3.88619316e+01, 4.30917187e+01,\n",
       "        4.71838828e+01, 5.11329215e+01, 5.50162704e+01, 5.88509222e+01,\n",
       "        6.26719689e+01, 6.64758008e+01, 7.02241241e+01, 7.38938527e+01,\n",
       "        7.75033293e+01, 8.09489401e+01, 8.42711471e+01, 8.75338444e+01,\n",
       "        9.05063706e+01, 9.34016089e+01, 9.56341944e+01, 9.77920148e+01,\n",
       "        9.91496948e+01, 1.00000000e+02]])"
      ]
     },
     "execution_count": 48,
     "metadata": {},
     "output_type": "execute_result"
    }
   ],
   "source": [
    "acm.eig_"
   ]
  },
  {
   "cell_type": "code",
   "execution_count": 49,
   "metadata": {},
   "outputs": [],
   "source": [
    "eigenvalues = acm.eig_"
   ]
  },
  {
   "cell_type": "code",
   "execution_count": 50,
   "metadata": {},
   "outputs": [
    {
     "data": {
      "image/png": "[encoded data removed]",
      "text/plain": [
       "<Figure size 1000x600 with 1 Axes>"
      ]
     },
     "metadata": {},
     "output_type": "display_data"
    }
   ],
   "source": [
    "# Obtenir les valeurs propres associées à chaque composante principale\n",
    "eigenvalues = acm.eig_\n",
    "\n",
    "# Calculer le pourcentage de chaque valeur propre\n",
    "total_variance = sum(eigenvalues[0])\n",
    "percentage_var = [(value / total_variance) * 100 for value in eigenvalues[0]]\n",
    "\n",
    "# Utiliser une palette de couleurs Seaborn et inverser l'ordre\n",
    "sns.set(style=\"whitegrid\")\n",
    "palette = sns.color_palette(\"BuGn\", len(percentage_var))\n",
    "palette = palette[::-1]  # Inverser l'ordre des couleurs\n",
    "\n",
    "# Tracer le diagramme en barres des valeurs propres en pourcentage\n",
    "plt.figure(figsize=(10, 6))\n",
    "bars = plt.bar(range(1, len(percentage_var) + 1), percentage_var, color=palette, edgecolor='black')\n",
    "plt.xlabel('Composante Principale')\n",
    "plt.ylabel('Pourcentage de Variance Expliquée')\n",
    "plt.title('Diagramme en Barres des Valeurs Propres en Pourcentage - ACM')\n",
    "\n",
    "# Définir les ticks de l'axe x avec des valeurs entières\n",
    "plt.xticks(range(1, len(percentage_var) + 1))\n",
    "\n",
    "# Ajouter les étiquettes de valeur uniquement pour les deux premières barres\n",
    "for i, (bar, value) in enumerate(zip(bars, percentage_var)):\n",
    "    if i < 2:\n",
    "        plt.text(bar.get_x() + bar.get_width() / 2, bar.get_height() + 0.2, f'{value:.2f}%',\n",
    "                 ha='center', va='bottom', color='black', fontsize = 8)\n",
    "\n",
    "plt.show()"
   ]
  },
  {
   "cell_type": "code",
   "execution_count": 51,
   "metadata": {},
   "outputs": [
    {
     "data": {
      "text/plain": [
       "Index(['col_coord_dim1', 'col_coord_dim2', 'col_coord_dim3', 'col_coord_dim4',\n",
       "       'col_coord_dim5', 'col_coord_dim6', 'col_coord_dim7', 'col_coord_dim8',\n",
       "       'col_coord_dim9', 'col_coord_dim10', 'col_coord_dim11',\n",
       "       'col_coord_dim12', 'col_coord_dim13', 'col_coord_dim14',\n",
       "       'col_coord_dim15', 'col_coord_dim16', 'col_coord_dim17',\n",
       "       'col_coord_dim18', 'col_coord_dim19', 'col_coord_dim20',\n",
       "       'col_coord_dim21', 'col_coord_dim22', 'col_coord_dim23',\n",
       "       'col_coord_dim24', 'col_coord_dim25', 'col_coord_dim26',\n",
       "       'col_contrib_dim1', 'col_contrib_dim2', 'col_contrib_dim3',\n",
       "       'col_contrib_dim4', 'col_contrib_dim5', 'col_contrib_dim6',\n",
       "       'col_contrib_dim7', 'col_contrib_dim8', 'col_contrib_dim9',\n",
       "       'col_contrib_dim10', 'col_contrib_dim11', 'col_contrib_dim12',\n",
       "       'col_contrib_dim13', 'col_contrib_dim14', 'col_contrib_dim15',\n",
       "       'col_contrib_dim16', 'col_contrib_dim17', 'col_contrib_dim18',\n",
       "       'col_contrib_dim19', 'col_contrib_dim20', 'col_contrib_dim21',\n",
       "       'col_contrib_dim22', 'col_contrib_dim23', 'col_contrib_dim24',\n",
       "       'col_contrib_dim25', 'col_contrib_dim26', 'col_cos2_dim1',\n",
       "       'col_cos2_dim2', 'col_cos2_dim3', 'col_cos2_dim4', 'col_cos2_dim5',\n",
       "       'col_cos2_dim6', 'col_cos2_dim7', 'col_cos2_dim8', 'col_cos2_dim9',\n",
       "       'col_cos2_dim10', 'col_cos2_dim11', 'col_cos2_dim12', 'col_cos2_dim13',\n",
       "       'col_cos2_dim14', 'col_cos2_dim15', 'col_cos2_dim16', 'col_cos2_dim17',\n",
       "       'col_cos2_dim18', 'col_cos2_dim19', 'col_cos2_dim20', 'col_cos2_dim21',\n",
       "       'col_cos2_dim22', 'col_cos2_dim23', 'col_cos2_dim24', 'col_cos2_dim25',\n",
       "       'col_cos2_dim26'],\n",
       "      dtype='object')"
      ]
     },
     "execution_count": 51,
     "metadata": {},
     "output_type": "execute_result"
    }
   ],
   "source": [
    "info_col = acm.col_topandas()\n",
    "info_col.columns"
   ]
  },
  {
   "cell_type": "code",
   "execution_count": 53,
   "metadata": {},
   "outputs": [
    {
     "name": "stdout",
     "output_type": "stream",
     "text": [
      "                        col_coord_dim1  col_coord_dim2\n",
      "col0_F                        0.775064       -0.066935\n",
      "col0_M                       -0.579815        0.050073\n",
      "col1_Afrique                  0.076461       -0.095710\n",
      "col1_Amérique centrale        0.310623       -0.622489\n",
      "col1_Amérique du Nord        -0.026556        0.126271\n",
      "col1_Amérique du Sud         -0.008666        0.054251\n",
      "col1_Asie                     0.402108       -0.120974\n",
      "col1_Europe                  -0.133420        0.024361\n",
      "col1_Océanie                 -0.211734        0.027390\n",
      "col2_Athlétisme               0.140226       -0.257713\n",
      "col2_Autres sports           -0.023925       -0.852073\n",
      "col2_Combat                  -0.077660       -0.018623\n",
      "col2_Gymnastique              1.549998        1.142001\n",
      "col2_Natation                 0.006708        0.359253\n",
      "col2_Raquette                 0.210559       -0.697415\n",
      "col2_Sport collectif         -0.530826        0.401432\n",
      "col2_Sur l'eau               -0.521042        0.044232\n",
      "col3_Bronze                  -0.300099        0.226059\n",
      "col3_Gold                    -0.329603        0.304585\n",
      "col3_Pas_de_médaille          0.055817       -0.046746\n",
      "col3_Silver                  -0.321179        0.266900\n",
      "col4_21 - 24 ans             -0.022689        0.025696\n",
      "col4_25-32 ans               -0.225723       -0.052657\n",
      "col4_< 21 ans                 0.914569        0.655282\n",
      "col4_> 32 ans                -0.272528       -0.774183\n",
      "col5_165 - 172 cm             0.696897       -0.258297\n",
      "col5_173 - 185 cm            -0.325022       -0.723100\n",
      "col5_< 165 cm                 1.426174        0.792010\n",
      "col5_> 185 cm                -1.203836        1.156431\n",
      "col6_65 - 73 kg              -0.079046       -0.963406\n",
      "col6_74 - 80 kg              -0.636511       -0.557932\n",
      "col6_< 65 kg                  1.044633        0.246658\n",
      "col6_> 80 kg                 -1.136630        0.900944\n"
     ]
    }
   ],
   "source": [
    "coord_col = info_col[['col_coord_dim1', 'col_coord_dim2']]\n",
    "print(coord_col)"
   ]
  },
  {
   "cell_type": "code",
   "execution_count": 54,
   "metadata": {},
   "outputs": [
    {
     "data": {
      "text/html": [
       "<div>\n",
       "<style scoped>\n",
       "    .dataframe tbody tr th:only-of-type {\n",
       "        vertical-align: middle;\n",
       "    }\n",
       "\n",
       "    .dataframe tbody tr th {\n",
       "        vertical-align: top;\n",
       "    }\n",
       "\n",
       "    .dataframe thead th {\n",
       "        text-align: right;\n",
       "    }\n",
       "</style>\n",
       "<table border=\"1\" class=\"dataframe\">\n",
       "  <thead>\n",
       "    <tr style=\"text-align: right;\">\n",
       "      <th></th>\n",
       "      <th>col_contrib_dim1</th>\n",
       "      <th>col_contrib_dim2</th>\n",
       "    </tr>\n",
       "  </thead>\n",
       "  <tbody>\n",
       "    <tr>\n",
       "      <th>col0_F</th>\n",
       "      <td>10.317411</td>\n",
       "      <td>0.125288</td>\n",
       "    </tr>\n",
       "    <tr>\n",
       "      <th>col0_M</th>\n",
       "      <td>7.718313</td>\n",
       "      <td>0.093726</td>\n",
       "    </tr>\n",
       "    <tr>\n",
       "      <th>col1_Afrique</th>\n",
       "      <td>0.016084</td>\n",
       "      <td>0.041032</td>\n",
       "    </tr>\n",
       "    <tr>\n",
       "      <th>col1_Amérique centrale</th>\n",
       "      <td>0.023776</td>\n",
       "      <td>0.155470</td>\n",
       "    </tr>\n",
       "    <tr>\n",
       "      <th>col1_Amérique du Nord</th>\n",
       "      <td>0.003575</td>\n",
       "      <td>0.131613</td>\n",
       "    </tr>\n",
       "    <tr>\n",
       "      <th>col1_Amérique du Sud</th>\n",
       "      <td>0.000192</td>\n",
       "      <td>0.012225</td>\n",
       "    </tr>\n",
       "    <tr>\n",
       "      <th>col1_Asie</th>\n",
       "      <td>1.211321</td>\n",
       "      <td>0.178511</td>\n",
       "    </tr>\n",
       "    <tr>\n",
       "      <th>col1_Europe</th>\n",
       "      <td>0.345628</td>\n",
       "      <td>0.018762</td>\n",
       "    </tr>\n",
       "    <tr>\n",
       "      <th>col1_Océanie</th>\n",
       "      <td>0.116890</td>\n",
       "      <td>0.003185</td>\n",
       "    </tr>\n",
       "    <tr>\n",
       "      <th>col2_Athlétisme</th>\n",
       "      <td>0.145920</td>\n",
       "      <td>0.802492</td>\n",
       "    </tr>\n",
       "    <tr>\n",
       "      <th>col2_Autres sports</th>\n",
       "      <td>0.003468</td>\n",
       "      <td>7.161044</td>\n",
       "    </tr>\n",
       "    <tr>\n",
       "      <th>col2_Combat</th>\n",
       "      <td>0.026059</td>\n",
       "      <td>0.002440</td>\n",
       "    </tr>\n",
       "    <tr>\n",
       "      <th>col2_Gymnastique</th>\n",
       "      <td>7.918226</td>\n",
       "      <td>6.998568</td>\n",
       "    </tr>\n",
       "    <tr>\n",
       "      <th>col2_Natation</th>\n",
       "      <td>0.000236</td>\n",
       "      <td>1.100377</td>\n",
       "    </tr>\n",
       "    <tr>\n",
       "      <th>col2_Raquette</th>\n",
       "      <td>0.094254</td>\n",
       "      <td>1.683630</td>\n",
       "    </tr>\n",
       "    <tr>\n",
       "      <th>col2_Sport collectif</th>\n",
       "      <td>1.953020</td>\n",
       "      <td>1.818595</td>\n",
       "    </tr>\n",
       "    <tr>\n",
       "      <th>col2_Sur l'eau</th>\n",
       "      <td>1.288127</td>\n",
       "      <td>0.015115</td>\n",
       "    </tr>\n",
       "    <tr>\n",
       "      <th>col3_Bronze</th>\n",
       "      <td>0.186404</td>\n",
       "      <td>0.172218</td>\n",
       "    </tr>\n",
       "    <tr>\n",
       "      <th>col3_Gold</th>\n",
       "      <td>0.214622</td>\n",
       "      <td>0.298414</td>\n",
       "    </tr>\n",
       "    <tr>\n",
       "      <th>col3_Pas_de_médaille</th>\n",
       "      <td>0.106303</td>\n",
       "      <td>0.121397</td>\n",
       "    </tr>\n",
       "    <tr>\n",
       "      <th>col3_Silver</th>\n",
       "      <td>0.203044</td>\n",
       "      <td>0.228298</td>\n",
       "    </tr>\n",
       "    <tr>\n",
       "      <th>col4_21 - 24 ans</th>\n",
       "      <td>0.006237</td>\n",
       "      <td>0.013026</td>\n",
       "    </tr>\n",
       "    <tr>\n",
       "      <th>col4_25-32 ans</th>\n",
       "      <td>0.908006</td>\n",
       "      <td>0.080457</td>\n",
       "    </tr>\n",
       "    <tr>\n",
       "      <th>col4_&lt; 21 ans</th>\n",
       "      <td>4.986113</td>\n",
       "      <td>4.167687</td>\n",
       "    </tr>\n",
       "    <tr>\n",
       "      <th>col4_&gt; 32 ans</th>\n",
       "      <td>0.314584</td>\n",
       "      <td>4.133454</td>\n",
       "    </tr>\n",
       "    <tr>\n",
       "      <th>col5_165 - 172 cm</th>\n",
       "      <td>4.676773</td>\n",
       "      <td>1.046067</td>\n",
       "    </tr>\n",
       "    <tr>\n",
       "      <th>col5_173 - 185 cm</th>\n",
       "      <td>1.720622</td>\n",
       "      <td>13.866533</td>\n",
       "    </tr>\n",
       "    <tr>\n",
       "      <th>col5_&lt; 165 cm</th>\n",
       "      <td>12.139520</td>\n",
       "      <td>6.095766</td>\n",
       "    </tr>\n",
       "    <tr>\n",
       "      <th>col5_&gt; 185 cm</th>\n",
       "      <td>11.952811</td>\n",
       "      <td>17.959114</td>\n",
       "    </tr>\n",
       "    <tr>\n",
       "      <th>col6_65 - 73 kg</th>\n",
       "      <td>0.058232</td>\n",
       "      <td>14.084293</td>\n",
       "    </tr>\n",
       "    <tr>\n",
       "      <th>col6_74 - 80 kg</th>\n",
       "      <td>2.493680</td>\n",
       "      <td>3.119622</td>\n",
       "    </tr>\n",
       "    <tr>\n",
       "      <th>col6_&lt; 65 kg</th>\n",
       "      <td>16.350489</td>\n",
       "      <td>1.484236</td>\n",
       "    </tr>\n",
       "    <tr>\n",
       "      <th>col6_&gt; 80 kg</th>\n",
       "      <td>12.500061</td>\n",
       "      <td>12.787347</td>\n",
       "    </tr>\n",
       "  </tbody>\n",
       "</table>\n",
       "</div>"
      ],
      "text/plain": [
       "                        col_contrib_dim1  col_contrib_dim2\n",
       "col0_F                         10.317411          0.125288\n",
       "col0_M                          7.718313          0.093726\n",
       "col1_Afrique                    0.016084          0.041032\n",
       "col1_Amérique centrale          0.023776          0.155470\n",
       "col1_Amérique du Nord           0.003575          0.131613\n",
       "col1_Amérique du Sud            0.000192          0.012225\n",
       "col1_Asie                       1.211321          0.178511\n",
       "col1_Europe                     0.345628          0.018762\n",
       "col1_Océanie                    0.116890          0.003185\n",
       "col2_Athlétisme                 0.145920          0.802492\n",
       "col2_Autres sports              0.003468          7.161044\n",
       "col2_Combat                     0.026059          0.002440\n",
       "col2_Gymnastique                7.918226          6.998568\n",
       "col2_Natation                   0.000236          1.100377\n",
       "col2_Raquette                   0.094254          1.683630\n",
       "col2_Sport collectif            1.953020          1.818595\n",
       "col2_Sur l'eau                  1.288127          0.015115\n",
       "col3_Bronze                     0.186404          0.172218\n",
       "col3_Gold                       0.214622          0.298414\n",
       "col3_Pas_de_médaille            0.106303          0.121397\n",
       "col3_Silver                     0.203044          0.228298\n",
       "col4_21 - 24 ans                0.006237          0.013026\n",
       "col4_25-32 ans                  0.908006          0.080457\n",
       "col4_< 21 ans                   4.986113          4.167687\n",
       "col4_> 32 ans                   0.314584          4.133454\n",
       "col5_165 - 172 cm               4.676773          1.046067\n",
       "col5_173 - 185 cm               1.720622         13.866533\n",
       "col5_< 165 cm                  12.139520          6.095766\n",
       "col5_> 185 cm                  11.952811         17.959114\n",
       "col6_65 - 73 kg                 0.058232         14.084293\n",
       "col6_74 - 80 kg                 2.493680          3.119622\n",
       "col6_< 65 kg                   16.350489          1.484236\n",
       "col6_> 80 kg                   12.500061         12.787347"
      ]
     },
     "execution_count": 54,
     "metadata": {},
     "output_type": "execute_result"
    }
   ],
   "source": [
    "contrib_col = pd.DataFrame(info_col[['col_contrib_dim1', 'col_contrib_dim2']])\n",
    "contrib_col"
   ]
  },
  {
   "cell_type": "code",
   "execution_count": 61,
   "metadata": {},
   "outputs": [
    {
     "data": {
      "image/png": "[encoded data removed]",
      "text/plain": [
       "<Figure size 700x700 with 1 Axes>"
      ]
     },
     "metadata": {},
     "output_type": "display_data"
    }
   ],
   "source": [
    "#ACM -projection des colonnes\n",
    "import matplotlib.pyplot as plt\n",
    "\n",
    "fig, ax = plt.subplots(figsize=(7, 7))\n",
    "ax.axis([-2.2, +2.2, -1.2, +1.5])\n",
    "ax.plot([-2.2, +2.2], [0, 0], color=\"silver\", linestyle=\"--\")\n",
    "ax.plot([0, 0], [-2.2, +2.2], color='silver', linestyle=\"--\")\n",
    "ax.set_xlabel('Dim.1')\n",
    "ax.set_ylabel('Dim.2')\n",
    "plt.title(\"Modalité\")\n",
    "\n",
    "for x, y, lbl in zip(coord_col.iloc[:, 0], coord_col.iloc[:, 1], coord_col.index):\n",
    "    ax.text(x, y, lbl, horizontalalignment='center', verticalalignment='center', fontsize=7)\n",
    "\n",
    "plt.show()\n"
   ]
  },
  {
   "cell_type": "code",
   "execution_count": 65,
   "metadata": {},
   "outputs": [
    {
     "data": {
      "image/png": "[encoded data removed]",
      "text/plain": [
       "<Figure size 640x480 with 1 Axes>"
      ]
     },
     "metadata": {},
     "output_type": "display_data"
    }
   ],
   "source": [
    "#ACM -projection en couleur\n",
    "acm.mapping_col(num_x_axis = 1 , num_y_axis = 2)"
   ]
  }
 ],
 "metadata": {
  "kernelspec": {
   "display_name": "Python 3",
   "language": "python",
   "name": "python3"
  },
  "language_info": {
   "codemirror_mode": {
    "name": "ipython",
    "version": 3
   },
   "file_extension": ".py",
   "mimetype": "text/x-python",
   "name": "python",
   "nbconvert_exporter": "python",
   "pygments_lexer": "ipython3",
   "version": "3.11.7"
  }
 },
 "nbformat": 4,
 "nbformat_minor": 2
}
