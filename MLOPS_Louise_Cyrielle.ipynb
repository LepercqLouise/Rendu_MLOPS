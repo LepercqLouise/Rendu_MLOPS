{
 "cells": [
  {
   "cell_type": "markdown",
   "metadata": {},
   "source": [
    "# Lecture de données"
   ]
  },
  {
   "cell_type": "code",
   "execution_count": 9,
   "metadata": {},
   "outputs": [],
   "source": [
    "#lecture du fichier\n",
    "import pandas as pd\n",
    "import numpy as np\n",
    "base =  pd.read_csv(\"C:/Users/Cyrie/OneDrive/Bureau/M2_DS/S1/MLOPS/athlete_events.csv\")  \n"
   ]
  },
  {
   "cell_type": "markdown",
   "metadata": {},
   "source": [
    "# Filtre sur Summer"
   ]
  },
  {
   "cell_type": "code",
   "execution_count": 65,
   "metadata": {},
   "outputs": [
    {
     "name": "stdout",
     "output_type": "stream",
     "text": [
      "Nombre de lignes : 222552\n"
     ]
    }
   ],
   "source": [
    "#filtre sur Summer\n",
    "base_summer = base[base['Season'] == 'Summer']\n",
    "\n",
    "#nombre de ligne de notre df base après filtre du df base summer\n",
    "nombre_de_lignes1 = base_summer.shape[0]\n",
    "\n",
    "#affiche le nombre de lignes du df base summer 2000\n",
    "print(\"Nombre de lignes :\", nombre_de_lignes1)"
   ]
  },
  {
   "cell_type": "markdown",
   "metadata": {},
   "source": [
    "# Valeurs manquantes et abbérantes du df base_summer"
   ]
  },
  {
   "cell_type": "code",
   "execution_count": null,
   "metadata": {},
   "outputs": [],
   "source": [
    "#valeurs manquantes pour le df base summer\n",
    "valeurs_manquantes_par_variable1 = base_summer.isnull().sum()\n",
    "\n",
    "# Affichage du résultat pour le df base summer\n",
    "print(valeurs_manquantes_par_variable1)"
   ]
  },
  {
   "cell_type": "code",
   "execution_count": null,
   "metadata": {},
   "outputs": [],
   "source": [
    "#valeur abbérentes\n",
    "# Création de la figure et des axes\n",
    "plt.figure(figsize=(8, 6))\n",
    "\n",
    "###################AGE#####################\n",
    "# Création de la boîte à moustaches \n",
    "sns.boxplot(x=base_summer['Medal'], y=base_summer['Age'], color='#008030')\n",
    "\n",
    "# Titres et labels\n",
    "plt.title('Boîte à moustaches de la variable age selon la médaille')\n",
    "plt.xlabel('Médaille')\n",
    "plt.show()\n",
    "\n",
    "###################Height####################\n",
    "# Création de la boîte à moustaches \n",
    "sns.boxplot(x=base_summer['Medal'], y=base_summer['Height'], color='#008080')\n",
    "\n",
    "# Titres et labels\n",
    "plt.title('Boîte à moustaches de la variable taille selon la médaille')\n",
    "plt.xlabel('Médaille')\n",
    "plt.show()\n",
    "\n",
    "\n",
    "###################Weight####################\n",
    "# Création de la boîte à moustaches \n",
    "sns.boxplot(x=base_summer['Medal'], y=base_summer['Weight'], color='#008030')\n",
    "\n",
    "# Titres et labels\n",
    "plt.title('Boîte à moustaches de la variable poids selon la médaille')\n",
    "plt.xlabel('Médaille')\n",
    "plt.show()\n",
    "\n",
    "\n"
   ]
  },
  {
   "cell_type": "code",
   "execution_count": null,
   "metadata": {},
   "outputs": [],
   "source": [
    "#lecture des valeurs abbérantes\n",
    "# Filtre sur les enregistrements où l'âge est supérieur à 40 et inférieur à 11 ans\n",
    "base_summer_age_11_40 = base_summer[(base_summer['Age'] > 40) | (base_summer['Age'] < 11)]\n",
    "print(\"DataFrame pour l'âge entre 11 et 40 ans inclus:\")\n",
    "print(base_summer_age_11_40)\n",
    "\n",
    "# Filtre sur les enregistrements où la taille est inférieure à 145 cm et supérieure à 210 cm\n",
    "base_summer_height_145_210 = base_summer[(base_summer['Height'] > 210) | (base_summer['Height'] < 145)]\n",
    "print(\"\\nDataFrame pour la taille entre 145 et 210 cm inclus:\")\n",
    "print(base_summer_height_145_210)\n",
    "\n",
    "# Filtre sur les enregistrements où le poids est inférieur à 35 kg et supérieur à 118 kg\n",
    "base_summer_weight_35_118 = base_summer[(base_summer['Weight'] > 118) | (base_summer['Weight'] < 35)]\n",
    "print(\"\\nDataFrame pour le poids entre 35 et 118 kg inclus:\")\n",
    "print(base_summer_weight_35_118)\n"
   ]
  },
  {
   "cell_type": "markdown",
   "metadata": {},
   "source": [
    "# Regroupements"
   ]
  },
  {
   "cell_type": "code",
   "execution_count": null,
   "metadata": {},
   "outputs": [],
   "source": [
    "#voir la répartiton des variables quantitatives avant le regroupement\n",
    "###################YEAR####################\n",
    "plt.figure(figsize=(8, 6))\n",
    "sns.histplot(base_summer['Year'], bins=30, kde=True, color='#008030', stat='density', element='bars', common_norm=False)  # Utilisation du code hexadécimal pour un bleu canard foncé\n",
    "sns.kdeplot(base_summer['Year'], color='red', linewidth=2)  # Courbe KDE en rouge\n",
    "plt.title('Répartition de la variable année ')\n",
    "plt.xlabel('Année')\n",
    "plt.ylabel('Densité')\n",
    "plt.show()\n",
    "\n",
    "###################AGE#####################\n",
    "plt.figure(figsize=(8, 6))\n",
    "sns.histplot(base_summer['Age'], bins=30, kde=True, color='#008080', stat='density', element='bars', common_norm=False)  # Utilisation du code hexadécimal pour un bleu canard foncé\n",
    "sns.kdeplot(base_summer['Age'], color='red', linewidth=2)  # Courbe KDE en rouge\n",
    "plt.title('Répartition de la variable age ')\n",
    "plt.xlabel('Age')\n",
    "plt.ylabel('Densité')\n",
    "plt.show()\n",
    "\n",
    "###################HEIGHT#####################\n",
    "plt.figure(figsize=(8, 6))\n",
    "sns.histplot(base_summer['Height'], bins=30, kde=True, color='#008030', stat='density', element='bars', common_norm=False)  # Utilisation du code hexadécimal pour un bleu canard foncé\n",
    "sns.kdeplot(base_summer['Height'], color='red', linewidth=2)  # Courbe KDE en rouge\n",
    "plt.title('Répartition de la variable taille ')\n",
    "plt.xlabel('Taille')\n",
    "plt.ylabel('Densité')\n",
    "plt.show()\n",
    "\n",
    "###################WEIGHT#####################\n",
    "plt.figure(figsize=(8, 6))\n",
    "sns.histplot(base_summer['Weight'], bins=30, kde=True, color='#008030', stat='density', element='bars', common_norm=False)  # Utilisation du code hexadécimal pour un bleu canard foncé\n",
    "sns.kdeplot(base_summer['Weight'], color='red', linewidth=2)  # Courbe KDE en rouge\n",
    "plt.title('Répartition de la variable poids ')\n",
    "plt.xlabel('Poids')\n",
    "plt.ylabel('Densité')\n",
    "plt.show()"
   ]
  },
  {
   "cell_type": "code",
   "execution_count": null,
   "metadata": {},
   "outputs": [],
   "source": [
    "#faire les regrouepements sur les variables quantitatives\n",
    "###################AGE#####################\n",
    "#intervalles d'age\n",
    "intervalles = [0, 21, 25, 33, float('inf')]\n",
    "labels = ['< 21 ans', '21 - 24 ans', '25-32 ans', '> 32 ans']\n",
    "#nouvelle colonne \"Classe_age\" basée sur les intervalles définis\n",
    "base_summer['Classe_age'] = pd.cut(base_summer['Age'], bins=intervalles, labels=labels, right=False)\n",
    "#convertir la colonne \"Classe_age\" en catégorie si nécessaire\n",
    "base_summer['Classe _age'] = base_summer['Classe_age'].astype('category')\n",
    "#afficher les premières lignes du DataFrame avec la nouvelle colonne\n",
    "print(base_summer[['Age', 'Classe_age']].head(5))\n",
    "\n",
    "###################HEIGHT#####################\n",
    "intervalles_taille = [float('-inf'), 165, 173, 186, float('inf')]\n",
    "labels_taille = ['< 165 cm', '165 - 172 cm', '173 - 185 cm', '> 185 cm']\n",
    "base_summer['Classe_height'] = pd.cut(base_summer['Height'], bins=intervalles_taille, labels=labels_taille, right=False)\n",
    "base_summer['Classe_height'] = base_summer['Classe_height'].astype('category')\n",
    "print(base_summer[['Height', 'Classe_height']].head(5))\n",
    "\n",
    "###################WEIGHT#####################\n",
    "intervalles_poids = [float('-inf'), 65, 74, 81, float('inf')]\n",
    "labels_poids = ['< 65 kg', '65 - 73 kg', '74 - 80 kg', '> 80 kg']\n",
    "base_summer['Classe_weight'] = pd.cut(base_summer['Weight'], bins=intervalles_poids, labels=labels_poids, right=False)\n",
    "base_summer['Classe_weight'] = base_summer['Classe_weight'].astype('category')\n",
    "print(base_summer[['Weight', 'Classe_weight']].head(70))\n"
   ]
  },
  {
   "cell_type": "code",
   "execution_count": null,
   "metadata": {},
   "outputs": [],
   "source": [
    "#afficher les frequences de modalites pour les variables regroupes\n",
    "###################AGE#####################\n",
    "print(\"Fréquences de modalités pour la Classe âge:\")\n",
    "print(base_summer['Classe_age'].value_counts())\n",
    "\n",
    "###################HEIGHT#####################\n",
    "print(\"\\nFréquences de modalités pour la Classe taille:\")\n",
    "print(base_summer['Classe_height'].value_counts())\n",
    "\n",
    "###################WEIGHT#####################\n",
    "print(\"\\nFréquences de modalités pour la Classe poids:\")\n",
    "print(base_summer['Classe_weight'].value_counts())\n",
    "\n",
    "\n",
    "#fonction pour afficher les fréquences en pourcentage\n",
    "def print_percentage_counts(column_name):\n",
    "    percentages = base_summer[column_name].value_counts(normalize=True) * 100\n",
    "    print(f\"Fréquences en pourcentage pour la colonne '{column_name}':\")\n",
    "    print(percentages)\n",
    "\n",
    "# Afficher les fréquences en pourcentage pour la classe d'âge\n",
    "print_percentage_counts('Classe_age')\n",
    "\n",
    "# Afficher les fréquences en pourcentage pour la classe de taille\n",
    "print(\"\\n\")\n",
    "print_percentage_counts('Classe_height')\n",
    "\n",
    "# Afficher les fréquences en pourcentage pour la classe de poids\n",
    "print(\"\\n\")\n",
    "print_percentage_counts('Classe_weight')\n"
   ]
  },
  {
   "cell_type": "markdown",
   "metadata": {},
   "source": [
    "# Filtre les années 2000 et suppression de variable"
   ]
  },
  {
   "cell_type": "code",
   "execution_count": 69,
   "metadata": {},
   "outputs": [
    {
     "name": "stdout",
     "output_type": "stream",
     "text": [
      "Nombre de lignes : 67474\n"
     ]
    }
   ],
   "source": [
    "#filtre sur l annee sup ou egal a 2000\n",
    "base_summer_2000 = base_summer[base_summer['Year'] >= 2000]\n",
    "\n",
    "#nombre de ligne de notre df base après filtre du df base summer 2000\n",
    "nombre_de_lignes2 = base_summer_2000.shape[0]\n",
    "\n",
    "#affiche le nombre de lignes du df base summer 2000\n",
    "print(\"Nombre de lignes :\", nombre_de_lignes2)"
   ]
  },
  {
   "cell_type": "code",
   "execution_count": null,
   "metadata": {},
   "outputs": [],
   "source": [
    "# Supprimer les variables 'Team' et 'Season' du DataFrame base_summer_2000\n",
    "base_summer_2000 = base_summer_2000.drop(['Team', 'Season'], axis=1)\n",
    "\n",
    "# Afficher les premières lignes du DataFrame après la suppression\n",
    "print(base_summer_2000.head())"
   ]
  },
  {
   "cell_type": "markdown",
   "metadata": {},
   "source": [
    "# Valeurs manquantes du df base_summer_2000"
   ]
  },
  {
   "cell_type": "code",
   "execution_count": null,
   "metadata": {},
   "outputs": [],
   "source": [
    "#valeurs manquantes pour le df base summer 2000\n",
    "valeurs_manquantes_par_variable2 = base_summer_2000.isnull().sum()\n",
    "\n",
    "# Affichage du résultat pour le df base \n",
    "print(valeurs_manquantes_par_variable2)\n"
   ]
  },
  {
   "cell_type": "markdown",
   "metadata": {},
   "source": [
    "# Statistiques descriptives"
   ]
  },
  {
   "cell_type": "code",
   "execution_count": null,
   "metadata": {},
   "outputs": [],
   "source": [
    "#statistiques desc\n",
    "import seaborn as sns\n",
    "import matplotlib.pyplot as plt\n",
    "\n",
    "def create_bar_plot(data, x_variable, target_variable='Medal'):\n",
    "\n",
    "    # Create a bar plot\n",
    "    plt.figure(figsize=(12, 6))\n",
    "    sns.countplot(x=x_variable, hue=target_variable, data=data, palette='viridis')\n",
    "    plt.title(f'Count of {target_variable} by {x_variable}')\n",
    "    plt.xlabel(x_variable)\n",
    "    plt.ylabel('Count')\n",
    "    plt.xticks(rotation=45)\n",
    "    plt.legend(title=target_variable)\n",
    "    plt.show()\n",
    "\n",
    "# Example usage:\n",
    "# Assuming your DataFrame is named df\n",
    "create_bar_plot(base_summer, 'Sex')\n",
    "create_bar_plot(base_summer, 'Age')\n",
    "create_bar_plot(base_summer, 'Height')\n",
    "create_bar_plot(base_summer, 'Weight')\n",
    "create_bar_plot(base_summer, 'NOC')\n",
    "create_bar_plot(base_summer, 'Games')\n",
    "create_bar_plot(base_summer, 'Year')\n",
    "create_bar_plot(base_summer, 'City')\n",
    "create_bar_plot(base_summer, 'Sport')\n",
    "create_bar_plot(base_summer, 'Event')\n",
    "\n"
   ]
  }
 ],
 "metadata": {
  "kernelspec": {
   "display_name": "Python 3",
   "language": "python",
   "name": "python3"
  },
  "language_info": {
   "codemirror_mode": {
    "name": "ipython",
    "version": 3
   },
   "file_extension": ".py",
   "mimetype": "text/x-python",
   "name": "python",
   "nbconvert_exporter": "python",
   "pygments_lexer": "ipython3",
   "version": "3.11.7"
  }
 },
 "nbformat": 4,
 "nbformat_minor": 2
}
